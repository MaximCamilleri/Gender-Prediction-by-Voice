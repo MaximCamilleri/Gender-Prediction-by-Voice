{
 "cells": [
  {
   "attachments": {},
   "cell_type": "markdown",
   "metadata": {},
   "source": [
    "# Logistic Regression"
   ]
  },
  {
   "attachments": {},
   "cell_type": "markdown",
   "metadata": {},
   "source": [
    "### Imports\n"
   ]
  },
  {
   "cell_type": "code",
   "execution_count": 1,
   "metadata": {},
   "outputs": [],
   "source": [
    "import pandas as pd\n",
    "import matplotlib.pyplot as plt\n",
    "import numpy as np\n",
    "from sklearn.model_selection import train_test_split\n",
    "from sklearn.linear_model import LogisticRegression\n",
    "from sklearn.metrics import classification_report,accuracy_score, confusion_matrix, ConfusionMatrixDisplay\n",
    "import pickle\n",
    "from sklearn.model_selection import GridSearchCV\n",
    "import time"
   ]
  },
  {
   "attachments": {},
   "cell_type": "markdown",
   "metadata": {},
   "source": [
    "### Data Preparation"
   ]
  },
  {
   "cell_type": "code",
   "execution_count": 2,
   "metadata": {},
   "outputs": [],
   "source": [
    "df = pd.read_csv('Data/voice.csv')\n",
    "\n",
    "x = df.iloc[:,:-1]\n",
    "y = df.label"
   ]
  },
  {
   "attachments": {},
   "cell_type": "markdown",
   "metadata": {},
   "source": [
    "### Methodology"
   ]
  },
  {
   "cell_type": "code",
   "execution_count": 3,
   "metadata": {},
   "outputs": [],
   "source": [
    "x_train, x_test,y_train,y_test = train_test_split(x,y,test_size=0.2)"
   ]
  },
  {
   "cell_type": "code",
   "execution_count": 5,
   "metadata": {},
   "outputs": [
    {
     "name": "stdout",
     "output_type": "stream",
     "text": [
      "Fitting 5 folds for each of 20 candidates, totalling 100 fits\n",
      "[CV 1/5] END ............C=0.0001, max_iter=100;, score=0.501 total time=   0.0s\n",
      "[CV 2/5] END ............C=0.0001, max_iter=100;, score=0.501 total time=   0.0s\n",
      "[CV 3/5] END ............C=0.0001, max_iter=100;, score=0.501 total time=   0.0s\n",
      "[CV 4/5] END ............C=0.0001, max_iter=100;, score=0.501 total time=   0.0s\n",
      "[CV 5/5] END ............C=0.0001, max_iter=100;, score=0.502 total time=   0.0s\n",
      "[CV 1/5] END ...........C=0.0001, max_iter=1000;, score=0.501 total time=   0.0s\n",
      "[CV 2/5] END ...........C=0.0001, max_iter=1000;, score=0.501 total time=   0.0s\n",
      "[CV 3/5] END ...........C=0.0001, max_iter=1000;, score=0.501 total time=   0.0s\n",
      "[CV 4/5] END ...........C=0.0001, max_iter=1000;, score=0.501 total time=   0.0s\n",
      "[CV 5/5] END ...........C=0.0001, max_iter=1000;, score=0.502 total time=   0.0s\n",
      "[CV 1/5] END ..........C=0.0001, max_iter=10000;, score=0.501 total time=   0.0s\n",
      "[CV 2/5] END ..........C=0.0001, max_iter=10000;, score=0.501 total time=   0.0s\n",
      "[CV 3/5] END ..........C=0.0001, max_iter=10000;, score=0.501 total time=   0.0s\n",
      "[CV 4/5] END ..........C=0.0001, max_iter=10000;, score=0.501 total time=   0.0s\n",
      "[CV 5/5] END ..........C=0.0001, max_iter=10000;, score=0.502 total time=   0.0s\n",
      "[CV 1/5] END .........C=0.0001, max_iter=100000;, score=0.501 total time=   0.0s\n",
      "[CV 2/5] END .........C=0.0001, max_iter=100000;, score=0.501 total time=   0.0s\n",
      "[CV 3/5] END .........C=0.0001, max_iter=100000;, score=0.501 total time=   0.0s\n",
      "[CV 4/5] END .........C=0.0001, max_iter=100000;, score=0.501 total time=   0.0s\n",
      "[CV 5/5] END .........C=0.0001, max_iter=100000;, score=0.502 total time=   0.0s\n",
      "[CV 1/5] END ..............C=0.01, max_iter=100;, score=0.884 total time=   0.0s\n",
      "[CV 2/5] END ..............C=0.01, max_iter=100;, score=0.901 total time=   0.0s\n",
      "[CV 3/5] END ..............C=0.01, max_iter=100;, score=0.890 total time=   0.0s\n",
      "[CV 4/5] END ..............C=0.01, max_iter=100;, score=0.882 total time=   0.0s\n",
      "[CV 5/5] END ..............C=0.01, max_iter=100;, score=0.899 total time=   0.0s\n",
      "[CV 1/5] END .............C=0.01, max_iter=1000;, score=0.884 total time=   0.0s\n",
      "[CV 2/5] END .............C=0.01, max_iter=1000;, score=0.901 total time=   0.0s\n",
      "[CV 3/5] END .............C=0.01, max_iter=1000;, score=0.890 total time=   0.0s\n",
      "[CV 4/5] END .............C=0.01, max_iter=1000;, score=0.882 total time=   0.0s\n",
      "[CV 5/5] END .............C=0.01, max_iter=1000;, score=0.899 total time=   0.0s\n",
      "[CV 1/5] END ............C=0.01, max_iter=10000;, score=0.884 total time=   0.0s\n",
      "[CV 2/5] END ............C=0.01, max_iter=10000;, score=0.901 total time=   0.0s\n",
      "[CV 3/5] END ............C=0.01, max_iter=10000;, score=0.890 total time=   0.0s\n",
      "[CV 4/5] END ............C=0.01, max_iter=10000;, score=0.882 total time=   0.0s\n",
      "[CV 5/5] END ............C=0.01, max_iter=10000;, score=0.899 total time=   0.0s\n",
      "[CV 1/5] END ...........C=0.01, max_iter=100000;, score=0.884 total time=   0.0s\n",
      "[CV 2/5] END ...........C=0.01, max_iter=100000;, score=0.901 total time=   0.0s\n",
      "[CV 3/5] END ...........C=0.01, max_iter=100000;, score=0.890 total time=   0.0s\n",
      "[CV 4/5] END ...........C=0.01, max_iter=100000;, score=0.882 total time=   0.0s\n",
      "[CV 5/5] END ...........C=0.01, max_iter=100000;, score=0.899 total time=   0.0s\n",
      "[CV 1/5] END ...............C=1.0, max_iter=100;, score=0.903 total time=   0.0s\n",
      "[CV 2/5] END ...............C=1.0, max_iter=100;, score=0.935 total time=   0.0s\n",
      "[CV 3/5] END ...............C=1.0, max_iter=100;, score=0.919 total time=   0.0s\n",
      "[CV 4/5] END ...............C=1.0, max_iter=100;, score=0.913 total time=   0.0s\n",
      "[CV 5/5] END ...............C=1.0, max_iter=100;, score=0.919 total time=   0.0s\n",
      "[CV 1/5] END ..............C=1.0, max_iter=1000;, score=0.903 total time=   0.0s\n",
      "[CV 2/5] END ..............C=1.0, max_iter=1000;, score=0.935 total time=   0.0s\n",
      "[CV 3/5] END ..............C=1.0, max_iter=1000;, score=0.919 total time=   0.0s\n",
      "[CV 4/5] END ..............C=1.0, max_iter=1000;, score=0.913 total time=   0.0s\n",
      "[CV 5/5] END ..............C=1.0, max_iter=1000;, score=0.919 total time=   0.0s\n",
      "[CV 1/5] END .............C=1.0, max_iter=10000;, score=0.903 total time=   0.0s\n",
      "[CV 2/5] END .............C=1.0, max_iter=10000;, score=0.935 total time=   0.0s\n",
      "[CV 3/5] END .............C=1.0, max_iter=10000;, score=0.919 total time=   0.0s\n",
      "[CV 4/5] END .............C=1.0, max_iter=10000;, score=0.913 total time=   0.0s\n",
      "[CV 5/5] END .............C=1.0, max_iter=10000;, score=0.919 total time=   0.0s\n",
      "[CV 1/5] END ............C=1.0, max_iter=100000;, score=0.903 total time=   0.0s\n",
      "[CV 2/5] END ............C=1.0, max_iter=100000;, score=0.935 total time=   0.0s\n",
      "[CV 3/5] END ............C=1.0, max_iter=100000;, score=0.919 total time=   0.0s\n",
      "[CV 4/5] END ............C=1.0, max_iter=100000;, score=0.913 total time=   0.0s\n",
      "[CV 5/5] END ............C=1.0, max_iter=100000;, score=0.919 total time=   0.0s\n",
      "[CV 1/5] END .............C=100.0, max_iter=100;, score=0.964 total time=   0.0s\n",
      "[CV 2/5] END .............C=100.0, max_iter=100;, score=0.974 total time=   0.0s\n",
      "[CV 3/5] END .............C=100.0, max_iter=100;, score=0.976 total time=   0.0s\n",
      "[CV 4/5] END .............C=100.0, max_iter=100;, score=0.964 total time=   0.0s\n",
      "[CV 5/5] END .............C=100.0, max_iter=100;, score=0.966 total time=   0.0s\n",
      "[CV 1/5] END ............C=100.0, max_iter=1000;, score=0.964 total time=   0.0s\n",
      "[CV 2/5] END ............C=100.0, max_iter=1000;, score=0.974 total time=   0.0s\n",
      "[CV 3/5] END ............C=100.0, max_iter=1000;, score=0.976 total time=   0.0s\n",
      "[CV 4/5] END ............C=100.0, max_iter=1000;, score=0.964 total time=   0.0s\n",
      "[CV 5/5] END ............C=100.0, max_iter=1000;, score=0.966 total time=   0.0s\n",
      "[CV 1/5] END ...........C=100.0, max_iter=10000;, score=0.964 total time=   0.0s\n",
      "[CV 2/5] END ...........C=100.0, max_iter=10000;, score=0.974 total time=   0.0s\n",
      "[CV 3/5] END ...........C=100.0, max_iter=10000;, score=0.976 total time=   0.0s\n",
      "[CV 4/5] END ...........C=100.0, max_iter=10000;, score=0.964 total time=   0.0s\n",
      "[CV 5/5] END ...........C=100.0, max_iter=10000;, score=0.966 total time=   0.0s\n",
      "[CV 1/5] END ..........C=100.0, max_iter=100000;, score=0.964 total time=   0.0s\n",
      "[CV 2/5] END ..........C=100.0, max_iter=100000;, score=0.974 total time=   0.0s\n",
      "[CV 3/5] END ..........C=100.0, max_iter=100000;, score=0.976 total time=   0.0s\n",
      "[CV 4/5] END ..........C=100.0, max_iter=100000;, score=0.964 total time=   0.0s\n",
      "[CV 5/5] END ..........C=100.0, max_iter=100000;, score=0.966 total time=   0.0s\n",
      "[CV 1/5] END ...........C=10000.0, max_iter=100;, score=0.966 total time=   0.0s\n",
      "[CV 2/5] END ...........C=10000.0, max_iter=100;, score=0.974 total time=   0.0s\n",
      "[CV 3/5] END ...........C=10000.0, max_iter=100;, score=0.978 total time=   0.0s\n",
      "[CV 4/5] END ...........C=10000.0, max_iter=100;, score=0.966 total time=   0.0s\n",
      "[CV 5/5] END ...........C=10000.0, max_iter=100;, score=0.970 total time=   0.0s\n",
      "[CV 1/5] END ..........C=10000.0, max_iter=1000;, score=0.966 total time=   0.0s\n",
      "[CV 2/5] END ..........C=10000.0, max_iter=1000;, score=0.974 total time=   0.0s\n",
      "[CV 3/5] END ..........C=10000.0, max_iter=1000;, score=0.978 total time=   0.0s\n",
      "[CV 4/5] END ..........C=10000.0, max_iter=1000;, score=0.966 total time=   0.0s\n",
      "[CV 5/5] END ..........C=10000.0, max_iter=1000;, score=0.970 total time=   0.0s\n",
      "[CV 1/5] END .........C=10000.0, max_iter=10000;, score=0.966 total time=   0.0s\n",
      "[CV 2/5] END .........C=10000.0, max_iter=10000;, score=0.974 total time=   0.0s\n",
      "[CV 3/5] END .........C=10000.0, max_iter=10000;, score=0.978 total time=   0.0s\n",
      "[CV 4/5] END .........C=10000.0, max_iter=10000;, score=0.966 total time=   0.0s\n",
      "[CV 5/5] END .........C=10000.0, max_iter=10000;, score=0.970 total time=   0.0s\n",
      "[CV 1/5] END ........C=10000.0, max_iter=100000;, score=0.966 total time=   0.0s\n",
      "[CV 2/5] END ........C=10000.0, max_iter=100000;, score=0.974 total time=   0.0s\n",
      "[CV 3/5] END ........C=10000.0, max_iter=100000;, score=0.978 total time=   0.0s\n",
      "[CV 4/5] END ........C=10000.0, max_iter=100000;, score=0.966 total time=   0.0s\n",
      "[CV 5/5] END ........C=10000.0, max_iter=100000;, score=0.970 total time=   0.0s\n"
     ]
    },
    {
     "data": {
      "text/plain": [
       "GridSearchCV(estimator=LogisticRegression(),\n",
       "             param_grid={'C': array([1.e-04, 1.e-02, 1.e+00, 1.e+02, 1.e+04]),\n",
       "                         'max_iter': [100, 1000, 10000, 100000]},\n",
       "             verbose=3)"
      ]
     },
     "execution_count": 5,
     "metadata": {},
     "output_type": "execute_result"
    }
   ],
   "source": [
    "param_grid = {\n",
    "    'C' : np.logspace(-4, 4, 5),\n",
    "    'max_iter' : [100, 1000, 10000, 100000]\n",
    "}\n",
    "\n",
    "grid = GridSearchCV(LogisticRegression(), param_grid, refit = True, verbose = 3)\n",
    "\n",
    "grid.fit(x_train, y_train)"
   ]
  },
  {
   "cell_type": "code",
   "execution_count": 6,
   "metadata": {},
   "outputs": [
    {
     "name": "stdout",
     "output_type": "stream",
     "text": [
      "Params: {'C': 10000.0, 'max_iter': 100}\n"
     ]
    }
   ],
   "source": [
    "print(f'Params: {grid.best_params_}')"
   ]
  },
  {
   "cell_type": "code",
   "execution_count": 4,
   "metadata": {},
   "outputs": [
    {
     "name": "stdout",
     "output_type": "stream",
     "text": [
      "Logistic Regression time to train: 1.2559 seconds\n"
     ]
    }
   ],
   "source": [
    "start_timer = time.perf_counter()\n",
    "LRmodel = LogisticRegression(max_iter=10000, C=10000.0)\n",
    "LRmodel.fit(x_train,y_train)\n",
    "pickle.dump(LRmodel, open(\"Models/LR.pickle\", \"wb\"))\n",
    "end_timer = time.perf_counter()\n",
    "print(f\"Logistic Regression time to train: {end_timer - start_timer:0.4f} seconds\")\n",
    "y_pred = LRmodel.predict(x_test)"
   ]
  },
  {
   "attachments": {},
   "cell_type": "markdown",
   "metadata": {},
   "source": [
    "### Evaluation"
   ]
  },
  {
   "attachments": {},
   "cell_type": "markdown",
   "metadata": {},
   "source": [
    "#### Accuracy"
   ]
  },
  {
   "cell_type": "code",
   "execution_count": 5,
   "metadata": {},
   "outputs": [
    {
     "name": "stdout",
     "output_type": "stream",
     "text": [
      "Log Reg Accuracy score:  97.79179810725552 %\n"
     ]
    }
   ],
   "source": [
    "print(\"Log Reg Accuracy score: \",accuracy_score(y_pred,y_test)*100,\"%\")"
   ]
  },
  {
   "attachments": {},
   "cell_type": "markdown",
   "metadata": {},
   "source": [
    "#### Confusion Matrix"
   ]
  },
  {
   "cell_type": "code",
   "execution_count": 6,
   "metadata": {},
   "outputs": [],
   "source": [
    "font = {'family' : 'normal',\n",
    "    'weight' : 'bold',\n",
    "    'size'   : 22}\n",
    "plt.rc('font', **font)"
   ]
  },
  {
   "cell_type": "code",
   "execution_count": 7,
   "metadata": {},
   "outputs": [
    {
     "data": {
      "text/plain": [
       "<sklearn.metrics._plot.confusion_matrix.ConfusionMatrixDisplay at 0x2007a40d0b8>"
      ]
     },
     "execution_count": 7,
     "metadata": {},
     "output_type": "execute_result"
    },
    {
     "name": "stderr",
     "output_type": "stream",
     "text": [
      "findfont: Font family ['normal'] not found. Falling back to DejaVu Sans.\n",
      "findfont: Font family ['normal'] not found. Falling back to DejaVu Sans.\n"
     ]
    },
    {
     "data": {
      "image/png": "[encoded data removed]",
      "text/plain": [
       "<Figure size 720x720 with 2 Axes>"
      ]
     },
     "metadata": {
      "needs_background": "light"
     },
     "output_type": "display_data"
    }
   ],
   "source": [
    "c = confusion_matrix(y_test, y_pred)\n",
    "cp = ConfusionMatrixDisplay(c, display_labels=[\"Male\", \"Female\"])\n",
    "fig, ax = plt.subplots(figsize=(10,10))\n",
    "cp.plot(ax = ax)"
   ]
  },
  {
   "attachments": {},
   "cell_type": "markdown",
   "metadata": {},
   "source": [
    "#### Classification Report"
   ]
  },
  {
   "cell_type": "code",
   "execution_count": 8,
   "metadata": {},
   "outputs": [
    {
     "name": "stdout",
     "output_type": "stream",
     "text": [
      "\t\t\tLogistic Regression report:\n",
      "               precision    recall  f1-score   support\n",
      "\n",
      "      female      0.966     0.986     0.976       292\n",
      "        male      0.988     0.971     0.979       342\n",
      "\n",
      "    accuracy                          0.978       634\n",
      "   macro avg      0.977     0.979     0.978       634\n",
      "weighted avg      0.978     0.978     0.978       634\n",
      "\n"
     ]
    }
   ],
   "source": [
    "print(\"\\t\\t\\tLogistic Regression report:\\n\", classification_report(y_pred,y_test, digits=3))"
   ]
  },
  {
   "attachments": {},
   "cell_type": "markdown",
   "metadata": {},
   "source": [
    "#### Feature Importance"
   ]
  },
  {
   "cell_type": "code",
   "execution_count": 9,
   "metadata": {},
   "outputs": [],
   "source": [
    "importances = abs(LRmodel.coef_[0])\n",
    "importances_total = sum(importances)\n",
    "for i in range(len(importances)):\n",
    "    importances[i] = (importances[i]/10000)*importances_total\n",
    "importances_df = pd.DataFrame({'Feature_names':x_train.columns, 'Importance':importances})\n",
    "importances_df = importances_df.sort_values(by=['Importance'], ascending=False)"
   ]
  },
  {
   "cell_type": "code",
   "execution_count": 10,
   "metadata": {},
   "outputs": [
    {
     "data": {
      "text/plain": [
       "Text(0, 0.5, 'Importance')"
      ]
     },
     "execution_count": 10,
     "metadata": {},
     "output_type": "execute_result"
    },
    {
     "name": "stderr",
     "output_type": "stream",
     "text": [
      "findfont: Font family ['normal'] not found. Falling back to DejaVu Sans.\n"
     ]
    },
    {
     "data": {
      "image/png": "[encoded data removed]",
      "text/plain": [
       "<Figure size 720x720 with 1 Axes>"
      ]
     },
     "metadata": {
      "needs_background": "light"
     },
     "output_type": "display_data"
    }
   ],
   "source": [
    "fig, ax = plt.subplots(figsize=(10,10))\n",
    "ax.grid(zorder=0)\n",
    "ax.bar(importances_df['Feature_names'], importances_df['Importance'], zorder=3)\n",
    "plt.xticks(rotation = 90) \n",
    "ax.set_title(\"Feature Importance Logistic Regression\")\n",
    "ax.set_ylabel(\"Importance\")"
   ]
  }
 ],
 "metadata": {
  "kernelspec": {
   "display_name": "Python 3",
   "language": "python",
   "name": "python3"
  },
  "language_info": {
   "codemirror_mode": {
    "name": "ipython",
    "version": 3
   },
   "file_extension": ".py",
   "mimetype": "text/x-python",
   "name": "python",
   "nbconvert_exporter": "python",
   "pygments_lexer": "ipython3",
   "version": "3.7.0 (v3.7.0:1bf9cc5093, Jun 27 2018, 04:59:51) [MSC v.1914 64 bit (AMD64)]"
  },
  "orig_nbformat": 4,
  "vscode": {
   "interpreter": {
    "hash": "ba52e550df5dd7c4d4156f043c0b54db698368195948b3b2935474e916126db8"
   }
  }
 },
 "nbformat": 4,
 "nbformat_minor": 2
}
