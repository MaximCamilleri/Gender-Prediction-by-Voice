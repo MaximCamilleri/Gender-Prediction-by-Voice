{
 "cells": [
  {
   "attachments": {},
   "cell_type": "markdown",
   "metadata": {},
   "source": [
    "# Artificial Neural Networks "
   ]
  },
  {
   "attachments": {},
   "cell_type": "markdown",
   "metadata": {},
   "source": [
    "### Imports"
   ]
  },
  {
   "cell_type": "code",
   "execution_count": 16,
   "metadata": {},
   "outputs": [],
   "source": [
    "import pandas as pd\n",
    "import matplotlib.pyplot as plt\n",
    "import numpy as np\n",
    "\n",
    "import torch\n",
    "from sklearn.preprocessing import StandardScaler\n",
    "from torch.utils.data import Dataset, DataLoader\n",
    "import sklearn.metrics\n",
    "import torch.optim as optim\n",
    "import shap\n",
    "import optuna\n",
    "import pickle\n",
    "import time"
   ]
  },
  {
   "attachments": {},
   "cell_type": "markdown",
   "metadata": {},
   "source": [
    "## Data Preparation"
   ]
  },
  {
   "cell_type": "code",
   "execution_count": 2,
   "metadata": {},
   "outputs": [],
   "source": [
    "df = pd.read_csv('Data/voice.csv')\n",
    "df['label'] = df['label'].replace(\"male\", \"0\")\n",
    "df['label'] = df['label'].replace(\"female\", \"1\")\n",
    "df['label'] = df['label'].astype(int)"
   ]
  },
  {
   "cell_type": "code",
   "execution_count": 3,
   "metadata": {},
   "outputs": [],
   "source": [
    "train, validate, test = np.split(df.sample(frac=1), [int(.8*len(df)), int(.9*len(df))])"
   ]
  },
  {
   "cell_type": "code",
   "execution_count": 4,
   "metadata": {},
   "outputs": [],
   "source": [
    "x_train = train.iloc[:,:-1]\n",
    "y_train = train.label\n",
    "x_test = test.iloc[:,:-1]\n",
    "y_test = test.label\n",
    "x_val = validate.iloc[:,:-1]\n",
    "y_val = validate.label\n",
    "\n",
    "sc = StandardScaler()\n",
    "x_train = sc.fit_transform(x_train)\n",
    "x_test = sc.fit_transform(x_test)\n",
    "x_val = sc.fit_transform(x_val)"
   ]
  },
  {
   "cell_type": "code",
   "execution_count": 5,
   "metadata": {},
   "outputs": [],
   "source": [
    "class dataset(Dataset):\n",
    "    def __init__(self, x, y):\n",
    "        self.x = torch.tensor(x, dtype=torch.float32)\n",
    "        self.y = torch.tensor(y.to_numpy(), dtype=torch.float32)\n",
    "        self.length = self.x.shape[0]\n",
    "    \n",
    "    def __getitem__(self, index):\n",
    "        return self.x[index], self.y[index]\n",
    "\n",
    "    def __len__(self):\n",
    "        return self.length\n",
    "\n",
    "trainset = dataset(x_train, y_train)\n",
    "trainloader = DataLoader(trainset, batch_size=64, shuffle=False)\n",
    "\n",
    "testset = dataset(x_test, y_test)\n",
    "testloader = DataLoader(testset, batch_size=8, shuffle=False)\n",
    "\n",
    "valset = dataset(x_val, y_val)\n",
    "valloader = DataLoader(valset, batch_size=8, shuffle=False)"
   ]
  },
  {
   "attachments": {},
   "cell_type": "markdown",
   "metadata": {},
   "source": [
    "## Methodology"
   ]
  },
  {
   "cell_type": "code",
   "execution_count": 6,
   "metadata": {},
   "outputs": [],
   "source": [
    "# Hyper Parameters\n",
    "learning_rate = 0.8601\n",
    "epochs = 80\n",
    "momentum = 0.2793\n",
    "patience = 30\n",
    "dropout_rate = 0.1801"
   ]
  },
  {
   "cell_type": "code",
   "execution_count": 20,
   "metadata": {},
   "outputs": [],
   "source": [
    "class GenderClassificationModel(torch.nn.Module):    \n",
    "    def __init__(self, input_shape, trials = None):\n",
    "        super().__init__()\n",
    "        if trials:\n",
    "            learning_rate = trials.suggest_float(\"learning_rate\", 0.0001, 1, step = 0.0001)\n",
    "            epochs = trials.suggest_int(\"epochs\", 20, 100)\n",
    "            momentum = trials.suggest_float(\"momentum\", 0.0001, 1, step = 0.0001)\n",
    "            patience = trials.suggest_int(\"patience\", 10, 50)\n",
    "            dropout_rate = trials.suggest_float(\"dropout_rate\", 0.0001, 1, step = 0.0001)\n",
    "    \n",
    "        self.fc1 = torch.nn.Linear(input_shape, 32)\n",
    "        self.fc2 = torch.nn.Linear(32, 64)\n",
    "        self.fc3 = torch.nn.Linear(64, 1)\n",
    "\n",
    "    def forward(self, x):\n",
    "        x = torch.relu(self.fc1(x))\n",
    "        x = torch.relu(self.fc2(x))\n",
    "        if self.training:\n",
    "            x = torch.nn.functional.dropout(x, dropout_rate)\n",
    "\n",
    "        return torch.sigmoid(self.fc3(x))"
   ]
  },
  {
   "cell_type": "code",
   "execution_count": 21,
   "metadata": {},
   "outputs": [],
   "source": [
    "model = GenderClassificationModel(input_shape = x_train.shape[1])\n",
    "optimizer = torch.optim.SGD(model.parameters(), lr = learning_rate, momentum=momentum)\n",
    "loss_fn = torch.nn.BCELoss()"
   ]
  },
  {
   "attachments": {},
   "cell_type": "markdown",
   "metadata": {},
   "source": [
    "## Hyperparameter Optimization"
   ]
  },
  {
   "cell_type": "code",
   "execution_count": 14,
   "metadata": {},
   "outputs": [],
   "source": [
    "def objective(trial):\n",
    "    model = GenderClassificationModel(x_train.shape[1], trial)\n",
    "    \n",
    "    optimizer_name = trial.suggest_categorical('optimizer', ['Adam', 'RMSprop', \"SGD\"])\n",
    "    optimizer = getattr(optim, optimizer_name)(model.parameters(), lr=learning_rate)\n",
    "    for epoch in range(epochs):\n",
    "        for j, (x, y) in enumerate(trainloader):\n",
    "            model.train()\n",
    "            output = model(x)\n",
    "\n",
    "            loss = loss_fn(output, y.reshape(-1, 1))\n",
    "\n",
    "            optimizer.zero_grad()\n",
    "            loss.backward()\n",
    "            optimizer.step()\n",
    "\n",
    "            model.eval()\n",
    "            with torch.no_grad():\n",
    "                for j, (x, y) in enumerate(valloader):\n",
    "                    output = model(x)\n",
    "                    loss = loss_fn(output, y.reshape(-1, 1))\n",
    "\n",
    "                    predicted = model(torch.tensor(x_val, dtype = torch.float32))\n",
    "                    acc = (predicted.reshape(-1).detach().numpy().round() == y_val).mean()\n",
    "\n",
    "        trial.report(acc, epoch)\n",
    "\n",
    "        if trial.should_prune():\n",
    "            raise optuna.exceptions.TrialPruned()\n",
    "    \n",
    "    return acc\n"
   ]
  },
  {
   "cell_type": "code",
   "execution_count": 15,
   "metadata": {},
   "outputs": [
    {
     "name": "stderr",
     "output_type": "stream",
     "text": [
      "\u001b[32m[I 2023-01-19 10:20:45,944]\u001b[0m A new study created in memory with name: no-name-f77d7019-23be-46c9-b7b4-c57ae35a4cc6\u001b[0m\n",
      "\u001b[32m[I 2023-01-19 10:23:25,980]\u001b[0m Trial 0 finished with value: 0.9810725552050473 and parameters: {'learning_rate': 0.8569, 'epochs': 81, 'momentum': 0.2556, 'patience': 12, 'dropout_rate': 0.1851, 'optimizer': 'Adam'}. Best is trial 0 with value: 0.9810725552050473.\u001b[0m\n",
      "\u001b[32m[I 2023-01-19 10:26:41,215]\u001b[0m Trial 1 finished with value: 0.9842271293375394 and parameters: {'learning_rate': 0.4602, 'epochs': 98, 'momentum': 0.1667, 'patience': 15, 'dropout_rate': 0.3257, 'optimizer': 'RMSprop'}. Best is trial 1 with value: 0.9842271293375394.\u001b[0m\n",
      "\u001b[32m[I 2023-01-19 10:29:55,395]\u001b[0m Trial 2 finished with value: 0.9842271293375394 and parameters: {'learning_rate': 0.992, 'epochs': 63, 'momentum': 0.8996000000000001, 'patience': 49, 'dropout_rate': 0.0197, 'optimizer': 'SGD'}. Best is trial 1 with value: 0.9842271293375394.\u001b[0m\n",
      "\u001b[32m[I 2023-01-19 10:33:13,459]\u001b[0m Trial 3 finished with value: 0.9747634069400631 and parameters: {'learning_rate': 0.7216, 'epochs': 100, 'momentum': 0.2181, 'patience': 46, 'dropout_rate': 0.6437, 'optimizer': 'RMSprop'}. Best is trial 1 with value: 0.9842271293375394.\u001b[0m\n",
      "\u001b[32m[I 2023-01-19 10:36:32,006]\u001b[0m Trial 4 finished with value: 0.9779179810725552 and parameters: {'learning_rate': 0.5998, 'epochs': 80, 'momentum': 0.4172, 'patience': 11, 'dropout_rate': 0.4215, 'optimizer': 'Adam'}. Best is trial 1 with value: 0.9842271293375394.\u001b[0m\n",
      "\u001b[32m[I 2023-01-19 10:39:42,635]\u001b[0m Trial 5 finished with value: 0.9810725552050473 and parameters: {'learning_rate': 0.5942000000000001, 'epochs': 20, 'momentum': 0.8351000000000001, 'patience': 19, 'dropout_rate': 0.1765, 'optimizer': 'Adam'}. Best is trial 1 with value: 0.9842271293375394.\u001b[0m\n",
      "\u001b[32m[I 2023-01-19 10:39:59,525]\u001b[0m Trial 6 pruned. \u001b[0m\n",
      "\u001b[32m[I 2023-01-19 10:41:48,794]\u001b[0m Trial 7 finished with value: 0.9810725552050473 and parameters: {'learning_rate': 0.2096, 'epochs': 71, 'momentum': 0.1373, 'patience': 20, 'dropout_rate': 0.46, 'optimizer': 'Adam'}. Best is trial 1 with value: 0.9842271293375394.\u001b[0m\n",
      "\u001b[32m[I 2023-01-19 10:41:50,526]\u001b[0m Trial 8 pruned. \u001b[0m\n",
      "\u001b[32m[I 2023-01-19 10:41:52,251]\u001b[0m Trial 9 pruned. \u001b[0m\n",
      "\u001b[32m[I 2023-01-19 10:41:53,979]\u001b[0m Trial 10 pruned. \u001b[0m\n",
      "\u001b[32m[I 2023-01-19 10:41:55,757]\u001b[0m Trial 11 pruned. \u001b[0m\n",
      "\u001b[32m[I 2023-01-19 10:41:57,537]\u001b[0m Trial 12 pruned. \u001b[0m\n",
      "\u001b[32m[I 2023-01-19 10:41:59,269]\u001b[0m Trial 13 pruned. \u001b[0m\n",
      "\u001b[32m[I 2023-01-19 10:42:01,168]\u001b[0m Trial 14 pruned. \u001b[0m\n",
      "\u001b[32m[I 2023-01-19 10:42:03,241]\u001b[0m Trial 15 pruned. \u001b[0m\n",
      "\u001b[32m[I 2023-01-19 10:42:05,269]\u001b[0m Trial 16 pruned. \u001b[0m\n",
      "\u001b[32m[I 2023-01-19 10:42:07,229]\u001b[0m Trial 17 pruned. \u001b[0m\n",
      "\u001b[32m[I 2023-01-19 10:42:09,086]\u001b[0m Trial 18 pruned. \u001b[0m\n",
      "\u001b[32m[I 2023-01-19 10:42:10,940]\u001b[0m Trial 19 pruned. \u001b[0m\n",
      "\u001b[32m[I 2023-01-19 10:42:12,768]\u001b[0m Trial 20 pruned. \u001b[0m\n",
      "\u001b[32m[I 2023-01-19 10:45:09,307]\u001b[0m Trial 21 finished with value: 0.9905362776025236 and parameters: {'learning_rate': 0.8601, 'epochs': 80, 'momentum': 0.2793, 'patience': 15, 'dropout_rate': 0.1801, 'optimizer': 'Adam'}. Best is trial 21 with value: 0.9905362776025236.\u001b[0m\n",
      "\u001b[32m[I 2023-01-19 10:45:13,240]\u001b[0m Trial 22 pruned. \u001b[0m\n",
      "\u001b[32m[I 2023-01-19 10:48:33,952]\u001b[0m Trial 23 finished with value: 0.9589905362776026 and parameters: {'learning_rate': 0.7044, 'epochs': 73, 'momentum': 0.2902, 'patience': 27, 'dropout_rate': 0.08750000000000001, 'optimizer': 'Adam'}. Best is trial 21 with value: 0.9905362776025236.\u001b[0m\n",
      "\u001b[32m[I 2023-01-19 10:48:36,033]\u001b[0m Trial 24 pruned. \u001b[0m\n",
      "\u001b[32m[I 2023-01-19 10:48:38,790]\u001b[0m Trial 25 pruned. \u001b[0m\n",
      "\u001b[32m[I 2023-01-19 10:48:45,493]\u001b[0m Trial 26 pruned. \u001b[0m\n",
      "\u001b[32m[I 2023-01-19 10:48:47,530]\u001b[0m Trial 27 pruned. \u001b[0m\n",
      "\u001b[32m[I 2023-01-19 10:48:53,240]\u001b[0m Trial 28 pruned. \u001b[0m\n",
      "\u001b[32m[I 2023-01-19 10:48:55,499]\u001b[0m Trial 29 pruned. \u001b[0m\n",
      "\u001b[32m[I 2023-01-19 10:48:57,512]\u001b[0m Trial 30 pruned. \u001b[0m\n",
      "\u001b[32m[I 2023-01-19 10:49:03,087]\u001b[0m Trial 31 pruned. \u001b[0m\n",
      "\u001b[32m[I 2023-01-19 10:49:05,216]\u001b[0m Trial 32 pruned. \u001b[0m\n",
      "\u001b[32m[I 2023-01-19 10:51:56,528]\u001b[0m Trial 33 finished with value: 0.9810725552050473 and parameters: {'learning_rate': 0.667, 'epochs': 82, 'momentum': 0.3414, 'patience': 19, 'dropout_rate': 0.1455, 'optimizer': 'Adam'}. Best is trial 21 with value: 0.9905362776025236.\u001b[0m\n",
      "\u001b[32m[I 2023-01-19 10:51:57,927]\u001b[0m Trial 34 pruned. \u001b[0m\n",
      "\u001b[32m[I 2023-01-19 10:51:59,377]\u001b[0m Trial 35 pruned. \u001b[0m\n",
      "\u001b[32m[I 2023-01-19 10:52:00,782]\u001b[0m Trial 36 pruned. \u001b[0m\n",
      "\u001b[32m[I 2023-01-19 10:52:02,134]\u001b[0m Trial 37 pruned. \u001b[0m\n",
      "\u001b[32m[I 2023-01-19 10:52:03,495]\u001b[0m Trial 38 pruned. \u001b[0m\n",
      "\u001b[32m[I 2023-01-19 10:52:05,001]\u001b[0m Trial 39 pruned. \u001b[0m\n",
      "\u001b[32m[I 2023-01-19 10:52:06,457]\u001b[0m Trial 40 pruned. \u001b[0m\n",
      "\u001b[32m[I 2023-01-19 10:52:08,350]\u001b[0m Trial 41 pruned. \u001b[0m\n",
      "\u001b[32m[I 2023-01-19 10:52:10,205]\u001b[0m Trial 42 pruned. \u001b[0m\n",
      "\u001b[32m[I 2023-01-19 10:54:25,849]\u001b[0m Trial 43 finished with value: 0.9842271293375394 and parameters: {'learning_rate': 0.1885, 'epochs': 60, 'momentum': 0.09140000000000001, 'patience': 24, 'dropout_rate': 0.3808, 'optimizer': 'Adam'}. Best is trial 21 with value: 0.9905362776025236.\u001b[0m\n",
      "\u001b[32m[I 2023-01-19 10:54:27,368]\u001b[0m Trial 44 pruned. \u001b[0m\n",
      "\u001b[32m[I 2023-01-19 10:54:28,925]\u001b[0m Trial 45 pruned. \u001b[0m\n",
      "\u001b[32m[I 2023-01-19 10:54:30,471]\u001b[0m Trial 46 pruned. \u001b[0m\n",
      "\u001b[32m[I 2023-01-19 10:56:06,856]\u001b[0m Trial 47 finished with value: 0.9905362776025236 and parameters: {'learning_rate': 0.3419, 'epochs': 86, 'momentum': 0.07100000000000001, 'patience': 24, 'dropout_rate': 0.3929, 'optimizer': 'Adam'}. Best is trial 21 with value: 0.9905362776025236.\u001b[0m\n",
      "\u001b[32m[I 2023-01-19 10:56:08,420]\u001b[0m Trial 48 pruned. \u001b[0m\n",
      "\u001b[32m[I 2023-01-19 10:56:09,908]\u001b[0m Trial 49 pruned. \u001b[0m\n",
      "\u001b[32m[I 2023-01-19 10:56:11,389]\u001b[0m Trial 50 pruned. \u001b[0m\n",
      "\u001b[32m[I 2023-01-19 10:57:54,057]\u001b[0m Trial 51 finished with value: 0.9873817034700315 and parameters: {'learning_rate': 0.204, 'epochs': 76, 'momentum': 0.1873, 'patience': 21, 'dropout_rate': 0.1745, 'optimizer': 'Adam'}. Best is trial 21 with value: 0.9905362776025236.\u001b[0m\n",
      "\u001b[32m[I 2023-01-19 10:59:41,556]\u001b[0m Trial 52 finished with value: 0.9779179810725552 and parameters: {'learning_rate': 0.2106, 'epochs': 76, 'momentum': 0.1321, 'patience': 21, 'dropout_rate': 0.0018000000000000002, 'optimizer': 'Adam'}. Best is trial 21 with value: 0.9905362776025236.\u001b[0m\n",
      "\u001b[32m[I 2023-01-19 10:59:43,637]\u001b[0m Trial 53 pruned. \u001b[0m\n",
      "\u001b[32m[I 2023-01-19 10:59:45,255]\u001b[0m Trial 54 pruned. \u001b[0m\n",
      "\u001b[32m[I 2023-01-19 10:59:47,658]\u001b[0m Trial 55 pruned. \u001b[0m\n",
      "\u001b[32m[I 2023-01-19 10:59:49,526]\u001b[0m Trial 56 pruned. \u001b[0m\n",
      "\u001b[32m[I 2023-01-19 10:59:52,004]\u001b[0m Trial 57 pruned. \u001b[0m\n",
      "\u001b[32m[I 2023-01-19 11:01:41,812]\u001b[0m Trial 58 finished with value: 0.9842271293375394 and parameters: {'learning_rate': 0.43320000000000003, 'epochs': 52, 'momentum': 0.1432, 'patience': 22, 'dropout_rate': 0.5929, 'optimizer': 'Adam'}. Best is trial 21 with value: 0.9905362776025236.\u001b[0m\n",
      "\u001b[32m[I 2023-01-19 11:01:43,350]\u001b[0m Trial 59 pruned. \u001b[0m\n",
      "\u001b[32m[I 2023-01-19 11:01:44,795]\u001b[0m Trial 60 pruned. \u001b[0m\n",
      "\u001b[32m[I 2023-01-19 11:01:46,365]\u001b[0m Trial 61 pruned. \u001b[0m\n",
      "\u001b[32m[I 2023-01-19 11:03:25,083]\u001b[0m Trial 62 finished with value: 0.9652996845425867 and parameters: {'learning_rate': 0.5503, 'epochs': 50, 'momentum': 0.2012, 'patience': 23, 'dropout_rate': 0.4137, 'optimizer': 'Adam'}. Best is trial 21 with value: 0.9905362776025236.\u001b[0m\n",
      "\u001b[32m[I 2023-01-19 11:03:26,898]\u001b[0m Trial 63 pruned. \u001b[0m\n",
      "\u001b[32m[I 2023-01-19 11:03:30,390]\u001b[0m Trial 64 pruned. \u001b[0m\n",
      "\u001b[32m[I 2023-01-19 11:03:32,858]\u001b[0m Trial 65 pruned. \u001b[0m\n",
      "\u001b[32m[I 2023-01-19 11:03:34,635]\u001b[0m Trial 66 pruned. \u001b[0m\n",
      "\u001b[32m[I 2023-01-19 11:05:15,157]\u001b[0m Trial 67 finished with value: 0.9810725552050473 and parameters: {'learning_rate': 0.334, 'epochs': 51, 'momentum': 0.3117, 'patience': 35, 'dropout_rate': 0.7108, 'optimizer': 'Adam'}. Best is trial 21 with value: 0.9905362776025236.\u001b[0m\n",
      "\u001b[32m[I 2023-01-19 11:05:17,299]\u001b[0m Trial 68 pruned. \u001b[0m\n",
      "\u001b[32m[I 2023-01-19 11:05:22,079]\u001b[0m Trial 69 pruned. \u001b[0m\n",
      "\u001b[32m[I 2023-01-19 11:05:24,434]\u001b[0m Trial 70 pruned. \u001b[0m\n",
      "\u001b[32m[I 2023-01-19 11:07:09,127]\u001b[0m Trial 71 finished with value: 0.9873817034700315 and parameters: {'learning_rate': 0.614, 'epochs': 82, 'momentum': 0.4063, 'patience': 19, 'dropout_rate': 0.1278, 'optimizer': 'Adam'}. Best is trial 21 with value: 0.9905362776025236.\u001b[0m\n",
      "\u001b[32m[I 2023-01-19 11:07:12,369]\u001b[0m Trial 72 pruned. \u001b[0m\n",
      "\u001b[32m[I 2023-01-19 11:07:16,157]\u001b[0m Trial 73 pruned. \u001b[0m\n",
      "\u001b[32m[I 2023-01-19 11:09:01,655]\u001b[0m Trial 74 finished with value: 0.9842271293375394 and parameters: {'learning_rate': 0.4732, 'epochs': 76, 'momentum': 0.3687, 'patience': 20, 'dropout_rate': 0.039700000000000006, 'optimizer': 'Adam'}. Best is trial 21 with value: 0.9905362776025236.\u001b[0m\n",
      "\u001b[32m[I 2023-01-19 11:09:03,454]\u001b[0m Trial 75 pruned. \u001b[0m\n",
      "\u001b[32m[I 2023-01-19 11:09:04,837]\u001b[0m Trial 76 pruned. \u001b[0m\n",
      "\u001b[32m[I 2023-01-19 11:09:06,309]\u001b[0m Trial 77 pruned. \u001b[0m\n",
      "\u001b[32m[I 2023-01-19 11:09:07,968]\u001b[0m Trial 78 pruned. \u001b[0m\n",
      "\u001b[32m[I 2023-01-19 11:09:09,408]\u001b[0m Trial 79 pruned. \u001b[0m\n",
      "\u001b[32m[I 2023-01-19 11:09:11,311]\u001b[0m Trial 80 pruned. \u001b[0m\n",
      "\u001b[32m[I 2023-01-19 11:09:13,016]\u001b[0m Trial 81 pruned. \u001b[0m\n",
      "\u001b[32m[I 2023-01-19 11:09:14,665]\u001b[0m Trial 82 pruned. \u001b[0m\n",
      "\u001b[32m[I 2023-01-19 11:09:16,222]\u001b[0m Trial 83 pruned. \u001b[0m\n",
      "\u001b[32m[I 2023-01-19 11:10:52,769]\u001b[0m Trial 84 finished with value: 0.9810725552050473 and parameters: {'learning_rate': 0.9783000000000001, 'epochs': 90, 'momentum': 0.08170000000000001, 'patience': 13, 'dropout_rate': 0.46490000000000004, 'optimizer': 'Adam'}. Best is trial 21 with value: 0.9905362776025236.\u001b[0m\n",
      "\u001b[32m[I 2023-01-19 11:10:54,486]\u001b[0m Trial 85 pruned. \u001b[0m\n",
      "\u001b[32m[I 2023-01-19 11:12:33,751]\u001b[0m Trial 86 finished with value: 0.9873817034700315 and parameters: {'learning_rate': 0.5545, 'epochs': 95, 'momentum': 0.223, 'patience': 24, 'dropout_rate': 0.2516, 'optimizer': 'Adam'}. Best is trial 21 with value: 0.9905362776025236.\u001b[0m\n",
      "\u001b[32m[I 2023-01-19 11:12:35,287]\u001b[0m Trial 87 pruned. \u001b[0m\n",
      "\u001b[32m[I 2023-01-19 11:12:36,740]\u001b[0m Trial 88 pruned. \u001b[0m\n",
      "\u001b[32m[I 2023-01-19 11:12:38,310]\u001b[0m Trial 89 pruned. \u001b[0m\n",
      "\u001b[32m[I 2023-01-19 11:12:40,494]\u001b[0m Trial 90 pruned. \u001b[0m\n",
      "\u001b[32m[I 2023-01-19 11:14:18,116]\u001b[0m Trial 91 finished with value: 0.9779179810725552 and parameters: {'learning_rate': 0.49360000000000004, 'epochs': 100, 'momentum': 0.2444, 'patience': 22, 'dropout_rate': 0.3852, 'optimizer': 'Adam'}. Best is trial 21 with value: 0.9905362776025236.\u001b[0m\n",
      "\u001b[32m[I 2023-01-19 11:14:19,910]\u001b[0m Trial 92 pruned. \u001b[0m\n",
      "\u001b[32m[I 2023-01-19 11:14:21,600]\u001b[0m Trial 93 pruned. \u001b[0m\n",
      "\u001b[32m[I 2023-01-19 11:16:06,153]\u001b[0m Trial 94 finished with value: 0.9873817034700315 and parameters: {'learning_rate': 0.5437, 'epochs': 60, 'momentum': 0.2628, 'patience': 17, 'dropout_rate': 0.193, 'optimizer': 'Adam'}. Best is trial 21 with value: 0.9905362776025236.\u001b[0m\n",
      "\u001b[32m[I 2023-01-19 11:16:07,777]\u001b[0m Trial 95 pruned. \u001b[0m\n",
      "\u001b[32m[I 2023-01-19 11:16:09,416]\u001b[0m Trial 96 pruned. \u001b[0m\n",
      "\u001b[32m[I 2023-01-19 11:16:11,161]\u001b[0m Trial 97 pruned. \u001b[0m\n",
      "\u001b[32m[I 2023-01-19 11:17:42,230]\u001b[0m Trial 98 finished with value: 0.9810725552050473 and parameters: {'learning_rate': 0.9203, 'epochs': 54, 'momentum': 0.2528, 'patience': 20, 'dropout_rate': 0.1048, 'optimizer': 'Adam'}. Best is trial 21 with value: 0.9905362776025236.\u001b[0m\n",
      "\u001b[32m[I 2023-01-19 11:17:43,585]\u001b[0m Trial 99 pruned. \u001b[0m\n"
     ]
    },
    {
     "name": "stdout",
     "output_type": "stream",
     "text": [
      "Accuracy: 0.9905362776025236\n",
      "Best Hyperparameters: {'learning_rate': 0.8601, 'epochs': 80, 'momentum': 0.2793, 'patience': 15, 'dropout_rate': 0.1801, 'optimizer': 'Adam'}\n"
     ]
    }
   ],
   "source": [
    "study = optuna.create_study(direction = \"maximize\")\n",
    "study.optimize(objective, n_trials=100)\n",
    "\n",
    "trial = study.best_trial\n",
    "print(f'Accuracy: {trial.value}')\n",
    "print(f'Best Hyperparameters: {trial.params}')"
   ]
  },
  {
   "attachments": {},
   "cell_type": "markdown",
   "metadata": {},
   "source": [
    "## Training"
   ]
  },
  {
   "cell_type": "code",
   "execution_count": 22,
   "metadata": {},
   "outputs": [
    {
     "name": "stdout",
     "output_type": "stream",
     "text": [
      "epoch 10\ttraining_loss : 0.032204002141952515\t training_accuracy : 0.978689818468824\n",
      "epoch 20\ttraining_loss : 0.005756503436714411\t training_accuracy : 0.9806629834254144\n",
      "epoch 30\ttraining_loss : 0.007721050176769495\t training_accuracy : 0.9940805051302289\n",
      "epoch 40\ttraining_loss : 0.006982761900871992\t training_accuracy : 0.9976322020520916\n",
      "epoch 50\ttraining_loss : 0.005677437409758568\t training_accuracy : 0.9964483030781374\n",
      "ANN time to train: 10.5490 seconds\n"
     ]
    }
   ],
   "source": [
    "train_losses = []\n",
    "train_accur = []\n",
    "val_losses = []\n",
    "val_accur = []\n",
    "test_losses = []\n",
    "test_accur = []\n",
    "\n",
    "best_val_acc = 0.0\n",
    "\n",
    "start_timer = time.perf_counter()\n",
    "for i in range(epochs):\n",
    "    for j, (x, y) in enumerate(trainloader):\n",
    "        model.train()\n",
    "        output = model(x)\n",
    "\n",
    "        loss = loss_fn(output, y.reshape(-1, 1))\n",
    "\n",
    "        predicted = model(torch.tensor(x_train, dtype = torch.float32))\n",
    "        acc = (predicted.reshape(-1).detach().numpy().round() == y_train).mean()\n",
    "\n",
    "        optimizer.zero_grad()\n",
    "        loss.backward()\n",
    "        optimizer.step()\n",
    "    \n",
    "    train_losses.append(loss.detach().numpy())\n",
    "    train_accur.append(acc)\n",
    "\n",
    "    if i>0 and i % 10 == 0:\n",
    "        print(\"epoch {}\\ttraining_loss : {}\\t training_accuracy : {}\".format(i,loss,acc))\n",
    "        \n",
    "\n",
    "    model.eval()\n",
    "    with torch.no_grad():\n",
    "        for j, (x, y) in enumerate(valloader):\n",
    "            output = model(x)\n",
    "            loss = loss_fn(output, y.reshape(-1, 1))\n",
    "\n",
    "            predicted = model(torch.tensor(x_val, dtype = torch.float32))\n",
    "            acc = (predicted.reshape(-1).detach().numpy().round() == y_val).mean()\n",
    "\n",
    "        if acc > best_val_acc:\n",
    "            torch.save(model, 'Models/ANN.pth')\n",
    "            best_val_acc = acc\n",
    "            num_bad_epochs = 0\n",
    "        else:\n",
    "            num_bad_epochs += 1\n",
    "            if num_bad_epochs == patience:\n",
    "                break\n",
    "\n",
    "        val_accur.append(acc)\n",
    "        val_losses.append(loss)\n",
    "\n",
    "best_model = torch.load('Models/ANN.pth')\n",
    "pickle.dump(best_model, open(\"Models/ANN.pickle\", \"wb\"))\n",
    "end_timer = time.perf_counter()\n",
    "print(f\"ANN time to train: {end_timer - start_timer:0.4f} seconds\")\n",
    "    "
   ]
  },
  {
   "attachments": {},
   "cell_type": "markdown",
   "metadata": {},
   "source": [
    "## Hyperparameter Optimization Evaluation\n",
    "### Parameter Importance "
   ]
  },
  {
   "cell_type": "code",
   "execution_count": 20,
   "metadata": {},
   "outputs": [
    {
     "data": {
      "application/vnd.plotly.v1+json": {
       "config": {
        "plotlyServerURL": "https://plot.ly"
       },
       "data": [
        {
         "cliponaxis": false,
         "hovertemplate": [
          "optimizer (CategoricalDistribution): 0.049346388308528694<extra></extra>",
          "momentum (FloatDistribution): 0.08528657959982065<extra></extra>",
          "learning_rate (FloatDistribution): 0.1220561582369633<extra></extra>",
          "dropout_rate (FloatDistribution): 0.18773344468136727<extra></extra>",
          "patience (IntDistribution): 0.2754902544739511<extra></extra>",
          "epochs (IntDistribution): 0.280087174699369<extra></extra>"
         ],
         "marker": {
          "color": "rgb(66,146,198)"
         },
         "orientation": "h",
         "text": [
          "0.05",
          "0.09",
          "0.12",
          "0.19",
          "0.28",
          "0.28"
         ],
         "textposition": "outside",
         "type": "bar",
         "x": [
          0.049346388308528694,
          0.08528657959982065,
          0.1220561582369633,
          0.18773344468136727,
          0.2754902544739511,
          0.280087174699369
         ],
         "y": [
          "optimizer",
          "momentum",
          "learning_rate",
          "dropout_rate",
          "patience",
          "epochs"
         ]
        }
       ],
       "layout": {
        "showlegend": false,
        "template": {
         "data": {
          "bar": [
           {
            "error_x": {
             "color": "#2a3f5f"
            },
            "error_y": {
             "color": "#2a3f5f"
            },
            "marker": {
             "line": {
              "color": "#E5ECF6",
              "width": 0.5
             },
             "pattern": {
              "fillmode": "overlay",
              "size": 10,
              "solidity": 0.2
             }
            },
            "type": "bar"
           }
          ],
          "barpolar": [
           {
            "marker": {
             "line": {
              "color": "#E5ECF6",
              "width": 0.5
             },
             "pattern": {
              "fillmode": "overlay",
              "size": 10,
              "solidity": 0.2
             }
            },
            "type": "barpolar"
           }
          ],
          "carpet": [
           {
            "aaxis": {
             "endlinecolor": "#2a3f5f",
             "gridcolor": "white",
             "linecolor": "white",
             "minorgridcolor": "white",
             "startlinecolor": "#2a3f5f"
            },
            "baxis": {
             "endlinecolor": "#2a3f5f",
             "gridcolor": "white",
             "linecolor": "white",
             "minorgridcolor": "white",
             "startlinecolor": "#2a3f5f"
            },
            "type": "carpet"
           }
          ],
          "choropleth": [
           {
            "colorbar": {
             "outlinewidth": 0,
             "ticks": ""
            },
            "type": "choropleth"
           }
          ],
          "contour": [
           {
            "colorbar": {
             "outlinewidth": 0,
             "ticks": ""
            },
            "colorscale": [
             [
              0,
              "#0d0887"
             ],
             [
              0.1111111111111111,
              "#46039f"
             ],
             [
              0.2222222222222222,
              "#7201a8"
             ],
             [
              0.3333333333333333,
              "#9c179e"
             ],
             [
              0.4444444444444444,
              "#bd3786"
             ],
             [
              0.5555555555555556,
              "#d8576b"
             ],
             [
              0.6666666666666666,
              "#ed7953"
             ],
             [
              0.7777777777777778,
              "#fb9f3a"
             ],
             [
              0.8888888888888888,
              "#fdca26"
             ],
             [
              1,
              "#f0f921"
             ]
            ],
            "type": "contour"
           }
          ],
          "contourcarpet": [
           {
            "colorbar": {
             "outlinewidth": 0,
             "ticks": ""
            },
            "type": "contourcarpet"
           }
          ],
          "heatmap": [
           {
            "colorbar": {
             "outlinewidth": 0,
             "ticks": ""
            },
            "colorscale": [
             [
              0,
              "#0d0887"
             ],
             [
              0.1111111111111111,
              "#46039f"
             ],
             [
              0.2222222222222222,
              "#7201a8"
             ],
             [
              0.3333333333333333,
              "#9c179e"
             ],
             [
              0.4444444444444444,
              "#bd3786"
             ],
             [
              0.5555555555555556,
              "#d8576b"
             ],
             [
              0.6666666666666666,
              "#ed7953"
             ],
             [
              0.7777777777777778,
              "#fb9f3a"
             ],
             [
              0.8888888888888888,
              "#fdca26"
             ],
             [
              1,
              "#f0f921"
             ]
            ],
            "type": "heatmap"
           }
          ],
          "heatmapgl": [
           {
            "colorbar": {
             "outlinewidth": 0,
             "ticks": ""
            },
            "colorscale": [
             [
              0,
              "#0d0887"
             ],
             [
              0.1111111111111111,
              "#46039f"
             ],
             [
              0.2222222222222222,
              "#7201a8"
             ],
             [
              0.3333333333333333,
              "#9c179e"
             ],
             [
              0.4444444444444444,
              "#bd3786"
             ],
             [
              0.5555555555555556,
              "#d8576b"
             ],
             [
              0.6666666666666666,
              "#ed7953"
             ],
             [
              0.7777777777777778,
              "#fb9f3a"
             ],
             [
              0.8888888888888888,
              "#fdca26"
             ],
             [
              1,
              "#f0f921"
             ]
            ],
            "type": "heatmapgl"
           }
          ],
          "histogram": [
           {
            "marker": {
             "pattern": {
              "fillmode": "overlay",
              "size": 10,
              "solidity": 0.2
             }
            },
            "type": "histogram"
           }
          ],
          "histogram2d": [
           {
            "colorbar": {
             "outlinewidth": 0,
             "ticks": ""
            },
            "colorscale": [
             [
              0,
              "#0d0887"
             ],
             [
              0.1111111111111111,
              "#46039f"
             ],
             [
              0.2222222222222222,
              "#7201a8"
             ],
             [
              0.3333333333333333,
              "#9c179e"
             ],
             [
              0.4444444444444444,
              "#bd3786"
             ],
             [
              0.5555555555555556,
              "#d8576b"
             ],
             [
              0.6666666666666666,
              "#ed7953"
             ],
             [
              0.7777777777777778,
              "#fb9f3a"
             ],
             [
              0.8888888888888888,
              "#fdca26"
             ],
             [
              1,
              "#f0f921"
             ]
            ],
            "type": "histogram2d"
           }
          ],
          "histogram2dcontour": [
           {
            "colorbar": {
             "outlinewidth": 0,
             "ticks": ""
            },
            "colorscale": [
             [
              0,
              "#0d0887"
             ],
             [
              0.1111111111111111,
              "#46039f"
             ],
             [
              0.2222222222222222,
              "#7201a8"
             ],
             [
              0.3333333333333333,
              "#9c179e"
             ],
             [
              0.4444444444444444,
              "#bd3786"
             ],
             [
              0.5555555555555556,
              "#d8576b"
             ],
             [
              0.6666666666666666,
              "#ed7953"
             ],
             [
              0.7777777777777778,
              "#fb9f3a"
             ],
             [
              0.8888888888888888,
              "#fdca26"
             ],
             [
              1,
              "#f0f921"
             ]
            ],
            "type": "histogram2dcontour"
           }
          ],
          "mesh3d": [
           {
            "colorbar": {
             "outlinewidth": 0,
             "ticks": ""
            },
            "type": "mesh3d"
           }
          ],
          "parcoords": [
           {
            "line": {
             "colorbar": {
              "outlinewidth": 0,
              "ticks": ""
             }
            },
            "type": "parcoords"
           }
          ],
          "pie": [
           {
            "automargin": true,
            "type": "pie"
           }
          ],
          "scatter": [
           {
            "fillpattern": {
             "fillmode": "overlay",
             "size": 10,
             "solidity": 0.2
            },
            "type": "scatter"
           }
          ],
          "scatter3d": [
           {
            "line": {
             "colorbar": {
              "outlinewidth": 0,
              "ticks": ""
             }
            },
            "marker": {
             "colorbar": {
              "outlinewidth": 0,
              "ticks": ""
             }
            },
            "type": "scatter3d"
           }
          ],
          "scattercarpet": [
           {
            "marker": {
             "colorbar": {
              "outlinewidth": 0,
              "ticks": ""
             }
            },
            "type": "scattercarpet"
           }
          ],
          "scattergeo": [
           {
            "marker": {
             "colorbar": {
              "outlinewidth": 0,
              "ticks": ""
             }
            },
            "type": "scattergeo"
           }
          ],
          "scattergl": [
           {
            "marker": {
             "colorbar": {
              "outlinewidth": 0,
              "ticks": ""
             }
            },
            "type": "scattergl"
           }
          ],
          "scattermapbox": [
           {
            "marker": {
             "colorbar": {
              "outlinewidth": 0,
              "ticks": ""
             }
            },
            "type": "scattermapbox"
           }
          ],
          "scatterpolar": [
           {
            "marker": {
             "colorbar": {
              "outlinewidth": 0,
              "ticks": ""
             }
            },
            "type": "scatterpolar"
           }
          ],
          "scatterpolargl": [
           {
            "marker": {
             "colorbar": {
              "outlinewidth": 0,
              "ticks": ""
             }
            },
            "type": "scatterpolargl"
           }
          ],
          "scatterternary": [
           {
            "marker": {
             "colorbar": {
              "outlinewidth": 0,
              "ticks": ""
             }
            },
            "type": "scatterternary"
           }
          ],
          "surface": [
           {
            "colorbar": {
             "outlinewidth": 0,
             "ticks": ""
            },
            "colorscale": [
             [
              0,
              "#0d0887"
             ],
             [
              0.1111111111111111,
              "#46039f"
             ],
             [
              0.2222222222222222,
              "#7201a8"
             ],
             [
              0.3333333333333333,
              "#9c179e"
             ],
             [
              0.4444444444444444,
              "#bd3786"
             ],
             [
              0.5555555555555556,
              "#d8576b"
             ],
             [
              0.6666666666666666,
              "#ed7953"
             ],
             [
              0.7777777777777778,
              "#fb9f3a"
             ],
             [
              0.8888888888888888,
              "#fdca26"
             ],
             [
              1,
              "#f0f921"
             ]
            ],
            "type": "surface"
           }
          ],
          "table": [
           {
            "cells": {
             "fill": {
              "color": "#EBF0F8"
             },
             "line": {
              "color": "white"
             }
            },
            "header": {
             "fill": {
              "color": "#C8D4E3"
             },
             "line": {
              "color": "white"
             }
            },
            "type": "table"
           }
          ]
         },
         "layout": {
          "annotationdefaults": {
           "arrowcolor": "#2a3f5f",
           "arrowhead": 0,
           "arrowwidth": 1
          },
          "autotypenumbers": "strict",
          "coloraxis": {
           "colorbar": {
            "outlinewidth": 0,
            "ticks": ""
           }
          },
          "colorscale": {
           "diverging": [
            [
             0,
             "#8e0152"
            ],
            [
             0.1,
             "#c51b7d"
            ],
            [
             0.2,
             "#de77ae"
            ],
            [
             0.3,
             "#f1b6da"
            ],
            [
             0.4,
             "#fde0ef"
            ],
            [
             0.5,
             "#f7f7f7"
            ],
            [
             0.6,
             "#e6f5d0"
            ],
            [
             0.7,
             "#b8e186"
            ],
            [
             0.8,
             "#7fbc41"
            ],
            [
             0.9,
             "#4d9221"
            ],
            [
             1,
             "#276419"
            ]
           ],
           "sequential": [
            [
             0,
             "#0d0887"
            ],
            [
             0.1111111111111111,
             "#46039f"
            ],
            [
             0.2222222222222222,
             "#7201a8"
            ],
            [
             0.3333333333333333,
             "#9c179e"
            ],
            [
             0.4444444444444444,
             "#bd3786"
            ],
            [
             0.5555555555555556,
             "#d8576b"
            ],
            [
             0.6666666666666666,
             "#ed7953"
            ],
            [
             0.7777777777777778,
             "#fb9f3a"
            ],
            [
             0.8888888888888888,
             "#fdca26"
            ],
            [
             1,
             "#f0f921"
            ]
           ],
           "sequentialminus": [
            [
             0,
             "#0d0887"
            ],
            [
             0.1111111111111111,
             "#46039f"
            ],
            [
             0.2222222222222222,
             "#7201a8"
            ],
            [
             0.3333333333333333,
             "#9c179e"
            ],
            [
             0.4444444444444444,
             "#bd3786"
            ],
            [
             0.5555555555555556,
             "#d8576b"
            ],
            [
             0.6666666666666666,
             "#ed7953"
            ],
            [
             0.7777777777777778,
             "#fb9f3a"
            ],
            [
             0.8888888888888888,
             "#fdca26"
            ],
            [
             1,
             "#f0f921"
            ]
           ]
          },
          "colorway": [
           "#636efa",
           "#EF553B",
           "#00cc96",
           "#ab63fa",
           "#FFA15A",
           "#19d3f3",
           "#FF6692",
           "#B6E880",
           "#FF97FF",
           "#FECB52"
          ],
          "font": {
           "color": "#2a3f5f"
          },
          "geo": {
           "bgcolor": "white",
           "lakecolor": "white",
           "landcolor": "#E5ECF6",
           "showlakes": true,
           "showland": true,
           "subunitcolor": "white"
          },
          "hoverlabel": {
           "align": "left"
          },
          "hovermode": "closest",
          "mapbox": {
           "style": "light"
          },
          "paper_bgcolor": "white",
          "plot_bgcolor": "#E5ECF6",
          "polar": {
           "angularaxis": {
            "gridcolor": "white",
            "linecolor": "white",
            "ticks": ""
           },
           "bgcolor": "#E5ECF6",
           "radialaxis": {
            "gridcolor": "white",
            "linecolor": "white",
            "ticks": ""
           }
          },
          "scene": {
           "xaxis": {
            "backgroundcolor": "#E5ECF6",
            "gridcolor": "white",
            "gridwidth": 2,
            "linecolor": "white",
            "showbackground": true,
            "ticks": "",
            "zerolinecolor": "white"
           },
           "yaxis": {
            "backgroundcolor": "#E5ECF6",
            "gridcolor": "white",
            "gridwidth": 2,
            "linecolor": "white",
            "showbackground": true,
            "ticks": "",
            "zerolinecolor": "white"
           },
           "zaxis": {
            "backgroundcolor": "#E5ECF6",
            "gridcolor": "white",
            "gridwidth": 2,
            "linecolor": "white",
            "showbackground": true,
            "ticks": "",
            "zerolinecolor": "white"
           }
          },
          "shapedefaults": {
           "line": {
            "color": "#2a3f5f"
           }
          },
          "ternary": {
           "aaxis": {
            "gridcolor": "white",
            "linecolor": "white",
            "ticks": ""
           },
           "baxis": {
            "gridcolor": "white",
            "linecolor": "white",
            "ticks": ""
           },
           "bgcolor": "#E5ECF6",
           "caxis": {
            "gridcolor": "white",
            "linecolor": "white",
            "ticks": ""
           }
          },
          "title": {
           "x": 0.05
          },
          "xaxis": {
           "automargin": true,
           "gridcolor": "white",
           "linecolor": "white",
           "ticks": "",
           "title": {
            "standoff": 15
           },
           "zerolinecolor": "white",
           "zerolinewidth": 2
          },
          "yaxis": {
           "automargin": true,
           "gridcolor": "white",
           "linecolor": "white",
           "ticks": "",
           "title": {
            "standoff": 15
           },
           "zerolinecolor": "white",
           "zerolinewidth": 2
          }
         }
        },
        "title": {
         "text": "Hyperparameter Importances"
        },
        "xaxis": {
         "title": {
          "text": "Importance for Objective Value"
         }
        },
        "yaxis": {
         "title": {
          "text": "Hyperparameter"
         }
        }
       }
      }
     },
     "metadata": {},
     "output_type": "display_data"
    }
   ],
   "source": [
    "optuna.visualization.plot_param_importances(study)"
   ]
  },
  {
   "attachments": {},
   "cell_type": "markdown",
   "metadata": {},
   "source": [
    "## Feature Importance\n"
   ]
  },
  {
   "attachments": {},
   "cell_type": "markdown",
   "metadata": {},
   "source": [
    "## Training Evaluation\n",
    "### Change is Loss over Epochs"
   ]
  },
  {
   "cell_type": "code",
   "execution_count": 10,
   "metadata": {},
   "outputs": [
    {
     "data": {
      "image/png": "[encoded data removed]",
      "text/plain": [
       "<Figure size 640x480 with 1 Axes>"
      ]
     },
     "metadata": {},
     "output_type": "display_data"
    }
   ],
   "source": [
    "(fig, ax) = plt.subplots(1, 1)\n",
    "ax.set_xlabel('Epochs')\n",
    "ax.set_ylabel('loss')\n",
    "ax.set_title('Loss vs Epochs')\n",
    "ax.plot(range(1, len(train_losses) + 1), train_losses, color='blue', linestyle='-', linewidth=3, label = \"Train\")\n",
    "ax.plot(range(1, len(val_losses) + 1), val_losses, color='orange', linestyle='-', linewidth=3, label = \"Val\")\n",
    "ax.legend()\n",
    "ax.grid()"
   ]
  },
  {
   "attachments": {},
   "cell_type": "markdown",
   "metadata": {},
   "source": [
    "### Change in Accuracy over Epochs"
   ]
  },
  {
   "cell_type": "code",
   "execution_count": 11,
   "metadata": {},
   "outputs": [
    {
     "data": {
      "image/png": "[encoded data removed]",
      "text/plain": [
       "<Figure size 640x480 with 1 Axes>"
      ]
     },
     "metadata": {},
     "output_type": "display_data"
    }
   ],
   "source": [
    "(fig, ax) = plt.subplots(1, 1)\n",
    "ax.set_xlabel('Epochs')\n",
    "ax.set_ylabel('Accuracy')\n",
    "ax.set_title('Accuracy vs Epochs')\n",
    "ax.plot(range(1, len(train_accur) + 1), train_accur, color='blue', linestyle='-', linewidth=3, label = \"Train\")\n",
    "ax.plot(range(1, len(val_accur) + 1), val_accur, color='orange', linestyle='-', linewidth=3, label = \"Val\")\n",
    "ax.legend()\n",
    "ax.grid()\n",
    "           "
   ]
  },
  {
   "attachments": {},
   "cell_type": "markdown",
   "metadata": {},
   "source": [
    "## Outcome Evaluation\n",
    "### Accuracy"
   ]
  },
  {
   "cell_type": "code",
   "execution_count": 12,
   "metadata": {},
   "outputs": [
    {
     "name": "stdout",
     "output_type": "stream",
     "text": [
      "Accuracy: 98.10725552050474%\n"
     ]
    }
   ],
   "source": [
    "with torch.no_grad():\n",
    "    predicted = best_model(torch.tensor(x_test, dtype = torch.float32))\n",
    "    acc = (predicted.reshape(-1).detach().numpy().round() == y_test).mean()\n",
    "    print(f\"Accuracy: {100*acc}%\")"
   ]
  },
  {
   "attachments": {},
   "cell_type": "markdown",
   "metadata": {},
   "source": [
    "### Confusion Matrix "
   ]
  },
  {
   "cell_type": "code",
   "execution_count": 14,
   "metadata": {},
   "outputs": [],
   "source": [
    "font = {'family' : 'normal',\n",
    "    'weight' : 'bold',\n",
    "    'size'   : 22}\n",
    "plt.rc('font', **font)"
   ]
  },
  {
   "cell_type": "code",
   "execution_count": 15,
   "metadata": {},
   "outputs": [
    {
     "name": "stderr",
     "output_type": "stream",
     "text": [
      "findfont: Font family ['normal'] not found. Falling back to DejaVu Sans.\n",
      "findfont: Font family ['normal'] not found. Falling back to DejaVu Sans.\n"
     ]
    },
    {
     "data": {
      "image/png": "[encoded data removed]",
      "text/plain": [
       "<Figure size 1000x1000 with 2 Axes>"
      ]
     },
     "metadata": {},
     "output_type": "display_data"
    }
   ],
   "source": [
    "with torch.no_grad():\n",
    "    predictions = best_model(torch.tensor(x_test, dtype = torch.float32))\n",
    "    predictions = np.round(predictions.numpy())\n",
    "    c = sklearn.metrics.confusion_matrix(y_test, predictions)\n",
    "    cp = sklearn.metrics.ConfusionMatrixDisplay(c, display_labels=[\"Male\", \"Female\"])\n",
    "    fig, ax = plt.subplots(figsize=(10,10))\n",
    "    cp.plot(ax = ax)"
   ]
  },
  {
   "attachments": {},
   "cell_type": "markdown",
   "metadata": {},
   "source": [
    "### Classification Report"
   ]
  },
  {
   "cell_type": "code",
   "execution_count": 26,
   "metadata": {},
   "outputs": [
    {
     "name": "stdout",
     "output_type": "stream",
     "text": [
      "\t\t\tANN report:\n",
      "               precision    recall  f1-score   support\n",
      "\n",
      "         0.0      0.925     0.994     0.958       161\n",
      "         1.0      0.993     0.917     0.953       156\n",
      "\n",
      "    accuracy                          0.956       317\n",
      "   macro avg      0.959     0.955     0.956       317\n",
      "weighted avg      0.958     0.956     0.956       317\n",
      "\n"
     ]
    }
   ],
   "source": [
    "with torch.no_grad():\n",
    "    predictions = best_model(torch.tensor(x_test, dtype = torch.float32))\n",
    "    predictions = np.round(predictions.numpy())\n",
    "    print(\"\\t\\t\\tANN report:\\n\",sklearn.metrics.classification_report(predictions,y_test, digits=3))"
   ]
  }
 ],
 "metadata": {
  "kernelspec": {
   "display_name": "base",
   "language": "python",
   "name": "python3"
  },
  "language_info": {
   "codemirror_mode": {
    "name": "ipython",
    "version": 3
   },
   "file_extension": ".py",
   "mimetype": "text/x-python",
   "name": "python",
   "nbconvert_exporter": "python",
   "pygments_lexer": "ipython3",
   "version": "3.9.13 (main, Aug 25 2022, 23:51:50) [MSC v.1916 64 bit (AMD64)]"
  },
  "orig_nbformat": 4,
  "vscode": {
   "interpreter": {
    "hash": "d2178559c87daf6f4d0c5c607da177d680f44e2bfa8266ef5a72f70a5892102b"
   }
  }
 },
 "nbformat": 4,
 "nbformat_minor": 2
}
