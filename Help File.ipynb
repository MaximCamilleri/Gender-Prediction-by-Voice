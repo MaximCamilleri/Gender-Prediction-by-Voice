{
 "cells": [
  {
   "attachments": {},
   "cell_type": "markdown",
   "id": "f4694814",
   "metadata": {},
   "source": [
    "# Sex Prediction"
   ]
  },
  {
   "attachments": {},
   "cell_type": "markdown",
   "id": "fc38a05a",
   "metadata": {},
   "source": [
    "### Imports "
   ]
  },
  {
   "cell_type": "code",
   "execution_count": 2,
   "id": "d091186e",
   "metadata": {
    "execution": {
     "iopub.execute_input": "2022-09-17T06:52:43.894803Z",
     "iopub.status.busy": "2022-09-17T06:52:43.893623Z",
     "iopub.status.idle": "2022-09-17T06:52:45.189728Z",
     "shell.execute_reply": "2022-09-17T06:52:45.188070Z"
    },
    "papermill": {
     "duration": 1.318165,
     "end_time": "2022-09-17T06:52:45.193144",
     "exception": false,
     "start_time": "2022-09-17T06:52:43.874979",
     "status": "completed"
    },
    "tags": []
   },
   "outputs": [],
   "source": [
    "import pandas as pd\n",
    "import matplotlib.pyplot as plt\n",
    "import numpy as np\n",
    "import seaborn as sns"
   ]
  },
  {
   "cell_type": "code",
   "execution_count": 3,
   "id": "ebbd1dc8",
   "metadata": {},
   "outputs": [],
   "source": [
    "from sklearn.model_selection import train_test_split\n",
    "from sklearn.tree import DecisionTreeClassifier\n",
    "from sklearn.metrics import classification_report,accuracy_score"
   ]
  },
  {
   "attachments": {},
   "cell_type": "markdown",
   "id": "155d7570",
   "metadata": {},
   "source": [
    "### Data Analysis"
   ]
  },
  {
   "cell_type": "code",
   "execution_count": 4,
   "id": "1ba6d961",
   "metadata": {
    "execution": {
     "iopub.execute_input": "2022-09-17T06:52:45.228459Z",
     "iopub.status.busy": "2022-09-17T06:52:45.227993Z",
     "iopub.status.idle": "2022-09-17T06:52:45.290202Z",
     "shell.execute_reply": "2022-09-17T06:52:45.288896Z"
    },
    "papermill": {
     "duration": 0.081671,
     "end_time": "2022-09-17T06:52:45.293172",
     "exception": false,
     "start_time": "2022-09-17T06:52:45.211501",
     "status": "completed"
    },
    "tags": []
   },
   "outputs": [
    {
     "data": {
      "text/html": [
       "<div>\n",
       "<style scoped>\n",
       "    .dataframe tbody tr th:only-of-type {\n",
       "        vertical-align: middle;\n",
       "    }\n",
       "\n",
       "    .dataframe tbody tr th {\n",
       "        vertical-align: top;\n",
       "    }\n",
       "\n",
       "    .dataframe thead th {\n",
       "        text-align: right;\n",
       "    }\n",
       "</style>\n",
       "<table border=\"1\" class=\"dataframe\">\n",
       "  <thead>\n",
       "    <tr style=\"text-align: right;\">\n",
       "      <th></th>\n",
       "      <th>meanfreq</th>\n",
       "      <th>sd</th>\n",
       "      <th>median</th>\n",
       "      <th>Q25</th>\n",
       "      <th>Q75</th>\n",
       "      <th>IQR</th>\n",
       "      <th>skew</th>\n",
       "      <th>kurt</th>\n",
       "      <th>sp.ent</th>\n",
       "      <th>sfm</th>\n",
       "      <th>...</th>\n",
       "      <th>centroid</th>\n",
       "      <th>meanfun</th>\n",
       "      <th>minfun</th>\n",
       "      <th>maxfun</th>\n",
       "      <th>meandom</th>\n",
       "      <th>mindom</th>\n",
       "      <th>maxdom</th>\n",
       "      <th>dfrange</th>\n",
       "      <th>modindx</th>\n",
       "      <th>label</th>\n",
       "    </tr>\n",
       "  </thead>\n",
       "  <tbody>\n",
       "    <tr>\n",
       "      <th>0</th>\n",
       "      <td>0.059781</td>\n",
       "      <td>0.064241</td>\n",
       "      <td>0.032027</td>\n",
       "      <td>0.015071</td>\n",
       "      <td>0.090193</td>\n",
       "      <td>0.075122</td>\n",
       "      <td>12.863462</td>\n",
       "      <td>274.402906</td>\n",
       "      <td>0.893369</td>\n",
       "      <td>0.491918</td>\n",
       "      <td>...</td>\n",
       "      <td>0.059781</td>\n",
       "      <td>0.084279</td>\n",
       "      <td>0.015702</td>\n",
       "      <td>0.275862</td>\n",
       "      <td>0.007812</td>\n",
       "      <td>0.007812</td>\n",
       "      <td>0.007812</td>\n",
       "      <td>0.000000</td>\n",
       "      <td>0.000000</td>\n",
       "      <td>male</td>\n",
       "    </tr>\n",
       "    <tr>\n",
       "      <th>1</th>\n",
       "      <td>0.066009</td>\n",
       "      <td>0.067310</td>\n",
       "      <td>0.040229</td>\n",
       "      <td>0.019414</td>\n",
       "      <td>0.092666</td>\n",
       "      <td>0.073252</td>\n",
       "      <td>22.423285</td>\n",
       "      <td>634.613855</td>\n",
       "      <td>0.892193</td>\n",
       "      <td>0.513724</td>\n",
       "      <td>...</td>\n",
       "      <td>0.066009</td>\n",
       "      <td>0.107937</td>\n",
       "      <td>0.015826</td>\n",
       "      <td>0.250000</td>\n",
       "      <td>0.009014</td>\n",
       "      <td>0.007812</td>\n",
       "      <td>0.054688</td>\n",
       "      <td>0.046875</td>\n",
       "      <td>0.052632</td>\n",
       "      <td>male</td>\n",
       "    </tr>\n",
       "    <tr>\n",
       "      <th>2</th>\n",
       "      <td>0.077316</td>\n",
       "      <td>0.083829</td>\n",
       "      <td>0.036718</td>\n",
       "      <td>0.008701</td>\n",
       "      <td>0.131908</td>\n",
       "      <td>0.123207</td>\n",
       "      <td>30.757155</td>\n",
       "      <td>1024.927705</td>\n",
       "      <td>0.846389</td>\n",
       "      <td>0.478905</td>\n",
       "      <td>...</td>\n",
       "      <td>0.077316</td>\n",
       "      <td>0.098706</td>\n",
       "      <td>0.015656</td>\n",
       "      <td>0.271186</td>\n",
       "      <td>0.007990</td>\n",
       "      <td>0.007812</td>\n",
       "      <td>0.015625</td>\n",
       "      <td>0.007812</td>\n",
       "      <td>0.046512</td>\n",
       "      <td>male</td>\n",
       "    </tr>\n",
       "    <tr>\n",
       "      <th>3</th>\n",
       "      <td>0.151228</td>\n",
       "      <td>0.072111</td>\n",
       "      <td>0.158011</td>\n",
       "      <td>0.096582</td>\n",
       "      <td>0.207955</td>\n",
       "      <td>0.111374</td>\n",
       "      <td>1.232831</td>\n",
       "      <td>4.177296</td>\n",
       "      <td>0.963322</td>\n",
       "      <td>0.727232</td>\n",
       "      <td>...</td>\n",
       "      <td>0.151228</td>\n",
       "      <td>0.088965</td>\n",
       "      <td>0.017798</td>\n",
       "      <td>0.250000</td>\n",
       "      <td>0.201497</td>\n",
       "      <td>0.007812</td>\n",
       "      <td>0.562500</td>\n",
       "      <td>0.554688</td>\n",
       "      <td>0.247119</td>\n",
       "      <td>male</td>\n",
       "    </tr>\n",
       "    <tr>\n",
       "      <th>4</th>\n",
       "      <td>0.135120</td>\n",
       "      <td>0.079146</td>\n",
       "      <td>0.124656</td>\n",
       "      <td>0.078720</td>\n",
       "      <td>0.206045</td>\n",
       "      <td>0.127325</td>\n",
       "      <td>1.101174</td>\n",
       "      <td>4.333713</td>\n",
       "      <td>0.971955</td>\n",
       "      <td>0.783568</td>\n",
       "      <td>...</td>\n",
       "      <td>0.135120</td>\n",
       "      <td>0.106398</td>\n",
       "      <td>0.016931</td>\n",
       "      <td>0.266667</td>\n",
       "      <td>0.712812</td>\n",
       "      <td>0.007812</td>\n",
       "      <td>5.484375</td>\n",
       "      <td>5.476562</td>\n",
       "      <td>0.208274</td>\n",
       "      <td>male</td>\n",
       "    </tr>\n",
       "  </tbody>\n",
       "</table>\n",
       "<p>5 rows × 21 columns</p>\n",
       "</div>"
      ],
      "text/plain": [
       "   meanfreq        sd    median       Q25       Q75       IQR       skew  \\\n",
       "0  0.059781  0.064241  0.032027  0.015071  0.090193  0.075122  12.863462   \n",
       "1  0.066009  0.067310  0.040229  0.019414  0.092666  0.073252  22.423285   \n",
       "2  0.077316  0.083829  0.036718  0.008701  0.131908  0.123207  30.757155   \n",
       "3  0.151228  0.072111  0.158011  0.096582  0.207955  0.111374   1.232831   \n",
       "4  0.135120  0.079146  0.124656  0.078720  0.206045  0.127325   1.101174   \n",
       "\n",
       "          kurt    sp.ent       sfm  ...  centroid   meanfun    minfun  \\\n",
       "0   274.402906  0.893369  0.491918  ...  0.059781  0.084279  0.015702   \n",
       "1   634.613855  0.892193  0.513724  ...  0.066009  0.107937  0.015826   \n",
       "2  1024.927705  0.846389  0.478905  ...  0.077316  0.098706  0.015656   \n",
       "3     4.177296  0.963322  0.727232  ...  0.151228  0.088965  0.017798   \n",
       "4     4.333713  0.971955  0.783568  ...  0.135120  0.106398  0.016931   \n",
       "\n",
       "     maxfun   meandom    mindom    maxdom   dfrange   modindx  label  \n",
       "0  0.275862  0.007812  0.007812  0.007812  0.000000  0.000000   male  \n",
       "1  0.250000  0.009014  0.007812  0.054688  0.046875  0.052632   male  \n",
       "2  0.271186  0.007990  0.007812  0.015625  0.007812  0.046512   male  \n",
       "3  0.250000  0.201497  0.007812  0.562500  0.554688  0.247119   male  \n",
       "4  0.266667  0.712812  0.007812  5.484375  5.476562  0.208274   male  \n",
       "\n",
       "[5 rows x 21 columns]"
      ]
     },
     "execution_count": 4,
     "metadata": {},
     "output_type": "execute_result"
    }
   ],
   "source": [
    "#load data\n",
    "df = pd.read_csv('Data/voice.csv')\n",
    "df.head()"
   ]
  },
  {
   "cell_type": "code",
   "execution_count": 5,
   "id": "0191a000",
   "metadata": {
    "execution": {
     "iopub.execute_input": "2022-09-17T06:52:45.402038Z",
     "iopub.status.busy": "2022-09-17T06:52:45.401494Z",
     "iopub.status.idle": "2022-09-17T06:52:45.411996Z",
     "shell.execute_reply": "2022-09-17T06:52:45.411131Z"
    },
    "papermill": {
     "duration": 0.030497,
     "end_time": "2022-09-17T06:52:45.414296",
     "exception": false,
     "start_time": "2022-09-17T06:52:45.383799",
     "status": "completed"
    },
    "tags": []
   },
   "outputs": [
    {
     "data": {
      "text/plain": [
       "meanfreq    0\n",
       "sd          0\n",
       "median      0\n",
       "Q25         0\n",
       "Q75         0\n",
       "IQR         0\n",
       "skew        0\n",
       "kurt        0\n",
       "sp.ent      0\n",
       "sfm         0\n",
       "mode        0\n",
       "centroid    0\n",
       "meanfun     0\n",
       "minfun      0\n",
       "maxfun      0\n",
       "meandom     0\n",
       "mindom      0\n",
       "maxdom      0\n",
       "dfrange     0\n",
       "modindx     0\n",
       "label       0\n",
       "dtype: int64"
      ]
     },
     "execution_count": 5,
     "metadata": {},
     "output_type": "execute_result"
    }
   ],
   "source": [
    "#check null values\n",
    "df.isnull().sum()"
   ]
  },
  {
   "cell_type": "code",
   "execution_count": 6,
   "id": "f6aa1287",
   "metadata": {
    "execution": {
     "iopub.execute_input": "2022-09-17T06:52:45.446809Z",
     "iopub.status.busy": "2022-09-17T06:52:45.446168Z",
     "iopub.status.idle": "2022-09-17T06:52:45.451298Z",
     "shell.execute_reply": "2022-09-17T06:52:45.450396Z"
    },
    "papermill": {
     "duration": 0.023837,
     "end_time": "2022-09-17T06:52:45.453406",
     "exception": false,
     "start_time": "2022-09-17T06:52:45.429569",
     "status": "completed"
    },
    "tags": []
   },
   "outputs": [
    {
     "name": "stdout",
     "output_type": "stream",
     "text": [
      "{'meanfreq': 3166, 'sd': 3166, 'median': 3077, 'Q25': 3103, 'Q75': 3034, 'IQR': 3073, 'skew': 3166, 'kurt': 3166, 'sp.ent': 3166, 'sfm': 3166, 'mode': 2825, 'centroid': 3166, 'meanfun': 3166, 'minfun': 913, 'maxfun': 123, 'meandom': 2999, 'mindom': 77, 'maxdom': 1054, 'dfrange': 1091, 'modindx': 3079, 'label': 2}\n"
     ]
    }
   ],
   "source": [
    "def unique(col):\n",
    "   return df[col].nunique()\n",
    "\n",
    "d = {}\n",
    "for i in df.columns:\n",
    "    value = unique(i)\n",
    "    d[i] = value\n",
    "print(d,sep=\"\\n\")"
   ]
  },
  {
   "cell_type": "code",
   "execution_count": 7,
   "id": "15311f82",
   "metadata": {
    "execution": {
     "iopub.execute_input": "2022-09-17T06:52:45.545300Z",
     "iopub.status.busy": "2022-09-17T06:52:45.544820Z",
     "iopub.status.idle": "2022-09-17T06:52:45.551304Z",
     "shell.execute_reply": "2022-09-17T06:52:45.549983Z"
    },
    "papermill": {
     "duration": 0.025591,
     "end_time": "2022-09-17T06:52:45.553542",
     "exception": false,
     "start_time": "2022-09-17T06:52:45.527951",
     "status": "completed"
    },
    "tags": []
   },
   "outputs": [],
   "source": [
    "x = df.iloc[:,:-1]\n",
    "y = df.label"
   ]
  },
  {
   "cell_type": "code",
   "execution_count": 8,
   "id": "905b5bd9",
   "metadata": {
    "execution": {
     "iopub.execute_input": "2022-09-17T06:52:45.587474Z",
     "iopub.status.busy": "2022-09-17T06:52:45.587009Z",
     "iopub.status.idle": "2022-09-17T06:52:45.612722Z",
     "shell.execute_reply": "2022-09-17T06:52:45.611499Z"
    },
    "papermill": {
     "duration": 0.045549,
     "end_time": "2022-09-17T06:52:45.615108",
     "exception": false,
     "start_time": "2022-09-17T06:52:45.569559",
     "status": "completed"
    },
    "tags": []
   },
   "outputs": [
    {
     "data": {
      "text/html": [
       "<div>\n",
       "<style scoped>\n",
       "    .dataframe tbody tr th:only-of-type {\n",
       "        vertical-align: middle;\n",
       "    }\n",
       "\n",
       "    .dataframe tbody tr th {\n",
       "        vertical-align: top;\n",
       "    }\n",
       "\n",
       "    .dataframe thead th {\n",
       "        text-align: right;\n",
       "    }\n",
       "</style>\n",
       "<table border=\"1\" class=\"dataframe\">\n",
       "  <thead>\n",
       "    <tr style=\"text-align: right;\">\n",
       "      <th></th>\n",
       "      <th>meanfreq</th>\n",
       "      <th>sd</th>\n",
       "      <th>median</th>\n",
       "      <th>Q25</th>\n",
       "      <th>Q75</th>\n",
       "      <th>IQR</th>\n",
       "      <th>skew</th>\n",
       "      <th>kurt</th>\n",
       "      <th>sp.ent</th>\n",
       "      <th>sfm</th>\n",
       "      <th>mode</th>\n",
       "      <th>centroid</th>\n",
       "      <th>meanfun</th>\n",
       "      <th>minfun</th>\n",
       "      <th>maxfun</th>\n",
       "      <th>meandom</th>\n",
       "      <th>mindom</th>\n",
       "      <th>maxdom</th>\n",
       "      <th>dfrange</th>\n",
       "      <th>modindx</th>\n",
       "    </tr>\n",
       "  </thead>\n",
       "  <tbody>\n",
       "    <tr>\n",
       "      <th>0</th>\n",
       "      <td>0.059781</td>\n",
       "      <td>0.064241</td>\n",
       "      <td>0.032027</td>\n",
       "      <td>0.015071</td>\n",
       "      <td>0.090193</td>\n",
       "      <td>0.075122</td>\n",
       "      <td>12.863462</td>\n",
       "      <td>274.402906</td>\n",
       "      <td>0.893369</td>\n",
       "      <td>0.491918</td>\n",
       "      <td>0.000000</td>\n",
       "      <td>0.059781</td>\n",
       "      <td>0.084279</td>\n",
       "      <td>0.015702</td>\n",
       "      <td>0.275862</td>\n",
       "      <td>0.007812</td>\n",
       "      <td>0.007812</td>\n",
       "      <td>0.007812</td>\n",
       "      <td>0.000000</td>\n",
       "      <td>0.000000</td>\n",
       "    </tr>\n",
       "    <tr>\n",
       "      <th>1</th>\n",
       "      <td>0.066009</td>\n",
       "      <td>0.067310</td>\n",
       "      <td>0.040229</td>\n",
       "      <td>0.019414</td>\n",
       "      <td>0.092666</td>\n",
       "      <td>0.073252</td>\n",
       "      <td>22.423285</td>\n",
       "      <td>634.613855</td>\n",
       "      <td>0.892193</td>\n",
       "      <td>0.513724</td>\n",
       "      <td>0.000000</td>\n",
       "      <td>0.066009</td>\n",
       "      <td>0.107937</td>\n",
       "      <td>0.015826</td>\n",
       "      <td>0.250000</td>\n",
       "      <td>0.009014</td>\n",
       "      <td>0.007812</td>\n",
       "      <td>0.054688</td>\n",
       "      <td>0.046875</td>\n",
       "      <td>0.052632</td>\n",
       "    </tr>\n",
       "    <tr>\n",
       "      <th>2</th>\n",
       "      <td>0.077316</td>\n",
       "      <td>0.083829</td>\n",
       "      <td>0.036718</td>\n",
       "      <td>0.008701</td>\n",
       "      <td>0.131908</td>\n",
       "      <td>0.123207</td>\n",
       "      <td>30.757155</td>\n",
       "      <td>1024.927705</td>\n",
       "      <td>0.846389</td>\n",
       "      <td>0.478905</td>\n",
       "      <td>0.000000</td>\n",
       "      <td>0.077316</td>\n",
       "      <td>0.098706</td>\n",
       "      <td>0.015656</td>\n",
       "      <td>0.271186</td>\n",
       "      <td>0.007990</td>\n",
       "      <td>0.007812</td>\n",
       "      <td>0.015625</td>\n",
       "      <td>0.007812</td>\n",
       "      <td>0.046512</td>\n",
       "    </tr>\n",
       "    <tr>\n",
       "      <th>3</th>\n",
       "      <td>0.151228</td>\n",
       "      <td>0.072111</td>\n",
       "      <td>0.158011</td>\n",
       "      <td>0.096582</td>\n",
       "      <td>0.207955</td>\n",
       "      <td>0.111374</td>\n",
       "      <td>1.232831</td>\n",
       "      <td>4.177296</td>\n",
       "      <td>0.963322</td>\n",
       "      <td>0.727232</td>\n",
       "      <td>0.083878</td>\n",
       "      <td>0.151228</td>\n",
       "      <td>0.088965</td>\n",
       "      <td>0.017798</td>\n",
       "      <td>0.250000</td>\n",
       "      <td>0.201497</td>\n",
       "      <td>0.007812</td>\n",
       "      <td>0.562500</td>\n",
       "      <td>0.554688</td>\n",
       "      <td>0.247119</td>\n",
       "    </tr>\n",
       "    <tr>\n",
       "      <th>4</th>\n",
       "      <td>0.135120</td>\n",
       "      <td>0.079146</td>\n",
       "      <td>0.124656</td>\n",
       "      <td>0.078720</td>\n",
       "      <td>0.206045</td>\n",
       "      <td>0.127325</td>\n",
       "      <td>1.101174</td>\n",
       "      <td>4.333713</td>\n",
       "      <td>0.971955</td>\n",
       "      <td>0.783568</td>\n",
       "      <td>0.104261</td>\n",
       "      <td>0.135120</td>\n",
       "      <td>0.106398</td>\n",
       "      <td>0.016931</td>\n",
       "      <td>0.266667</td>\n",
       "      <td>0.712812</td>\n",
       "      <td>0.007812</td>\n",
       "      <td>5.484375</td>\n",
       "      <td>5.476562</td>\n",
       "      <td>0.208274</td>\n",
       "    </tr>\n",
       "  </tbody>\n",
       "</table>\n",
       "</div>"
      ],
      "text/plain": [
       "   meanfreq        sd    median       Q25       Q75       IQR       skew  \\\n",
       "0  0.059781  0.064241  0.032027  0.015071  0.090193  0.075122  12.863462   \n",
       "1  0.066009  0.067310  0.040229  0.019414  0.092666  0.073252  22.423285   \n",
       "2  0.077316  0.083829  0.036718  0.008701  0.131908  0.123207  30.757155   \n",
       "3  0.151228  0.072111  0.158011  0.096582  0.207955  0.111374   1.232831   \n",
       "4  0.135120  0.079146  0.124656  0.078720  0.206045  0.127325   1.101174   \n",
       "\n",
       "          kurt    sp.ent       sfm      mode  centroid   meanfun    minfun  \\\n",
       "0   274.402906  0.893369  0.491918  0.000000  0.059781  0.084279  0.015702   \n",
       "1   634.613855  0.892193  0.513724  0.000000  0.066009  0.107937  0.015826   \n",
       "2  1024.927705  0.846389  0.478905  0.000000  0.077316  0.098706  0.015656   \n",
       "3     4.177296  0.963322  0.727232  0.083878  0.151228  0.088965  0.017798   \n",
       "4     4.333713  0.971955  0.783568  0.104261  0.135120  0.106398  0.016931   \n",
       "\n",
       "     maxfun   meandom    mindom    maxdom   dfrange   modindx  \n",
       "0  0.275862  0.007812  0.007812  0.007812  0.000000  0.000000  \n",
       "1  0.250000  0.009014  0.007812  0.054688  0.046875  0.052632  \n",
       "2  0.271186  0.007990  0.007812  0.015625  0.007812  0.046512  \n",
       "3  0.250000  0.201497  0.007812  0.562500  0.554688  0.247119  \n",
       "4  0.266667  0.712812  0.007812  5.484375  5.476562  0.208274  "
      ]
     },
     "execution_count": 8,
     "metadata": {},
     "output_type": "execute_result"
    }
   ],
   "source": [
    "x.head()"
   ]
  },
  {
   "cell_type": "code",
   "execution_count": 9,
   "id": "50c5fce0",
   "metadata": {
    "execution": {
     "iopub.execute_input": "2022-09-17T06:52:45.650158Z",
     "iopub.status.busy": "2022-09-17T06:52:45.649675Z",
     "iopub.status.idle": "2022-09-17T06:52:45.658085Z",
     "shell.execute_reply": "2022-09-17T06:52:45.656825Z"
    },
    "papermill": {
     "duration": 0.028517,
     "end_time": "2022-09-17T06:52:45.660568",
     "exception": false,
     "start_time": "2022-09-17T06:52:45.632051",
     "status": "completed"
    },
    "tags": []
   },
   "outputs": [
    {
     "data": {
      "text/plain": [
       "0    male\n",
       "1    male\n",
       "2    male\n",
       "3    male\n",
       "4    male\n",
       "Name: label, dtype: object"
      ]
     },
     "execution_count": 9,
     "metadata": {},
     "output_type": "execute_result"
    }
   ],
   "source": [
    "y.head()"
   ]
  },
  {
   "cell_type": "code",
   "execution_count": 10,
   "id": "2ac1b96c",
   "metadata": {
    "execution": {
     "iopub.execute_input": "2022-09-17T06:52:45.695574Z",
     "iopub.status.busy": "2022-09-17T06:52:45.694493Z",
     "iopub.status.idle": "2022-09-17T06:52:45.713778Z",
     "shell.execute_reply": "2022-09-17T06:52:45.712227Z"
    },
    "papermill": {
     "duration": 0.039047,
     "end_time": "2022-09-17T06:52:45.716080",
     "exception": false,
     "start_time": "2022-09-17T06:52:45.677033",
     "status": "completed"
    },
    "tags": []
   },
   "outputs": [
    {
     "data": {
      "text/plain": [
       "male      1584\n",
       "female    1584\n",
       "Name: label, dtype: int64"
      ]
     },
     "execution_count": 10,
     "metadata": {},
     "output_type": "execute_result"
    }
   ],
   "source": [
    "df['label'].value_counts()"
   ]
  },
  {
   "cell_type": "code",
   "execution_count": 10,
   "id": "6ebaab64",
   "metadata": {
    "execution": {
     "iopub.execute_input": "2022-09-17T06:52:45.750793Z",
     "iopub.status.busy": "2022-09-17T06:52:45.750372Z",
     "iopub.status.idle": "2022-09-17T06:52:45.755412Z",
     "shell.execute_reply": "2022-09-17T06:52:45.754200Z"
    },
    "papermill": {
     "duration": 0.025941,
     "end_time": "2022-09-17T06:52:45.758009",
     "exception": false,
     "start_time": "2022-09-17T06:52:45.732068",
     "status": "completed"
    },
    "tags": []
   },
   "outputs": [],
   "source": [
    "data = ['Female','Male']\n",
    "d= [1584,1584]"
   ]
  },
  {
   "attachments": {},
   "cell_type": "markdown",
   "id": "6f0dfcb6",
   "metadata": {},
   "source": [
    "### Pie Chart For Male and Female division"
   ]
  },
  {
   "cell_type": "code",
   "execution_count": 16,
   "id": "78c417e4",
   "metadata": {
    "execution": {
     "iopub.execute_input": "2022-09-17T06:52:45.833087Z",
     "iopub.status.busy": "2022-09-17T06:52:45.832628Z",
     "iopub.status.idle": "2022-09-17T06:52:45.998581Z",
     "shell.execute_reply": "2022-09-17T06:52:45.996577Z"
    },
    "papermill": {
     "duration": 0.189792,
     "end_time": "2022-09-17T06:52:46.005231",
     "exception": false,
     "start_time": "2022-09-17T06:52:45.815439",
     "status": "completed"
    },
    "tags": []
   },
   "outputs": [
    {
     "data": {
      "image/png": "[encoded data removed]",
      "text/plain": [
       "<Figure size 432x288 with 1 Axes>"
      ]
     },
     "metadata": {},
     "output_type": "display_data"
    }
   ],
   "source": [
    "\n",
    "\n",
    "fig1, ax1 = plt.subplots()\n",
    "fig1.set_facecolor(\"white\")\n",
    "ax1.pie(d, labels=data, autopct='%1.1f%%',\n",
    "        shadow=False, startangle=90)\n",
    "ax1.axis('equal')\n",
    "# show plot\n",
    "plt.show()"
   ]
  },
  {
   "attachments": {},
   "cell_type": "markdown",
   "id": "a0ce0976",
   "metadata": {},
   "source": [
    "### Box plots"
   ]
  },
  {
   "cell_type": "code",
   "execution_count": 46,
   "id": "a30d70f1",
   "metadata": {},
   "outputs": [
    {
     "data": {
      "image/png": "[encoded data removed]",
      "text/plain": [
       "<Figure size 1440x1440 with 20 Axes>"
      ]
     },
     "metadata": {
      "needs_background": "light"
     },
     "output_type": "display_data"
    }
   ],
   "source": [
    "\n",
    "params = [df[\"meanfreq\"], df[\"sd\"], df[\"median\"], df[\"Q25\"], df[\"Q75\"], df[\"IQR\"], df[\"skew\"], df[\"kurt\"], df[\"sp.ent\"], df[\"sfm\"], df[\"mode\"], df[\"centroid\"], df[\"meanfun\"], df[\"minfun\"], df[\"maxfun\"], df[\"meandom\"], df[\"mindom\"], df[\"maxdom\"], df[\"dfrange\"], df[\"modindx\"]]\n",
    "\n",
    "fig, ax = plt.subplots(4, 5,\n",
    "                       figsize=(20, 20))\n",
    "counter = 0\n",
    "for row in range(4):\n",
    "    for col in range(5):\n",
    "        ax[row, col].boxplot(params[counter])\n",
    "        ax[row, col].set_title(x.columns[counter])\n",
    "        plt.grid()\n",
    "        counter += 1\n",
    "\n"
   ]
  },
  {
   "attachments": {},
   "cell_type": "markdown",
   "id": "1580c93b",
   "metadata": {},
   "source": [
    "### Decision Tree Classifier"
   ]
  },
  {
   "cell_type": "code",
   "execution_count": 13,
   "id": "9f526b44",
   "metadata": {
    "execution": {
     "iopub.execute_input": "2022-09-17T06:52:46.357845Z",
     "iopub.status.busy": "2022-09-17T06:52:46.357392Z",
     "iopub.status.idle": "2022-09-17T06:52:46.364783Z",
     "shell.execute_reply": "2022-09-17T06:52:46.363953Z"
    },
    "papermill": {
     "duration": 0.027094,
     "end_time": "2022-09-17T06:52:46.366933",
     "exception": false,
     "start_time": "2022-09-17T06:52:46.339839",
     "status": "completed"
    },
    "tags": []
   },
   "outputs": [],
   "source": [
    "x_train, x_test,y_train,y_test = train_test_split(x,y,test_size=0.2)\n",
    "#split dataset into training and test with test size as 20 percent"
   ]
  },
  {
   "cell_type": "code",
   "execution_count": 17,
   "id": "d115658f",
   "metadata": {
    "execution": {
     "iopub.execute_input": "2022-09-17T06:52:46.679760Z",
     "iopub.status.busy": "2022-09-17T06:52:46.679264Z",
     "iopub.status.idle": "2022-09-17T06:52:46.731118Z",
     "shell.execute_reply": "2022-09-17T06:52:46.729919Z"
    },
    "papermill": {
     "duration": 0.071779,
     "end_time": "2022-09-17T06:52:46.733711",
     "exception": false,
     "start_time": "2022-09-17T06:52:46.661932",
     "status": "completed"
    },
    "tags": []
   },
   "outputs": [
    {
     "data": {
      "text/plain": [
       "DecisionTreeClassifier(random_state=1)"
      ]
     },
     "execution_count": 17,
     "metadata": {},
     "output_type": "execute_result"
    }
   ],
   "source": [
    "DTmodel = DecisionTreeClassifier(random_state = 1)\n",
    "DTmodel.fit(x_train,y_train)"
   ]
  },
  {
   "cell_type": "code",
   "execution_count": 18,
   "id": "0a3197b5",
   "metadata": {
    "execution": {
     "iopub.execute_input": "2022-09-17T06:52:46.768257Z",
     "iopub.status.busy": "2022-09-17T06:52:46.767776Z",
     "iopub.status.idle": "2022-09-17T06:52:46.775955Z",
     "shell.execute_reply": "2022-09-17T06:52:46.774724Z"
    },
    "papermill": {
     "duration": 0.028342,
     "end_time": "2022-09-17T06:52:46.778496",
     "exception": false,
     "start_time": "2022-09-17T06:52:46.750154",
     "status": "completed"
    },
    "tags": []
   },
   "outputs": [],
   "source": [
    "y_pred1 = DTmodel.predict(x_test)\n",
    "y_pred1 = np.array(y_pred1)"
   ]
  },
  {
   "cell_type": "code",
   "execution_count": 19,
   "id": "dd88091e",
   "metadata": {
    "execution": {
     "iopub.execute_input": "2022-09-17T06:52:46.813450Z",
     "iopub.status.busy": "2022-09-17T06:52:46.812397Z",
     "iopub.status.idle": "2022-09-17T06:52:46.818327Z",
     "shell.execute_reply": "2022-09-17T06:52:46.817459Z"
    },
    "papermill": {
     "duration": 0.02677,
     "end_time": "2022-09-17T06:52:46.821580",
     "exception": false,
     "start_time": "2022-09-17T06:52:46.794810",
     "status": "completed"
    },
    "tags": []
   },
   "outputs": [
    {
     "name": "stdout",
     "output_type": "stream",
     "text": [
      "['female' 'female' 'female' 'male' 'female' 'female' 'female' 'male'\n",
      " 'female' 'male']\n"
     ]
    }
   ],
   "source": [
    "print(y_pred1[:10])"
   ]
  },
  {
   "cell_type": "code",
   "execution_count": 20,
   "id": "2487c42c",
   "metadata": {
    "execution": {
     "iopub.execute_input": "2022-09-17T06:52:46.856245Z",
     "iopub.status.busy": "2022-09-17T06:52:46.855796Z",
     "iopub.status.idle": "2022-09-17T06:52:46.865528Z",
     "shell.execute_reply": "2022-09-17T06:52:46.864279Z"
    },
    "papermill": {
     "duration": 0.029509,
     "end_time": "2022-09-17T06:52:46.867651",
     "exception": false,
     "start_time": "2022-09-17T06:52:46.838142",
     "status": "completed"
    },
    "tags": []
   },
   "outputs": [
    {
     "name": "stdout",
     "output_type": "stream",
     "text": [
      "score of decision tree model is:  0.9637223974763407\n"
     ]
    }
   ],
   "source": [
    "print('score of decision tree model is: ', DTmodel.score(x_test,y_test))"
   ]
  },
  {
   "cell_type": "code",
   "execution_count": 22,
   "id": "e35350c3",
   "metadata": {
    "execution": {
     "iopub.execute_input": "2022-09-17T06:52:46.947110Z",
     "iopub.status.busy": "2022-09-17T06:52:46.945808Z",
     "iopub.status.idle": "2022-09-17T06:52:46.999074Z",
     "shell.execute_reply": "2022-09-17T06:52:46.997753Z"
    },
    "papermill": {
     "duration": 0.074007,
     "end_time": "2022-09-17T06:52:47.001522",
     "exception": false,
     "start_time": "2022-09-17T06:52:46.927515",
     "status": "completed"
    },
    "tags": []
   },
   "outputs": [
    {
     "data": {
      "text/html": [
       "<div>\n",
       "<style scoped>\n",
       "    .dataframe tbody tr th:only-of-type {\n",
       "        vertical-align: middle;\n",
       "    }\n",
       "\n",
       "    .dataframe tbody tr th {\n",
       "        vertical-align: top;\n",
       "    }\n",
       "\n",
       "    .dataframe thead th {\n",
       "        text-align: right;\n",
       "    }\n",
       "</style>\n",
       "<table border=\"1\" class=\"dataframe\">\n",
       "  <thead>\n",
       "    <tr style=\"text-align: right;\">\n",
       "      <th>confusion</th>\n",
       "      <th>female</th>\n",
       "      <th>male</th>\n",
       "      <th>All</th>\n",
       "    </tr>\n",
       "    <tr>\n",
       "      <th>matrix</th>\n",
       "      <th></th>\n",
       "      <th></th>\n",
       "      <th></th>\n",
       "    </tr>\n",
       "  </thead>\n",
       "  <tbody>\n",
       "    <tr>\n",
       "      <th>female</th>\n",
       "      <td>300</td>\n",
       "      <td>9</td>\n",
       "      <td>309</td>\n",
       "    </tr>\n",
       "    <tr>\n",
       "      <th>male</th>\n",
       "      <td>14</td>\n",
       "      <td>311</td>\n",
       "      <td>325</td>\n",
       "    </tr>\n",
       "    <tr>\n",
       "      <th>All</th>\n",
       "      <td>314</td>\n",
       "      <td>320</td>\n",
       "      <td>634</td>\n",
       "    </tr>\n",
       "  </tbody>\n",
       "</table>\n",
       "</div>"
      ],
      "text/plain": [
       "confusion  female  male  All\n",
       "matrix                      \n",
       "female        300     9  309\n",
       "male           14   311  325\n",
       "All           314   320  634"
      ]
     },
     "execution_count": 22,
     "metadata": {},
     "output_type": "execute_result"
    }
   ],
   "source": [
    "pd.crosstab(y_pred1,y_test,rownames=['matrix'],colnames=['confusion'],margins = True)"
   ]
  },
  {
   "cell_type": "code",
   "execution_count": 24,
   "id": "972a154e",
   "metadata": {
    "execution": {
     "iopub.execute_input": "2022-09-17T06:52:47.037646Z",
     "iopub.status.busy": "2022-09-17T06:52:47.037202Z",
     "iopub.status.idle": "2022-09-17T06:52:47.066407Z",
     "shell.execute_reply": "2022-09-17T06:52:47.064701Z"
    },
    "papermill": {
     "duration": 0.050536,
     "end_time": "2022-09-17T06:52:47.069597",
     "exception": false,
     "start_time": "2022-09-17T06:52:47.019061",
     "status": "completed"
    },
    "tags": []
   },
   "outputs": [
    {
     "name": "stdout",
     "output_type": "stream",
     "text": [
      "\t\t\tDecision Tree Class report:\n",
      "               precision    recall  f1-score   support\n",
      "\n",
      "      female       0.96      0.96      0.96       324\n",
      "        male       0.96      0.96      0.96       310\n",
      "\n",
      "    accuracy                           0.96       634\n",
      "   macro avg       0.96      0.96      0.96       634\n",
      "weighted avg       0.96      0.96      0.96       634\n",
      "\n"
     ]
    }
   ],
   "source": [
    "print(\"\\t\\t\\tDecision Tree Class report:\\n\",classification_report(y_pred1,y_test))"
   ]
  },
  {
   "cell_type": "code",
   "execution_count": 25,
   "id": "07ddcc75",
   "metadata": {
    "execution": {
     "iopub.execute_input": "2022-09-17T06:52:47.105307Z",
     "iopub.status.busy": "2022-09-17T06:52:47.104823Z",
     "iopub.status.idle": "2022-09-17T06:52:47.112981Z",
     "shell.execute_reply": "2022-09-17T06:52:47.111704Z"
    },
    "papermill": {
     "duration": 0.028643,
     "end_time": "2022-09-17T06:52:47.115457",
     "exception": false,
     "start_time": "2022-09-17T06:52:47.086814",
     "status": "completed"
    },
    "tags": []
   },
   "outputs": [
    {
     "name": "stdout",
     "output_type": "stream",
     "text": [
      "Decision Tree Accuracy score:  96.05678233438486 %\n"
     ]
    }
   ],
   "source": [
    "print(\"Decision Tree Accuracy score: \",accuracy_score(y_pred1,y_test)*100,\"%\")print(\"Decision Tree Accuracy score: \",accuracy_score(y_pred1,y_test)*100,\"%\")"
   ]
  },
  {
   "cell_type": "code",
   "execution_count": 26,
   "id": "d026eaed",
   "metadata": {
    "execution": {
     "iopub.execute_input": "2022-09-17T06:52:47.150634Z",
     "iopub.status.busy": "2022-09-17T06:52:47.150215Z",
     "iopub.status.idle": "2022-09-17T06:52:47.155500Z",
     "shell.execute_reply": "2022-09-17T06:52:47.154195Z"
    },
    "papermill": {
     "duration": 0.025666,
     "end_time": "2022-09-17T06:52:47.157971",
     "exception": false,
     "start_time": "2022-09-17T06:52:47.132305",
     "status": "completed"
    },
    "tags": []
   },
   "outputs": [],
   "source": [
    "###2) Random Forest "
   ]
  },
  {
   "cell_type": "code",
   "execution_count": 27,
   "id": "2e50bd30",
   "metadata": {
    "execution": {
     "iopub.execute_input": "2022-09-17T06:52:47.194577Z",
     "iopub.status.busy": "2022-09-17T06:52:47.194124Z",
     "iopub.status.idle": "2022-09-17T06:52:47.264312Z",
     "shell.execute_reply": "2022-09-17T06:52:47.263160Z"
    },
    "papermill": {
     "duration": 0.091392,
     "end_time": "2022-09-17T06:52:47.266975",
     "exception": false,
     "start_time": "2022-09-17T06:52:47.175583",
     "status": "completed"
    },
    "tags": []
   },
   "outputs": [],
   "source": [
    "from sklearn.ensemble import RandomForestClassifier"
   ]
  },
  {
   "cell_type": "code",
   "execution_count": 28,
   "id": "071347b6",
   "metadata": {
    "execution": {
     "iopub.execute_input": "2022-09-17T06:52:47.302862Z",
     "iopub.status.busy": "2022-09-17T06:52:47.302159Z",
     "iopub.status.idle": "2022-09-17T06:52:47.306768Z",
     "shell.execute_reply": "2022-09-17T06:52:47.305890Z"
    },
    "papermill": {
     "duration": 0.025435,
     "end_time": "2022-09-17T06:52:47.309085",
     "exception": false,
     "start_time": "2022-09-17T06:52:47.283650",
     "status": "completed"
    },
    "tags": []
   },
   "outputs": [],
   "source": [
    "RFmodel = RandomForestClassifier(random_state = 200)"
   ]
  },
  {
   "cell_type": "code",
   "execution_count": 29,
   "id": "2696e115",
   "metadata": {
    "execution": {
     "iopub.execute_input": "2022-09-17T06:52:47.346260Z",
     "iopub.status.busy": "2022-09-17T06:52:47.345582Z",
     "iopub.status.idle": "2022-09-17T06:52:48.018726Z",
     "shell.execute_reply": "2022-09-17T06:52:48.017428Z"
    },
    "papermill": {
     "duration": 0.694662,
     "end_time": "2022-09-17T06:52:48.021330",
     "exception": false,
     "start_time": "2022-09-17T06:52:47.326668",
     "status": "completed"
    },
    "tags": []
   },
   "outputs": [
    {
     "data": {
      "text/plain": [
       "RandomForestClassifier(random_state=200)"
      ]
     },
     "execution_count": 29,
     "metadata": {},
     "output_type": "execute_result"
    }
   ],
   "source": [
    "RFmodel.fit(x_train,y_train)"
   ]
  },
  {
   "cell_type": "code",
   "execution_count": 30,
   "id": "4aa08b33",
   "metadata": {
    "execution": {
     "iopub.execute_input": "2022-09-17T06:52:48.057890Z",
     "iopub.status.busy": "2022-09-17T06:52:48.057160Z",
     "iopub.status.idle": "2022-09-17T06:52:48.085038Z",
     "shell.execute_reply": "2022-09-17T06:52:48.083934Z"
    },
    "papermill": {
     "duration": 0.049469,
     "end_time": "2022-09-17T06:52:48.087968",
     "exception": false,
     "start_time": "2022-09-17T06:52:48.038499",
     "status": "completed"
    },
    "tags": []
   },
   "outputs": [],
   "source": [
    "y_pred2 = RFmodel.predict(x_test)"
   ]
  },
  {
   "cell_type": "code",
   "execution_count": 31,
   "id": "f3179356",
   "metadata": {
    "execution": {
     "iopub.execute_input": "2022-09-17T06:52:48.124132Z",
     "iopub.status.busy": "2022-09-17T06:52:48.123626Z",
     "iopub.status.idle": "2022-09-17T06:52:48.129692Z",
     "shell.execute_reply": "2022-09-17T06:52:48.128579Z"
    },
    "papermill": {
     "duration": 0.027294,
     "end_time": "2022-09-17T06:52:48.132393",
     "exception": false,
     "start_time": "2022-09-17T06:52:48.105099",
     "status": "completed"
    },
    "tags": []
   },
   "outputs": [
    {
     "name": "stdout",
     "output_type": "stream",
     "text": [
      "['female' 'male' 'female' 'female' 'male' 'male' 'female' 'male' 'female'\n",
      " 'male']\n"
     ]
    }
   ],
   "source": [
    "print(y_pred2[:10])"
   ]
  },
  {
   "cell_type": "code",
   "execution_count": 32,
   "id": "49a9ef8f",
   "metadata": {
    "execution": {
     "iopub.execute_input": "2022-09-17T06:52:48.169013Z",
     "iopub.status.busy": "2022-09-17T06:52:48.168280Z",
     "iopub.status.idle": "2022-09-17T06:52:48.198688Z",
     "shell.execute_reply": "2022-09-17T06:52:48.197080Z"
    },
    "papermill": {
     "duration": 0.051909,
     "end_time": "2022-09-17T06:52:48.201342",
     "exception": false,
     "start_time": "2022-09-17T06:52:48.149433",
     "status": "completed"
    },
    "tags": []
   },
   "outputs": [
    {
     "name": "stdout",
     "output_type": "stream",
     "text": [
      "score of Random forest model is:  0.9779179810725552\n"
     ]
    }
   ],
   "source": [
    "print('score of Random forest model is: ',RFmodel.score(x_test,y_test))"
   ]
  },
  {
   "cell_type": "code",
   "execution_count": 33,
   "id": "e5f92cf0",
   "metadata": {
    "execution": {
     "iopub.execute_input": "2022-09-17T06:52:48.238113Z",
     "iopub.status.busy": "2022-09-17T06:52:48.237247Z",
     "iopub.status.idle": "2022-09-17T06:52:48.278627Z",
     "shell.execute_reply": "2022-09-17T06:52:48.277428Z"
    },
    "papermill": {
     "duration": 0.063001,
     "end_time": "2022-09-17T06:52:48.281464",
     "exception": false,
     "start_time": "2022-09-17T06:52:48.218463",
     "status": "completed"
    },
    "tags": []
   },
   "outputs": [
    {
     "data": {
      "text/html": [
       "<div>\n",
       "<style scoped>\n",
       "    .dataframe tbody tr th:only-of-type {\n",
       "        vertical-align: middle;\n",
       "    }\n",
       "\n",
       "    .dataframe tbody tr th {\n",
       "        vertical-align: top;\n",
       "    }\n",
       "\n",
       "    .dataframe thead th {\n",
       "        text-align: right;\n",
       "    }\n",
       "</style>\n",
       "<table border=\"1\" class=\"dataframe\">\n",
       "  <thead>\n",
       "    <tr style=\"text-align: right;\">\n",
       "      <th>confusion</th>\n",
       "      <th>female</th>\n",
       "      <th>male</th>\n",
       "      <th>All</th>\n",
       "    </tr>\n",
       "    <tr>\n",
       "      <th>matrix</th>\n",
       "      <th></th>\n",
       "      <th></th>\n",
       "      <th></th>\n",
       "    </tr>\n",
       "  </thead>\n",
       "  <tbody>\n",
       "    <tr>\n",
       "      <th>female</th>\n",
       "      <td>319</td>\n",
       "      <td>10</td>\n",
       "      <td>329</td>\n",
       "    </tr>\n",
       "    <tr>\n",
       "      <th>male</th>\n",
       "      <td>4</td>\n",
       "      <td>301</td>\n",
       "      <td>305</td>\n",
       "    </tr>\n",
       "    <tr>\n",
       "      <th>All</th>\n",
       "      <td>323</td>\n",
       "      <td>311</td>\n",
       "      <td>634</td>\n",
       "    </tr>\n",
       "  </tbody>\n",
       "</table>\n",
       "</div>"
      ],
      "text/plain": [
       "confusion  female  male  All\n",
       "matrix                      \n",
       "female        319    10  329\n",
       "male            4   301  305\n",
       "All           323   311  634"
      ]
     },
     "execution_count": 33,
     "metadata": {},
     "output_type": "execute_result"
    }
   ],
   "source": [
    "pd.crosstab(y_pred2,y_test,rownames=['matrix'],colnames=['confusion'],margins = True)"
   ]
  },
  {
   "cell_type": "code",
   "execution_count": 34,
   "id": "eac950f2",
   "metadata": {
    "execution": {
     "iopub.execute_input": "2022-09-17T06:52:48.319490Z",
     "iopub.status.busy": "2022-09-17T06:52:48.318616Z",
     "iopub.status.idle": "2022-09-17T06:52:48.351123Z",
     "shell.execute_reply": "2022-09-17T06:52:48.349607Z"
    },
    "papermill": {
     "duration": 0.054319,
     "end_time": "2022-09-17T06:52:48.353914",
     "exception": false,
     "start_time": "2022-09-17T06:52:48.299595",
     "status": "completed"
    },
    "tags": []
   },
   "outputs": [
    {
     "name": "stdout",
     "output_type": "stream",
     "text": [
      "\t\t\tRandom Forest Class report:\n",
      "               precision    recall  f1-score   support\n",
      "\n",
      "      female       0.99      0.97      0.98       329\n",
      "        male       0.97      0.99      0.98       305\n",
      "\n",
      "    accuracy                           0.98       634\n",
      "   macro avg       0.98      0.98      0.98       634\n",
      "weighted avg       0.98      0.98      0.98       634\n",
      "\n"
     ]
    }
   ],
   "source": [
    "print(\"\\t\\t\\tRandom Forest Class report:\\n\",classification_report(y_pred2,y_test))"
   ]
  },
  {
   "cell_type": "code",
   "execution_count": 35,
   "id": "22abea6b",
   "metadata": {
    "execution": {
     "iopub.execute_input": "2022-09-17T06:52:48.391494Z",
     "iopub.status.busy": "2022-09-17T06:52:48.390108Z",
     "iopub.status.idle": "2022-09-17T06:52:48.399116Z",
     "shell.execute_reply": "2022-09-17T06:52:48.397830Z"
    },
    "papermill": {
     "duration": 0.030169,
     "end_time": "2022-09-17T06:52:48.401572",
     "exception": false,
     "start_time": "2022-09-17T06:52:48.371403",
     "status": "completed"
    },
    "tags": []
   },
   "outputs": [
    {
     "name": "stdout",
     "output_type": "stream",
     "text": [
      "Random Forest Accuracy score:  97.79179810725552 %\n"
     ]
    }
   ],
   "source": [
    "print(\"Random Forest Accuracy score: \",accuracy_score(y_pred2,y_test)*100,\"%\")"
   ]
  },
  {
   "cell_type": "code",
   "execution_count": 36,
   "id": "70ff1a87",
   "metadata": {
    "execution": {
     "iopub.execute_input": "2022-09-17T06:52:48.439187Z",
     "iopub.status.busy": "2022-09-17T06:52:48.437962Z",
     "iopub.status.idle": "2022-09-17T06:52:48.443594Z",
     "shell.execute_reply": "2022-09-17T06:52:48.442420Z"
    },
    "papermill": {
     "duration": 0.026739,
     "end_time": "2022-09-17T06:52:48.445900",
     "exception": false,
     "start_time": "2022-09-17T06:52:48.419161",
     "status": "completed"
    },
    "tags": []
   },
   "outputs": [],
   "source": [
    "###3)Logistic Regression"
   ]
  },
  {
   "cell_type": "code",
   "execution_count": 37,
   "id": "f328a315",
   "metadata": {
    "execution": {
     "iopub.execute_input": "2022-09-17T06:52:48.482409Z",
     "iopub.status.busy": "2022-09-17T06:52:48.481957Z",
     "iopub.status.idle": "2022-09-17T06:52:48.487671Z",
     "shell.execute_reply": "2022-09-17T06:52:48.486111Z"
    },
    "papermill": {
     "duration": 0.026657,
     "end_time": "2022-09-17T06:52:48.490026",
     "exception": false,
     "start_time": "2022-09-17T06:52:48.463369",
     "status": "completed"
    },
    "tags": []
   },
   "outputs": [],
   "source": [
    "from sklearn.linear_model import LogisticRegression"
   ]
  },
  {
   "cell_type": "code",
   "execution_count": 38,
   "id": "36d365a5",
   "metadata": {
    "execution": {
     "iopub.execute_input": "2022-09-17T06:52:48.526949Z",
     "iopub.status.busy": "2022-09-17T06:52:48.526464Z",
     "iopub.status.idle": "2022-09-17T06:52:48.531952Z",
     "shell.execute_reply": "2022-09-17T06:52:48.530686Z"
    },
    "papermill": {
     "duration": 0.026638,
     "end_time": "2022-09-17T06:52:48.534274",
     "exception": false,
     "start_time": "2022-09-17T06:52:48.507636",
     "status": "completed"
    },
    "tags": []
   },
   "outputs": [],
   "source": [
    "LRmodel = LogisticRegression(max_iter=10000)\n"
   ]
  },
  {
   "cell_type": "code",
   "execution_count": 39,
   "id": "aefbc21a",
   "metadata": {
    "execution": {
     "iopub.execute_input": "2022-09-17T06:52:48.571274Z",
     "iopub.status.busy": "2022-09-17T06:52:48.570803Z",
     "iopub.status.idle": "2022-09-17T06:52:49.157580Z",
     "shell.execute_reply": "2022-09-17T06:52:49.155864Z"
    },
    "papermill": {
     "duration": 0.610042,
     "end_time": "2022-09-17T06:52:49.161982",
     "exception": false,
     "start_time": "2022-09-17T06:52:48.551940",
     "status": "completed"
    },
    "tags": []
   },
   "outputs": [
    {
     "data": {
      "text/plain": [
       "LogisticRegression(max_iter=10000)"
      ]
     },
     "execution_count": 39,
     "metadata": {},
     "output_type": "execute_result"
    }
   ],
   "source": [
    "LRmodel.fit(x_train,y_train)"
   ]
  },
  {
   "cell_type": "code",
   "execution_count": 40,
   "id": "38dc7209",
   "metadata": {
    "execution": {
     "iopub.execute_input": "2022-09-17T06:52:49.260364Z",
     "iopub.status.busy": "2022-09-17T06:52:49.259531Z",
     "iopub.status.idle": "2022-09-17T06:52:49.275070Z",
     "shell.execute_reply": "2022-09-17T06:52:49.273416Z"
    },
    "papermill": {
     "duration": 0.069239,
     "end_time": "2022-09-17T06:52:49.277718",
     "exception": false,
     "start_time": "2022-09-17T06:52:49.208479",
     "status": "completed"
    },
    "tags": []
   },
   "outputs": [],
   "source": [
    "y_pred3 = LRmodel.predict(x_test)"
   ]
  },
  {
   "cell_type": "code",
   "execution_count": 41,
   "id": "73a96119",
   "metadata": {
    "execution": {
     "iopub.execute_input": "2022-09-17T06:52:49.371079Z",
     "iopub.status.busy": "2022-09-17T06:52:49.370298Z",
     "iopub.status.idle": "2022-09-17T06:52:49.380184Z",
     "shell.execute_reply": "2022-09-17T06:52:49.378549Z"
    },
    "papermill": {
     "duration": 0.064515,
     "end_time": "2022-09-17T06:52:49.387303",
     "exception": false,
     "start_time": "2022-09-17T06:52:49.322788",
     "status": "completed"
    },
    "tags": []
   },
   "outputs": [
    {
     "name": "stdout",
     "output_type": "stream",
     "text": [
      "['male' 'male' 'female' 'female' 'male' 'male' 'female' 'male' 'female'\n",
      " 'male']\n"
     ]
    }
   ],
   "source": [
    "print(y_pred3[:10])"
   ]
  },
  {
   "cell_type": "code",
   "execution_count": 42,
   "id": "1b7317ad",
   "metadata": {
    "execution": {
     "iopub.execute_input": "2022-09-17T06:52:49.428016Z",
     "iopub.status.busy": "2022-09-17T06:52:49.427512Z",
     "iopub.status.idle": "2022-09-17T06:52:49.442066Z",
     "shell.execute_reply": "2022-09-17T06:52:49.440251Z"
    },
    "papermill": {
     "duration": 0.039967,
     "end_time": "2022-09-17T06:52:49.448598",
     "exception": false,
     "start_time": "2022-09-17T06:52:49.408631",
     "status": "completed"
    },
    "tags": []
   },
   "outputs": [
    {
     "name": "stdout",
     "output_type": "stream",
     "text": [
      "score of Log Reg model is:  0.9037854889589906\n"
     ]
    }
   ],
   "source": [
    "print('score of Log Reg model is: ',LRmodel.score(x_test,y_test))"
   ]
  },
  {
   "cell_type": "code",
   "execution_count": 43,
   "id": "73661afd",
   "metadata": {
    "execution": {
     "iopub.execute_input": "2022-09-17T06:52:49.544302Z",
     "iopub.status.busy": "2022-09-17T06:52:49.543476Z",
     "iopub.status.idle": "2022-09-17T06:52:49.590122Z",
     "shell.execute_reply": "2022-09-17T06:52:49.588932Z"
    },
    "papermill": {
     "duration": 0.097364,
     "end_time": "2022-09-17T06:52:49.592651",
     "exception": false,
     "start_time": "2022-09-17T06:52:49.495287",
     "status": "completed"
    },
    "tags": []
   },
   "outputs": [
    {
     "data": {
      "text/html": [
       "<div>\n",
       "<style scoped>\n",
       "    .dataframe tbody tr th:only-of-type {\n",
       "        vertical-align: middle;\n",
       "    }\n",
       "\n",
       "    .dataframe tbody tr th {\n",
       "        vertical-align: top;\n",
       "    }\n",
       "\n",
       "    .dataframe thead th {\n",
       "        text-align: right;\n",
       "    }\n",
       "</style>\n",
       "<table border=\"1\" class=\"dataframe\">\n",
       "  <thead>\n",
       "    <tr style=\"text-align: right;\">\n",
       "      <th>confusion</th>\n",
       "      <th>female</th>\n",
       "      <th>male</th>\n",
       "      <th>All</th>\n",
       "    </tr>\n",
       "    <tr>\n",
       "      <th>matrix</th>\n",
       "      <th></th>\n",
       "      <th></th>\n",
       "      <th></th>\n",
       "    </tr>\n",
       "  </thead>\n",
       "  <tbody>\n",
       "    <tr>\n",
       "      <th>female</th>\n",
       "      <td>273</td>\n",
       "      <td>11</td>\n",
       "      <td>284</td>\n",
       "    </tr>\n",
       "    <tr>\n",
       "      <th>male</th>\n",
       "      <td>50</td>\n",
       "      <td>300</td>\n",
       "      <td>350</td>\n",
       "    </tr>\n",
       "    <tr>\n",
       "      <th>All</th>\n",
       "      <td>323</td>\n",
       "      <td>311</td>\n",
       "      <td>634</td>\n",
       "    </tr>\n",
       "  </tbody>\n",
       "</table>\n",
       "</div>"
      ],
      "text/plain": [
       "confusion  female  male  All\n",
       "matrix                      \n",
       "female        273    11  284\n",
       "male           50   300  350\n",
       "All           323   311  634"
      ]
     },
     "execution_count": 43,
     "metadata": {},
     "output_type": "execute_result"
    }
   ],
   "source": [
    "pd.crosstab(y_pred3,y_test,rownames=['matrix'],colnames=['confusion'],margins = True)"
   ]
  },
  {
   "cell_type": "code",
   "execution_count": 44,
   "id": "7026791d",
   "metadata": {
    "execution": {
     "iopub.execute_input": "2022-09-17T06:52:49.630243Z",
     "iopub.status.busy": "2022-09-17T06:52:49.628977Z",
     "iopub.status.idle": "2022-09-17T06:52:49.657810Z",
     "shell.execute_reply": "2022-09-17T06:52:49.656324Z"
    },
    "papermill": {
     "duration": 0.050821,
     "end_time": "2022-09-17T06:52:49.660923",
     "exception": false,
     "start_time": "2022-09-17T06:52:49.610102",
     "status": "completed"
    },
    "tags": []
   },
   "outputs": [
    {
     "name": "stdout",
     "output_type": "stream",
     "text": [
      "\t\t\tLog Reg Class report:\n",
      "               precision    recall  f1-score   support\n",
      "\n",
      "      female       0.99      0.97      0.98       329\n",
      "        male       0.97      0.99      0.98       305\n",
      "\n",
      "    accuracy                           0.98       634\n",
      "   macro avg       0.98      0.98      0.98       634\n",
      "weighted avg       0.98      0.98      0.98       634\n",
      "\n"
     ]
    }
   ],
   "source": [
    "print(\"\\t\\t\\tLog Reg Class report:\\n\",classification_report(y_pred2,y_test))"
   ]
  },
  {
   "cell_type": "code",
   "execution_count": 45,
   "id": "968db05f",
   "metadata": {
    "execution": {
     "iopub.execute_input": "2022-09-17T06:52:49.698667Z",
     "iopub.status.busy": "2022-09-17T06:52:49.698220Z",
     "iopub.status.idle": "2022-09-17T06:52:49.705786Z",
     "shell.execute_reply": "2022-09-17T06:52:49.704848Z"
    },
    "papermill": {
     "duration": 0.029234,
     "end_time": "2022-09-17T06:52:49.708173",
     "exception": false,
     "start_time": "2022-09-17T06:52:49.678939",
     "status": "completed"
    },
    "tags": []
   },
   "outputs": [
    {
     "name": "stdout",
     "output_type": "stream",
     "text": [
      "Log Reg Accuracy score:  90.37854889589906 %\n"
     ]
    }
   ],
   "source": [
    "print(\"Log Reg Accuracy score: \",accuracy_score(y_pred3,y_test)*100,\"%\")"
   ]
  },
  {
   "cell_type": "code",
   "execution_count": 46,
   "id": "c5a42d9a",
   "metadata": {
    "execution": {
     "iopub.execute_input": "2022-09-17T06:52:49.745376Z",
     "iopub.status.busy": "2022-09-17T06:52:49.744901Z",
     "iopub.status.idle": "2022-09-17T06:52:49.749831Z",
     "shell.execute_reply": "2022-09-17T06:52:49.748935Z"
    },
    "papermill": {
     "duration": 0.026158,
     "end_time": "2022-09-17T06:52:49.751908",
     "exception": false,
     "start_time": "2022-09-17T06:52:49.725750",
     "status": "completed"
    },
    "tags": []
   },
   "outputs": [],
   "source": [
    "###4) KNN Classifier"
   ]
  },
  {
   "cell_type": "code",
   "execution_count": 47,
   "id": "37094b06",
   "metadata": {
    "execution": {
     "iopub.execute_input": "2022-09-17T06:52:49.789434Z",
     "iopub.status.busy": "2022-09-17T06:52:49.788978Z",
     "iopub.status.idle": "2022-09-17T06:52:49.801826Z",
     "shell.execute_reply": "2022-09-17T06:52:49.800643Z"
    },
    "papermill": {
     "duration": 0.034364,
     "end_time": "2022-09-17T06:52:49.804006",
     "exception": false,
     "start_time": "2022-09-17T06:52:49.769642",
     "status": "completed"
    },
    "tags": []
   },
   "outputs": [
    {
     "data": {
      "text/plain": [
       "KNeighborsClassifier(n_neighbors=15, p=1)"
      ]
     },
     "execution_count": 47,
     "metadata": {},
     "output_type": "execute_result"
    }
   ],
   "source": [
    "from sklearn.neighbors import KNeighborsClassifier\n",
    "KNmodel = KNeighborsClassifier(n_neighbors =15, metric = 'minkowski', p = 1)\n",
    "KNmodel.fit(x_train, y_train)"
   ]
  },
  {
   "cell_type": "code",
   "execution_count": 48,
   "id": "65f7ee25",
   "metadata": {
    "execution": {
     "iopub.execute_input": "2022-09-17T06:52:49.842516Z",
     "iopub.status.busy": "2022-09-17T06:52:49.842036Z",
     "iopub.status.idle": "2022-09-17T06:52:49.931647Z",
     "shell.execute_reply": "2022-09-17T06:52:49.930570Z"
    },
    "papermill": {
     "duration": 0.111713,
     "end_time": "2022-09-17T06:52:49.934320",
     "exception": false,
     "start_time": "2022-09-17T06:52:49.822607",
     "status": "completed"
    },
    "tags": []
   },
   "outputs": [],
   "source": [
    "y_pred4 = KNmodel.predict(x_test)"
   ]
  },
  {
   "cell_type": "code",
   "execution_count": 49,
   "id": "135f5423",
   "metadata": {
    "execution": {
     "iopub.execute_input": "2022-09-17T06:52:49.972342Z",
     "iopub.status.busy": "2022-09-17T06:52:49.971898Z",
     "iopub.status.idle": "2022-09-17T06:52:49.979269Z",
     "shell.execute_reply": "2022-09-17T06:52:49.978148Z"
    },
    "papermill": {
     "duration": 0.029174,
     "end_time": "2022-09-17T06:52:49.981696",
     "exception": false,
     "start_time": "2022-09-17T06:52:49.952522",
     "status": "completed"
    },
    "tags": []
   },
   "outputs": [
    {
     "data": {
      "text/plain": [
       "array(['male', 'female', 'female', 'male', 'male', 'female', 'female',\n",
       "       'male', 'male', 'male'], dtype=object)"
      ]
     },
     "execution_count": 49,
     "metadata": {},
     "output_type": "execute_result"
    }
   ],
   "source": [
    "y_pred4[:10]"
   ]
  },
  {
   "cell_type": "code",
   "execution_count": 50,
   "id": "10ae597d",
   "metadata": {
    "execution": {
     "iopub.execute_input": "2022-09-17T06:52:50.019518Z",
     "iopub.status.busy": "2022-09-17T06:52:50.019071Z",
     "iopub.status.idle": "2022-09-17T06:52:50.108299Z",
     "shell.execute_reply": "2022-09-17T06:52:50.106630Z"
    },
    "papermill": {
     "duration": 0.111576,
     "end_time": "2022-09-17T06:52:50.111075",
     "exception": false,
     "start_time": "2022-09-17T06:52:49.999499",
     "status": "completed"
    },
    "tags": []
   },
   "outputs": [
    {
     "name": "stdout",
     "output_type": "stream",
     "text": [
      "score of KNN model is:  0.7839116719242902\n"
     ]
    }
   ],
   "source": [
    "print('score of KNN model is: ', KNmodel.score(x_test,y_test))"
   ]
  },
  {
   "cell_type": "code",
   "execution_count": 51,
   "id": "b938cd9c",
   "metadata": {
    "execution": {
     "iopub.execute_input": "2022-09-17T06:52:50.148978Z",
     "iopub.status.busy": "2022-09-17T06:52:50.148491Z",
     "iopub.status.idle": "2022-09-17T06:52:50.191139Z",
     "shell.execute_reply": "2022-09-17T06:52:50.189807Z"
    },
    "papermill": {
     "duration": 0.065101,
     "end_time": "2022-09-17T06:52:50.194238",
     "exception": false,
     "start_time": "2022-09-17T06:52:50.129137",
     "status": "completed"
    },
    "tags": []
   },
   "outputs": [
    {
     "data": {
      "text/html": [
       "<div>\n",
       "<style scoped>\n",
       "    .dataframe tbody tr th:only-of-type {\n",
       "        vertical-align: middle;\n",
       "    }\n",
       "\n",
       "    .dataframe tbody tr th {\n",
       "        vertical-align: top;\n",
       "    }\n",
       "\n",
       "    .dataframe thead th {\n",
       "        text-align: right;\n",
       "    }\n",
       "</style>\n",
       "<table border=\"1\" class=\"dataframe\">\n",
       "  <thead>\n",
       "    <tr style=\"text-align: right;\">\n",
       "      <th>confusion</th>\n",
       "      <th>female</th>\n",
       "      <th>male</th>\n",
       "      <th>All</th>\n",
       "    </tr>\n",
       "    <tr>\n",
       "      <th>matrix</th>\n",
       "      <th></th>\n",
       "      <th></th>\n",
       "      <th></th>\n",
       "    </tr>\n",
       "  </thead>\n",
       "  <tbody>\n",
       "    <tr>\n",
       "      <th>female</th>\n",
       "      <td>241</td>\n",
       "      <td>55</td>\n",
       "      <td>296</td>\n",
       "    </tr>\n",
       "    <tr>\n",
       "      <th>male</th>\n",
       "      <td>82</td>\n",
       "      <td>256</td>\n",
       "      <td>338</td>\n",
       "    </tr>\n",
       "    <tr>\n",
       "      <th>All</th>\n",
       "      <td>323</td>\n",
       "      <td>311</td>\n",
       "      <td>634</td>\n",
       "    </tr>\n",
       "  </tbody>\n",
       "</table>\n",
       "</div>"
      ],
      "text/plain": [
       "confusion  female  male  All\n",
       "matrix                      \n",
       "female        241    55  296\n",
       "male           82   256  338\n",
       "All           323   311  634"
      ]
     },
     "execution_count": 51,
     "metadata": {},
     "output_type": "execute_result"
    }
   ],
   "source": [
    "pd.crosstab(y_pred4,y_test,rownames=['matrix'],colnames=['confusion'],margins = True)"
   ]
  },
  {
   "cell_type": "code",
   "execution_count": 52,
   "id": "03a34667",
   "metadata": {
    "execution": {
     "iopub.execute_input": "2022-09-17T06:52:50.232801Z",
     "iopub.status.busy": "2022-09-17T06:52:50.232077Z",
     "iopub.status.idle": "2022-09-17T06:52:50.258422Z",
     "shell.execute_reply": "2022-09-17T06:52:50.256886Z"
    },
    "papermill": {
     "duration": 0.048748,
     "end_time": "2022-09-17T06:52:50.261223",
     "exception": false,
     "start_time": "2022-09-17T06:52:50.212475",
     "status": "completed"
    },
    "tags": []
   },
   "outputs": [
    {
     "name": "stdout",
     "output_type": "stream",
     "text": [
      "\t\t\tKNN report:\n",
      "               precision    recall  f1-score   support\n",
      "\n",
      "      female       0.75      0.81      0.78       296\n",
      "        male       0.82      0.76      0.79       338\n",
      "\n",
      "    accuracy                           0.78       634\n",
      "   macro avg       0.78      0.79      0.78       634\n",
      "weighted avg       0.79      0.78      0.78       634\n",
      "\n"
     ]
    }
   ],
   "source": [
    "print(\"\\t\\t\\tKNN report:\\n\",classification_report(y_pred4,y_test))"
   ]
  },
  {
   "cell_type": "code",
   "execution_count": 53,
   "id": "50309699",
   "metadata": {
    "execution": {
     "iopub.execute_input": "2022-09-17T06:52:50.299183Z",
     "iopub.status.busy": "2022-09-17T06:52:50.298552Z",
     "iopub.status.idle": "2022-09-17T06:52:50.306782Z",
     "shell.execute_reply": "2022-09-17T06:52:50.305468Z"
    },
    "papermill": {
     "duration": 0.03045,
     "end_time": "2022-09-17T06:52:50.309778",
     "exception": false,
     "start_time": "2022-09-17T06:52:50.279328",
     "status": "completed"
    },
    "tags": []
   },
   "outputs": [
    {
     "name": "stdout",
     "output_type": "stream",
     "text": [
      "KNN Accuracy score:  78.39116719242902 %\n"
     ]
    }
   ],
   "source": [
    "print(\"KNN Accuracy score: \",accuracy_score(y_pred4,y_test)*100,\"%\")"
   ]
  },
  {
   "cell_type": "code",
   "execution_count": 54,
   "id": "d5956afb",
   "metadata": {
    "execution": {
     "iopub.execute_input": "2022-09-17T06:52:50.349383Z",
     "iopub.status.busy": "2022-09-17T06:52:50.348537Z",
     "iopub.status.idle": "2022-09-17T06:52:50.352772Z",
     "shell.execute_reply": "2022-09-17T06:52:50.351940Z"
    },
    "papermill": {
     "duration": 0.026222,
     "end_time": "2022-09-17T06:52:50.354922",
     "exception": false,
     "start_time": "2022-09-17T06:52:50.328700",
     "status": "completed"
    },
    "tags": []
   },
   "outputs": [],
   "source": [
    "###5) SVM Model"
   ]
  },
  {
   "cell_type": "code",
   "execution_count": 55,
   "id": "4908fd44",
   "metadata": {
    "execution": {
     "iopub.execute_input": "2022-09-17T06:52:50.393965Z",
     "iopub.status.busy": "2022-09-17T06:52:50.393194Z",
     "iopub.status.idle": "2022-09-17T06:52:50.397633Z",
     "shell.execute_reply": "2022-09-17T06:52:50.396760Z"
    },
    "papermill": {
     "duration": 0.026098,
     "end_time": "2022-09-17T06:52:50.399820",
     "exception": false,
     "start_time": "2022-09-17T06:52:50.373722",
     "status": "completed"
    },
    "tags": []
   },
   "outputs": [],
   "source": [
    "from sklearn.svm import SVC"
   ]
  },
  {
   "cell_type": "code",
   "execution_count": 56,
   "id": "22ffbd1a",
   "metadata": {
    "execution": {
     "iopub.execute_input": "2022-09-17T06:52:50.439825Z",
     "iopub.status.busy": "2022-09-17T06:52:50.439042Z",
     "iopub.status.idle": "2022-09-17T06:52:50.444308Z",
     "shell.execute_reply": "2022-09-17T06:52:50.443297Z"
    },
    "papermill": {
     "duration": 0.027589,
     "end_time": "2022-09-17T06:52:50.446606",
     "exception": false,
     "start_time": "2022-09-17T06:52:50.419017",
     "status": "completed"
    },
    "tags": []
   },
   "outputs": [],
   "source": [
    "SVMmodel = SVC(kernel = 'linear')"
   ]
  },
  {
   "cell_type": "code",
   "execution_count": 57,
   "id": "9d286c25",
   "metadata": {
    "execution": {
     "iopub.execute_input": "2022-09-17T06:52:50.487157Z",
     "iopub.status.busy": "2022-09-17T06:52:50.486392Z",
     "iopub.status.idle": "2022-09-17T06:52:54.994742Z",
     "shell.execute_reply": "2022-09-17T06:52:54.993172Z"
    },
    "papermill": {
     "duration": 4.532152,
     "end_time": "2022-09-17T06:52:54.997866",
     "exception": false,
     "start_time": "2022-09-17T06:52:50.465714",
     "status": "completed"
    },
    "tags": []
   },
   "outputs": [
    {
     "data": {
      "text/plain": [
       "SVC(kernel='linear')"
      ]
     },
     "execution_count": 57,
     "metadata": {},
     "output_type": "execute_result"
    }
   ],
   "source": [
    "SVMmodel.fit(x_train,y_train)"
   ]
  },
  {
   "cell_type": "code",
   "execution_count": 58,
   "id": "ce109621",
   "metadata": {
    "execution": {
     "iopub.execute_input": "2022-09-17T06:52:55.038850Z",
     "iopub.status.busy": "2022-09-17T06:52:55.038383Z",
     "iopub.status.idle": "2022-09-17T06:52:55.070053Z",
     "shell.execute_reply": "2022-09-17T06:52:55.068750Z"
    },
    "papermill": {
     "duration": 0.056313,
     "end_time": "2022-09-17T06:52:55.073154",
     "exception": false,
     "start_time": "2022-09-17T06:52:55.016841",
     "status": "completed"
    },
    "tags": []
   },
   "outputs": [],
   "source": [
    "y_pred5 = SVMmodel.predict(x_test)"
   ]
  },
  {
   "cell_type": "code",
   "execution_count": 59,
   "id": "cac940eb",
   "metadata": {
    "execution": {
     "iopub.execute_input": "2022-09-17T06:52:55.112052Z",
     "iopub.status.busy": "2022-09-17T06:52:55.111580Z",
     "iopub.status.idle": "2022-09-17T06:52:55.118508Z",
     "shell.execute_reply": "2022-09-17T06:52:55.117412Z"
    },
    "papermill": {
     "duration": 0.029038,
     "end_time": "2022-09-17T06:52:55.120574",
     "exception": false,
     "start_time": "2022-09-17T06:52:55.091536",
     "status": "completed"
    },
    "tags": []
   },
   "outputs": [
    {
     "data": {
      "text/plain": [
       "array(['male', 'male', 'female', 'female', 'male', 'male', 'female',\n",
       "       'male', 'female', 'male'], dtype=object)"
      ]
     },
     "execution_count": 59,
     "metadata": {},
     "output_type": "execute_result"
    }
   ],
   "source": [
    "y_pred5[:10]"
   ]
  },
  {
   "cell_type": "code",
   "execution_count": 60,
   "id": "a4085555",
   "metadata": {
    "execution": {
     "iopub.execute_input": "2022-09-17T06:52:55.166366Z",
     "iopub.status.busy": "2022-09-17T06:52:55.165077Z",
     "iopub.status.idle": "2022-09-17T06:52:55.210495Z",
     "shell.execute_reply": "2022-09-17T06:52:55.208827Z"
    },
    "papermill": {
     "duration": 0.073845,
     "end_time": "2022-09-17T06:52:55.213236",
     "exception": false,
     "start_time": "2022-09-17T06:52:55.139391",
     "status": "completed"
    },
    "tags": []
   },
   "outputs": [
    {
     "name": "stdout",
     "output_type": "stream",
     "text": [
      "score of SVM model is:  0.919558359621451\n"
     ]
    }
   ],
   "source": [
    "print('score of SVM model is: ', SVMmodel.score(x_test,y_test))"
   ]
  },
  {
   "cell_type": "code",
   "execution_count": 61,
   "id": "2b7dc9c4",
   "metadata": {
    "execution": {
     "iopub.execute_input": "2022-09-17T06:52:55.258792Z",
     "iopub.status.busy": "2022-09-17T06:52:55.257556Z",
     "iopub.status.idle": "2022-09-17T06:52:55.296956Z",
     "shell.execute_reply": "2022-09-17T06:52:55.295652Z"
    },
    "papermill": {
     "duration": 0.06797,
     "end_time": "2022-09-17T06:52:55.300806",
     "exception": false,
     "start_time": "2022-09-17T06:52:55.232836",
     "status": "completed"
    },
    "tags": []
   },
   "outputs": [
    {
     "name": "stdout",
     "output_type": "stream",
     "text": [
      "confusion  female  male  All\n",
      "matrix                      \n",
      "female        282    10  292\n",
      "male           41   301  342\n",
      "All           323   311  634\n"
     ]
    }
   ],
   "source": [
    "print(pd.crosstab(y_pred5,y_test,rownames=['matrix'],colnames=['confusion'],margins = True))"
   ]
  },
  {
   "cell_type": "code",
   "execution_count": 62,
   "id": "025af1be",
   "metadata": {
    "execution": {
     "iopub.execute_input": "2022-09-17T06:52:55.343121Z",
     "iopub.status.busy": "2022-09-17T06:52:55.341964Z",
     "iopub.status.idle": "2022-09-17T06:52:55.368707Z",
     "shell.execute_reply": "2022-09-17T06:52:55.367413Z"
    },
    "papermill": {
     "duration": 0.050837,
     "end_time": "2022-09-17T06:52:55.371227",
     "exception": false,
     "start_time": "2022-09-17T06:52:55.320390",
     "status": "completed"
    },
    "tags": []
   },
   "outputs": [
    {
     "name": "stdout",
     "output_type": "stream",
     "text": [
      "\t\t\tSVM report:\n",
      "               precision    recall  f1-score   support\n",
      "\n",
      "      female       0.87      0.97      0.92       292\n",
      "        male       0.97      0.88      0.92       342\n",
      "\n",
      "    accuracy                           0.92       634\n",
      "   macro avg       0.92      0.92      0.92       634\n",
      "weighted avg       0.92      0.92      0.92       634\n",
      "\n"
     ]
    }
   ],
   "source": [
    "print(\"\\t\\t\\tSVM report:\\n\",classification_report(y_pred5,y_test))"
   ]
  },
  {
   "cell_type": "code",
   "execution_count": 63,
   "id": "b29ef525",
   "metadata": {
    "execution": {
     "iopub.execute_input": "2022-09-17T06:52:55.410792Z",
     "iopub.status.busy": "2022-09-17T06:52:55.410056Z",
     "iopub.status.idle": "2022-09-17T06:52:55.418116Z",
     "shell.execute_reply": "2022-09-17T06:52:55.416695Z"
    },
    "papermill": {
     "duration": 0.030927,
     "end_time": "2022-09-17T06:52:55.420690",
     "exception": false,
     "start_time": "2022-09-17T06:52:55.389763",
     "status": "completed"
    },
    "tags": []
   },
   "outputs": [
    {
     "name": "stdout",
     "output_type": "stream",
     "text": [
      "SVM Accuracy score:  91.9558359621451 %\n"
     ]
    }
   ],
   "source": [
    "print(\"SVM Accuracy score: \",accuracy_score(y_pred5,y_test)*100,\"%\")"
   ]
  },
  {
   "cell_type": "code",
   "execution_count": 64,
   "id": "69c78af2",
   "metadata": {
    "execution": {
     "iopub.execute_input": "2022-09-17T06:52:55.462400Z",
     "iopub.status.busy": "2022-09-17T06:52:55.461967Z",
     "iopub.status.idle": "2022-09-17T06:52:55.475146Z",
     "shell.execute_reply": "2022-09-17T06:52:55.473590Z"
    },
    "papermill": {
     "duration": 0.037678,
     "end_time": "2022-09-17T06:52:55.477807",
     "exception": false,
     "start_time": "2022-09-17T06:52:55.440129",
     "status": "completed"
    },
    "tags": []
   },
   "outputs": [],
   "source": [
    "list1 = [y_pred1,y_pred2,y_pred3,y_pred4,y_pred5]\n",
    "d =['DecTree','RandomForest','Log Regression','KNN','SuppVecMachine']\n",
    "a={} \n",
    "k=0\n",
    "list2 = []\n",
    "for i in list1:\n",
    "    list2.append(accuracy_score(i,y_test)*100)\n",
    "for i in d:\n",
    "    a[i] = list2[k]\n",
    "    k+=1"
   ]
  },
  {
   "cell_type": "code",
   "execution_count": 65,
   "id": "0628412e",
   "metadata": {
    "execution": {
     "iopub.execute_input": "2022-09-17T06:52:55.517890Z",
     "iopub.status.busy": "2022-09-17T06:52:55.517450Z",
     "iopub.status.idle": "2022-09-17T06:52:55.523405Z",
     "shell.execute_reply": "2022-09-17T06:52:55.522121Z"
    },
    "papermill": {
     "duration": 0.029657,
     "end_time": "2022-09-17T06:52:55.526642",
     "exception": false,
     "start_time": "2022-09-17T06:52:55.496985",
     "status": "completed"
    },
    "tags": []
   },
   "outputs": [
    {
     "name": "stdout",
     "output_type": "stream",
     "text": [
      "List of all model accuracies:\n",
      " {'DecTree': 96.05678233438486, 'RandomForest': 97.79179810725552, 'Log Regression': 90.37854889589906, 'KNN': 78.39116719242902, 'SuppVecMachine': 91.9558359621451}\n"
     ]
    }
   ],
   "source": [
    "print(\"List of all model accuracies:\\n\",a)"
   ]
  },
  {
   "cell_type": "code",
   "execution_count": 66,
   "id": "437bd109",
   "metadata": {
    "execution": {
     "iopub.execute_input": "2022-09-17T06:52:55.567540Z",
     "iopub.status.busy": "2022-09-17T06:52:55.567062Z",
     "iopub.status.idle": "2022-09-17T06:52:55.572998Z",
     "shell.execute_reply": "2022-09-17T06:52:55.571731Z"
    },
    "papermill": {
     "duration": 0.030312,
     "end_time": "2022-09-17T06:52:55.576696",
     "exception": false,
     "start_time": "2022-09-17T06:52:55.546384",
     "status": "completed"
    },
    "tags": []
   },
   "outputs": [
    {
     "name": "stdout",
     "output_type": "stream",
     "text": [
      "the most accurate model is: RandomForest\n"
     ]
    }
   ],
   "source": [
    "print(\"the most accurate model is:\", max(a, key=a.get))"
   ]
  },
  {
   "cell_type": "code",
   "execution_count": 67,
   "id": "0a9d075d",
   "metadata": {
    "execution": {
     "iopub.execute_input": "2022-09-17T06:52:55.618391Z",
     "iopub.status.busy": "2022-09-17T06:52:55.617936Z",
     "iopub.status.idle": "2022-09-17T06:52:55.623548Z",
     "shell.execute_reply": "2022-09-17T06:52:55.622036Z"
    },
    "papermill": {
     "duration": 0.029116,
     "end_time": "2022-09-17T06:52:55.626231",
     "exception": false,
     "start_time": "2022-09-17T06:52:55.597115",
     "status": "completed"
    },
    "tags": []
   },
   "outputs": [],
   "source": [
    "#Mini Project by Shabareesh Aryan"
   ]
  }
 ],
 "metadata": {
  "kernelspec": {
   "display_name": "Python 3.9.13 64-bit (microsoft store)",
   "language": "python",
   "name": "python3"
  },
  "language_info": {
   "codemirror_mode": {
    "name": "ipython",
    "version": 3
   },
   "file_extension": ".py",
   "mimetype": "text/x-python",
   "name": "python",
   "nbconvert_exporter": "python",
   "pygments_lexer": "ipython3",
   "version": "3.9.13"
  },
  "papermill": {
   "default_parameters": {},
   "duration": 23.280636,
   "end_time": "2022-09-17T06:52:56.570287",
   "environment_variables": {},
   "exception": null,
   "input_path": "__notebook__.ipynb",
   "output_path": "__notebook__.ipynb",
   "parameters": {},
   "start_time": "2022-09-17T06:52:33.289651",
   "version": "2.3.4"
  },
  "vscode": {
   "interpreter": {
    "hash": "3859a0a2c3f08322faa010ffbefd7b0e3ffe116852c95ccecd3e07f499ac40ea"
   }
  }
 },
 "nbformat": 4,
 "nbformat_minor": 5
}
