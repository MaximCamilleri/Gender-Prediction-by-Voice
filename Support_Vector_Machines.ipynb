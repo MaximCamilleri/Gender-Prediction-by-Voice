{
 "cells": [
  {
   "attachments": {},
   "cell_type": "markdown",
   "metadata": {},
   "source": [
    "# Support Vector Machines"
   ]
  },
  {
   "attachments": {},
   "cell_type": "markdown",
   "metadata": {},
   "source": [
    "### Imports"
   ]
  },
  {
   "cell_type": "code",
   "execution_count": 1,
   "metadata": {},
   "outputs": [],
   "source": [
    "import pandas as pd\n",
    "import matplotlib.pyplot as plt\n",
    "import numpy as np\n",
    "from sklearn.model_selection import train_test_split\n",
    "from sklearn.svm import SVC\n",
    "from sklearn.metrics import classification_report, accuracy_score, f1_score, confusion_matrix, ConfusionMatrixDisplay\n",
    "import pickle\n",
    "from sklearn.model_selection import GridSearchCV\n",
    "import numpy as np\n",
    "import time"
   ]
  },
  {
   "attachments": {},
   "cell_type": "markdown",
   "metadata": {},
   "source": [
    "### Data Preparation"
   ]
  },
  {
   "cell_type": "code",
   "execution_count": 2,
   "metadata": {},
   "outputs": [],
   "source": [
    "df = pd.read_csv('Data/voice.csv')\n",
    "\n",
    "x = df.iloc[:,:-1]\n",
    "y = df.label"
   ]
  },
  {
   "attachments": {},
   "cell_type": "markdown",
   "metadata": {},
   "source": [
    "### Methodology"
   ]
  },
  {
   "cell_type": "code",
   "execution_count": 3,
   "metadata": {},
   "outputs": [],
   "source": [
    "x_train, x_test,y_train,y_test = train_test_split(x,y,test_size=0.2)"
   ]
  },
  {
   "cell_type": "code",
   "execution_count": 6,
   "metadata": {},
   "outputs": [
    {
     "name": "stdout",
     "output_type": "stream",
     "text": [
      "Fitting 5 folds for each of 40 candidates, totalling 200 fits\n",
      "[CV 1/5] END .....C=0.0001, gamma=1, kernel=rbf;, score=0.505 total time=   0.2s\n",
      "[CV 2/5] END .....C=0.0001, gamma=1, kernel=rbf;, score=0.507 total time=   0.2s\n",
      "[CV 3/5] END .....C=0.0001, gamma=1, kernel=rbf;, score=0.507 total time=   0.2s\n",
      "[CV 4/5] END .....C=0.0001, gamma=1, kernel=rbf;, score=0.507 total time=   0.2s\n",
      "[CV 5/5] END .....C=0.0001, gamma=1, kernel=rbf;, score=0.506 total time=   0.2s\n",
      "[CV 1/5] END ..C=0.0001, gamma=1, kernel=linear;, score=0.635 total time=   0.0s\n",
      "[CV 2/5] END ..C=0.0001, gamma=1, kernel=linear;, score=0.651 total time=   0.1s\n",
      "[CV 3/5] END ..C=0.0001, gamma=1, kernel=linear;, score=0.606 total time=   0.1s\n",
      "[CV 4/5] END ..C=0.0001, gamma=1, kernel=linear;, score=0.629 total time=   0.1s\n",
      "[CV 5/5] END ..C=0.0001, gamma=1, kernel=linear;, score=0.656 total time=   0.1s\n",
      "[CV 1/5] END ...C=0.0001, gamma=0.1, kernel=rbf;, score=0.505 total time=   0.2s\n",
      "[CV 2/5] END ...C=0.0001, gamma=0.1, kernel=rbf;, score=0.507 total time=   0.2s\n",
      "[CV 3/5] END ...C=0.0001, gamma=0.1, kernel=rbf;, score=0.507 total time=   0.2s\n",
      "[CV 4/5] END ...C=0.0001, gamma=0.1, kernel=rbf;, score=0.507 total time=   0.2s\n",
      "[CV 5/5] END ...C=0.0001, gamma=0.1, kernel=rbf;, score=0.506 total time=   0.2s\n",
      "[CV 1/5] END C=0.0001, gamma=0.1, kernel=linear;, score=0.635 total time=   0.0s\n",
      "[CV 2/5] END C=0.0001, gamma=0.1, kernel=linear;, score=0.651 total time=   0.1s\n",
      "[CV 3/5] END C=0.0001, gamma=0.1, kernel=linear;, score=0.606 total time=   0.0s\n",
      "[CV 4/5] END C=0.0001, gamma=0.1, kernel=linear;, score=0.629 total time=   0.1s\n",
      "[CV 5/5] END C=0.0001, gamma=0.1, kernel=linear;, score=0.656 total time=   0.1s\n",
      "[CV 1/5] END .C=0.0001, gamma=0.001, kernel=rbf;, score=0.505 total time=   0.2s\n",
      "[CV 2/5] END .C=0.0001, gamma=0.001, kernel=rbf;, score=0.507 total time=   0.2s\n",
      "[CV 3/5] END .C=0.0001, gamma=0.001, kernel=rbf;, score=0.507 total time=   0.2s\n",
      "[CV 4/5] END .C=0.0001, gamma=0.001, kernel=rbf;, score=0.507 total time=   0.2s\n",
      "[CV 5/5] END .C=0.0001, gamma=0.001, kernel=rbf;, score=0.506 total time=   0.2s\n",
      "[CV 1/5] END C=0.0001, gamma=0.001, kernel=linear;, score=0.635 total time=   0.0s\n",
      "[CV 2/5] END C=0.0001, gamma=0.001, kernel=linear;, score=0.651 total time=   0.1s\n",
      "[CV 3/5] END C=0.0001, gamma=0.001, kernel=linear;, score=0.606 total time=   0.0s\n",
      "[CV 4/5] END C=0.0001, gamma=0.001, kernel=linear;, score=0.629 total time=   0.1s\n",
      "[CV 5/5] END C=0.0001, gamma=0.001, kernel=linear;, score=0.656 total time=   0.1s\n",
      "[CV 1/5] END C=0.0001, gamma=0.0001, kernel=rbf;, score=0.505 total time=   0.2s\n",
      "[CV 2/5] END C=0.0001, gamma=0.0001, kernel=rbf;, score=0.507 total time=   0.2s\n",
      "[CV 3/5] END C=0.0001, gamma=0.0001, kernel=rbf;, score=0.507 total time=   0.2s\n",
      "[CV 4/5] END C=0.0001, gamma=0.0001, kernel=rbf;, score=0.507 total time=   0.2s\n",
      "[CV 5/5] END C=0.0001, gamma=0.0001, kernel=rbf;, score=0.506 total time=   0.2s\n",
      "[CV 1/5] END C=0.0001, gamma=0.0001, kernel=linear;, score=0.635 total time=   0.0s\n",
      "[CV 2/5] END C=0.0001, gamma=0.0001, kernel=linear;, score=0.651 total time=   0.1s\n",
      "[CV 3/5] END C=0.0001, gamma=0.0001, kernel=linear;, score=0.606 total time=   0.1s\n",
      "[CV 4/5] END C=0.0001, gamma=0.0001, kernel=linear;, score=0.629 total time=   0.1s\n",
      "[CV 5/5] END C=0.0001, gamma=0.0001, kernel=linear;, score=0.656 total time=   0.1s\n",
      "[CV 1/5] END .......C=0.01, gamma=1, kernel=rbf;, score=0.505 total time=   0.2s\n",
      "[CV 2/5] END .......C=0.01, gamma=1, kernel=rbf;, score=0.507 total time=   0.2s\n",
      "[CV 3/5] END .......C=0.01, gamma=1, kernel=rbf;, score=0.507 total time=   0.2s\n",
      "[CV 4/5] END .......C=0.01, gamma=1, kernel=rbf;, score=0.507 total time=   0.2s\n",
      "[CV 5/5] END .......C=0.01, gamma=1, kernel=rbf;, score=0.506 total time=   0.2s\n",
      "[CV 1/5] END ....C=0.01, gamma=1, kernel=linear;, score=0.714 total time=   0.1s\n",
      "[CV 2/5] END ....C=0.01, gamma=1, kernel=linear;, score=0.746 total time=   0.1s\n",
      "[CV 3/5] END ....C=0.01, gamma=1, kernel=linear;, score=0.708 total time=   0.1s\n",
      "[CV 4/5] END ....C=0.01, gamma=1, kernel=linear;, score=0.692 total time=   0.1s\n",
      "[CV 5/5] END ....C=0.01, gamma=1, kernel=linear;, score=0.747 total time=   0.1s\n",
      "[CV 1/5] END .....C=0.01, gamma=0.1, kernel=rbf;, score=0.653 total time=   0.2s\n",
      "[CV 2/5] END .....C=0.01, gamma=0.1, kernel=rbf;, score=0.655 total time=   0.2s\n",
      "[CV 3/5] END .....C=0.01, gamma=0.1, kernel=rbf;, score=0.623 total time=   0.2s\n",
      "[CV 4/5] END .....C=0.01, gamma=0.1, kernel=rbf;, score=0.596 total time=   0.2s\n",
      "[CV 5/5] END .....C=0.01, gamma=0.1, kernel=rbf;, score=0.648 total time=   0.2s\n",
      "[CV 1/5] END ..C=0.01, gamma=0.1, kernel=linear;, score=0.714 total time=   0.1s\n",
      "[CV 2/5] END ..C=0.01, gamma=0.1, kernel=linear;, score=0.746 total time=   0.1s\n",
      "[CV 3/5] END ..C=0.01, gamma=0.1, kernel=linear;, score=0.708 total time=   0.1s\n",
      "[CV 4/5] END ..C=0.01, gamma=0.1, kernel=linear;, score=0.692 total time=   0.1s\n",
      "[CV 5/5] END ..C=0.01, gamma=0.1, kernel=linear;, score=0.747 total time=   0.1s\n",
      "[CV 1/5] END ...C=0.01, gamma=0.001, kernel=rbf;, score=0.505 total time=   0.2s\n",
      "[CV 2/5] END ...C=0.01, gamma=0.001, kernel=rbf;, score=0.507 total time=   0.2s\n",
      "[CV 3/5] END ...C=0.01, gamma=0.001, kernel=rbf;, score=0.507 total time=   0.2s\n",
      "[CV 4/5] END ...C=0.01, gamma=0.001, kernel=rbf;, score=0.507 total time=   0.2s\n",
      "[CV 5/5] END ...C=0.01, gamma=0.001, kernel=rbf;, score=0.506 total time=   0.2s\n",
      "[CV 1/5] END C=0.01, gamma=0.001, kernel=linear;, score=0.714 total time=   0.1s\n",
      "[CV 2/5] END C=0.01, gamma=0.001, kernel=linear;, score=0.746 total time=   0.1s\n",
      "[CV 3/5] END C=0.01, gamma=0.001, kernel=linear;, score=0.708 total time=   0.1s\n",
      "[CV 4/5] END C=0.01, gamma=0.001, kernel=linear;, score=0.692 total time=   0.1s\n",
      "[CV 5/5] END C=0.01, gamma=0.001, kernel=linear;, score=0.747 total time=   0.1s\n",
      "[CV 1/5] END ..C=0.01, gamma=0.0001, kernel=rbf;, score=0.505 total time=   0.1s\n",
      "[CV 2/5] END ..C=0.01, gamma=0.0001, kernel=rbf;, score=0.507 total time=   0.1s\n",
      "[CV 3/5] END ..C=0.01, gamma=0.0001, kernel=rbf;, score=0.507 total time=   0.1s\n",
      "[CV 4/5] END ..C=0.01, gamma=0.0001, kernel=rbf;, score=0.507 total time=   0.2s\n",
      "[CV 5/5] END ..C=0.01, gamma=0.0001, kernel=rbf;, score=0.506 total time=   0.2s\n",
      "[CV 1/5] END C=0.01, gamma=0.0001, kernel=linear;, score=0.714 total time=   0.1s\n",
      "[CV 2/5] END C=0.01, gamma=0.0001, kernel=linear;, score=0.746 total time=   0.1s\n",
      "[CV 3/5] END C=0.01, gamma=0.0001, kernel=linear;, score=0.708 total time=   0.1s\n",
      "[CV 4/5] END C=0.01, gamma=0.0001, kernel=linear;, score=0.692 total time=   0.1s\n",
      "[CV 5/5] END C=0.01, gamma=0.0001, kernel=linear;, score=0.747 total time=   0.1s\n",
      "[CV 1/5] END ........C=1.0, gamma=1, kernel=rbf;, score=0.726 total time=   0.1s\n",
      "[CV 2/5] END ........C=1.0, gamma=1, kernel=rbf;, score=0.736 total time=   0.2s\n",
      "[CV 3/5] END ........C=1.0, gamma=1, kernel=rbf;, score=0.722 total time=   0.2s\n",
      "[CV 4/5] END ........C=1.0, gamma=1, kernel=rbf;, score=0.688 total time=   0.1s\n",
      "[CV 5/5] END ........C=1.0, gamma=1, kernel=rbf;, score=0.769 total time=   0.2s\n",
      "[CV 1/5] END .....C=1.0, gamma=1, kernel=linear;, score=0.927 total time=   1.2s\n",
      "[CV 2/5] END .....C=1.0, gamma=1, kernel=linear;, score=0.915 total time=   2.1s\n",
      "[CV 3/5] END .....C=1.0, gamma=1, kernel=linear;, score=0.893 total time=   2.0s\n",
      "[CV 4/5] END .....C=1.0, gamma=1, kernel=linear;, score=0.919 total time=   2.0s\n",
      "[CV 5/5] END .....C=1.0, gamma=1, kernel=linear;, score=0.935 total time=   2.6s\n",
      "[CV 1/5] END ......C=1.0, gamma=0.1, kernel=rbf;, score=0.730 total time=   0.1s\n",
      "[CV 2/5] END ......C=1.0, gamma=0.1, kernel=rbf;, score=0.761 total time=   0.1s\n",
      "[CV 3/5] END ......C=1.0, gamma=0.1, kernel=rbf;, score=0.714 total time=   0.1s\n",
      "[CV 4/5] END ......C=1.0, gamma=0.1, kernel=rbf;, score=0.673 total time=   0.1s\n",
      "[CV 5/5] END ......C=1.0, gamma=0.1, kernel=rbf;, score=0.731 total time=   0.1s\n",
      "[CV 1/5] END ...C=1.0, gamma=0.1, kernel=linear;, score=0.927 total time=   1.4s\n",
      "[CV 2/5] END ...C=1.0, gamma=0.1, kernel=linear;, score=0.915 total time=   2.5s\n",
      "[CV 3/5] END ...C=1.0, gamma=0.1, kernel=linear;, score=0.893 total time=   2.4s\n",
      "[CV 4/5] END ...C=1.0, gamma=0.1, kernel=linear;, score=0.919 total time=   2.2s\n",
      "[CV 5/5] END ...C=1.0, gamma=0.1, kernel=linear;, score=0.935 total time=   3.2s\n",
      "[CV 1/5] END ....C=1.0, gamma=0.001, kernel=rbf;, score=0.655 total time=   0.3s\n",
      "[CV 2/5] END ....C=1.0, gamma=0.001, kernel=rbf;, score=0.706 total time=   0.4s\n",
      "[CV 3/5] END ....C=1.0, gamma=0.001, kernel=rbf;, score=0.657 total time=   0.5s\n",
      "[CV 4/5] END ....C=1.0, gamma=0.001, kernel=rbf;, score=0.641 total time=   0.3s\n",
      "[CV 5/5] END ....C=1.0, gamma=0.001, kernel=rbf;, score=0.688 total time=   0.2s\n",
      "[CV 1/5] END .C=1.0, gamma=0.001, kernel=linear;, score=0.927 total time=   1.7s\n",
      "[CV 2/5] END .C=1.0, gamma=0.001, kernel=linear;, score=0.915 total time=   2.6s\n",
      "[CV 3/5] END .C=1.0, gamma=0.001, kernel=linear;, score=0.893 total time=   2.1s\n",
      "[CV 4/5] END .C=1.0, gamma=0.001, kernel=linear;, score=0.919 total time=   2.1s\n",
      "[CV 5/5] END .C=1.0, gamma=0.001, kernel=linear;, score=0.935 total time=   2.5s\n",
      "[CV 1/5] END ...C=1.0, gamma=0.0001, kernel=rbf;, score=0.637 total time=   0.1s\n",
      "[CV 2/5] END ...C=1.0, gamma=0.0001, kernel=rbf;, score=0.704 total time=   0.1s\n",
      "[CV 3/5] END ...C=1.0, gamma=0.0001, kernel=rbf;, score=0.637 total time=   0.1s\n",
      "[CV 4/5] END ...C=1.0, gamma=0.0001, kernel=rbf;, score=0.639 total time=   0.1s\n",
      "[CV 5/5] END ...C=1.0, gamma=0.0001, kernel=rbf;, score=0.702 total time=   0.1s\n",
      "[CV 1/5] END C=1.0, gamma=0.0001, kernel=linear;, score=0.927 total time=   1.3s\n",
      "[CV 2/5] END C=1.0, gamma=0.0001, kernel=linear;, score=0.915 total time=   2.1s\n",
      "[CV 3/5] END C=1.0, gamma=0.0001, kernel=linear;, score=0.893 total time=   2.0s\n",
      "[CV 4/5] END C=1.0, gamma=0.0001, kernel=linear;, score=0.919 total time=   1.9s\n",
      "[CV 5/5] END C=1.0, gamma=0.0001, kernel=linear;, score=0.935 total time=   2.4s\n",
      "[CV 1/5] END ......C=100.0, gamma=1, kernel=rbf;, score=0.795 total time=   0.3s\n",
      "[CV 2/5] END ......C=100.0, gamma=1, kernel=rbf;, score=0.785 total time=   0.2s\n",
      "[CV 3/5] END ......C=100.0, gamma=1, kernel=rbf;, score=0.811 total time=   0.2s\n",
      "[CV 4/5] END ......C=100.0, gamma=1, kernel=rbf;, score=0.771 total time=   0.3s\n",
      "[CV 5/5] END ......C=100.0, gamma=1, kernel=rbf;, score=0.800 total time=   0.2s\n",
      "[CV 1/5] END ...C=100.0, gamma=1, kernel=linear;, score=0.974 total time=  34.2s\n",
      "[CV 2/5] END ...C=100.0, gamma=1, kernel=linear;, score=0.970 total time=  43.2s\n",
      "[CV 3/5] END ...C=100.0, gamma=1, kernel=linear;, score=0.961 total time=  11.4s\n",
      "[CV 4/5] END ...C=100.0, gamma=1, kernel=linear;, score=0.976 total time=  30.9s\n",
      "[CV 5/5] END ...C=100.0, gamma=1, kernel=linear;, score=0.962 total time=  28.4s\n",
      "[CV 1/5] END ....C=100.0, gamma=0.1, kernel=rbf;, score=0.866 total time=   0.2s\n",
      "[CV 2/5] END ....C=100.0, gamma=0.1, kernel=rbf;, score=0.888 total time=   0.2s\n",
      "[CV 3/5] END ....C=100.0, gamma=0.1, kernel=rbf;, score=0.901 total time=   0.2s\n",
      "[CV 4/5] END ....C=100.0, gamma=0.1, kernel=rbf;, score=0.864 total time=   0.2s\n",
      "[CV 5/5] END ....C=100.0, gamma=0.1, kernel=rbf;, score=0.901 total time=   0.2s\n",
      "[CV 1/5] END .C=100.0, gamma=0.1, kernel=linear;, score=0.974 total time=  35.8s\n",
      "[CV 2/5] END .C=100.0, gamma=0.1, kernel=linear;, score=0.970 total time=  40.5s\n",
      "[CV 3/5] END .C=100.0, gamma=0.1, kernel=linear;, score=0.961 total time=  11.6s\n",
      "[CV 4/5] END .C=100.0, gamma=0.1, kernel=linear;, score=0.976 total time=  30.2s\n",
      "[CV 5/5] END .C=100.0, gamma=0.1, kernel=linear;, score=0.962 total time=  28.4s\n",
      "[CV 1/5] END ..C=100.0, gamma=0.001, kernel=rbf;, score=0.840 total time=   0.1s\n",
      "[CV 2/5] END ..C=100.0, gamma=0.001, kernel=rbf;, score=0.840 total time=   0.1s\n",
      "[CV 3/5] END ..C=100.0, gamma=0.001, kernel=rbf;, score=0.819 total time=   0.1s\n",
      "[CV 4/5] END ..C=100.0, gamma=0.001, kernel=rbf;, score=0.811 total time=   0.1s\n",
      "[CV 5/5] END ..C=100.0, gamma=0.001, kernel=rbf;, score=0.840 total time=   0.1s\n",
      "[CV 1/5] END C=100.0, gamma=0.001, kernel=linear;, score=0.974 total time=  35.7s\n",
      "[CV 2/5] END C=100.0, gamma=0.001, kernel=linear;, score=0.970 total time=  41.6s\n",
      "[CV 3/5] END C=100.0, gamma=0.001, kernel=linear;, score=0.961 total time=  11.9s\n",
      "[CV 4/5] END C=100.0, gamma=0.001, kernel=linear;, score=0.976 total time=  30.1s\n",
      "[CV 5/5] END C=100.0, gamma=0.001, kernel=linear;, score=0.962 total time=  28.4s\n",
      "[CV 1/5] END .C=100.0, gamma=0.0001, kernel=rbf;, score=0.724 total time=   0.1s\n",
      "[CV 2/5] END .C=100.0, gamma=0.0001, kernel=rbf;, score=0.750 total time=   0.2s\n",
      "[CV 3/5] END .C=100.0, gamma=0.0001, kernel=rbf;, score=0.738 total time=   0.2s\n",
      "[CV 4/5] END .C=100.0, gamma=0.0001, kernel=rbf;, score=0.712 total time=   0.1s\n",
      "[CV 5/5] END .C=100.0, gamma=0.0001, kernel=rbf;, score=0.739 total time=   0.1s\n",
      "[CV 1/5] END C=100.0, gamma=0.0001, kernel=linear;, score=0.974 total time=  35.6s\n",
      "[CV 2/5] END C=100.0, gamma=0.0001, kernel=linear;, score=0.970 total time=  40.2s\n",
      "[CV 3/5] END C=100.0, gamma=0.0001, kernel=linear;, score=0.961 total time=  11.0s\n",
      "[CV 4/5] END C=100.0, gamma=0.0001, kernel=linear;, score=0.976 total time=  29.3s\n",
      "[CV 5/5] END C=100.0, gamma=0.0001, kernel=linear;, score=0.962 total time=  27.8s\n",
      "[CV 1/5] END ....C=10000.0, gamma=1, kernel=rbf;, score=0.795 total time=   0.2s\n",
      "[CV 2/5] END ....C=10000.0, gamma=1, kernel=rbf;, score=0.785 total time=   0.2s\n",
      "[CV 3/5] END ....C=10000.0, gamma=1, kernel=rbf;, score=0.811 total time=   0.2s\n",
      "[CV 4/5] END ....C=10000.0, gamma=1, kernel=rbf;, score=0.771 total time=   0.3s\n",
      "[CV 5/5] END ....C=10000.0, gamma=1, kernel=rbf;, score=0.800 total time=   0.3s\n",
      "[CV 1/5] END .C=10000.0, gamma=1, kernel=linear;, score=0.959 total time= 1.6min\n",
      "[CV 2/5] END .C=10000.0, gamma=1, kernel=linear;, score=0.963 total time=  24.1s\n",
      "[CV 3/5] END .C=10000.0, gamma=1, kernel=linear;, score=0.951 total time= 1.6min\n",
      "[CV 4/5] END .C=10000.0, gamma=1, kernel=linear;, score=0.974 total time= 2.2min\n",
      "[CV 5/5] END .C=10000.0, gamma=1, kernel=linear;, score=0.927 total time=  47.3s\n",
      "[CV 1/5] END ..C=10000.0, gamma=0.1, kernel=rbf;, score=0.874 total time=   0.6s\n",
      "[CV 2/5] END ..C=10000.0, gamma=0.1, kernel=rbf;, score=0.890 total time=   0.5s\n",
      "[CV 3/5] END ..C=10000.0, gamma=0.1, kernel=rbf;, score=0.888 total time=   0.5s\n",
      "[CV 4/5] END ..C=10000.0, gamma=0.1, kernel=rbf;, score=0.850 total time=   0.5s\n",
      "[CV 5/5] END ..C=10000.0, gamma=0.1, kernel=rbf;, score=0.897 total time=   0.6s\n",
      "[CV 1/5] END C=10000.0, gamma=0.1, kernel=linear;, score=0.959 total time= 1.7min\n",
      "[CV 2/5] END C=10000.0, gamma=0.1, kernel=linear;, score=0.963 total time=  24.8s\n",
      "[CV 3/5] END C=10000.0, gamma=0.1, kernel=linear;, score=0.951 total time= 1.2min\n",
      "[CV 4/5] END C=10000.0, gamma=0.1, kernel=linear;, score=0.974 total time= 1.7min\n",
      "[CV 5/5] END C=10000.0, gamma=0.1, kernel=linear;, score=0.927 total time=  42.0s\n",
      "[CV 1/5] END C=10000.0, gamma=0.001, kernel=rbf;, score=0.959 total time=   0.5s\n",
      "[CV 2/5] END C=10000.0, gamma=0.001, kernel=rbf;, score=0.959 total time=   0.3s\n",
      "[CV 3/5] END C=10000.0, gamma=0.001, kernel=rbf;, score=0.963 total time=   0.4s\n",
      "[CV 4/5] END C=10000.0, gamma=0.001, kernel=rbf;, score=0.970 total time=   0.4s\n",
      "[CV 5/5] END C=10000.0, gamma=0.001, kernel=rbf;, score=0.951 total time=   0.4s\n",
      "[CV 1/5] END C=10000.0, gamma=0.001, kernel=linear;, score=0.959 total time= 1.5min\n",
      "[CV 2/5] END C=10000.0, gamma=0.001, kernel=linear;, score=0.963 total time=  23.3s\n",
      "[CV 3/5] END C=10000.0, gamma=0.001, kernel=linear;, score=0.951 total time= 1.3min\n",
      "[CV 4/5] END C=10000.0, gamma=0.001, kernel=linear;, score=0.974 total time= 1.8min\n",
      "[CV 5/5] END C=10000.0, gamma=0.001, kernel=linear;, score=0.927 total time=  45.0s\n",
      "[CV 1/5] END C=10000.0, gamma=0.0001, kernel=rbf;, score=0.943 total time=   0.4s\n",
      "[CV 2/5] END C=10000.0, gamma=0.0001, kernel=rbf;, score=0.941 total time=   0.4s\n",
      "[CV 3/5] END C=10000.0, gamma=0.0001, kernel=rbf;, score=0.903 total time=   0.4s\n",
      "[CV 4/5] END C=10000.0, gamma=0.0001, kernel=rbf;, score=0.933 total time=   0.4s\n",
      "[CV 5/5] END C=10000.0, gamma=0.0001, kernel=rbf;, score=0.947 total time=   0.3s\n",
      "[CV 1/5] END C=10000.0, gamma=0.0001, kernel=linear;, score=0.959 total time= 1.7min\n",
      "[CV 2/5] END C=10000.0, gamma=0.0001, kernel=linear;, score=0.963 total time=  26.0s\n",
      "[CV 3/5] END C=10000.0, gamma=0.0001, kernel=linear;, score=0.951 total time= 1.3min\n",
      "[CV 4/5] END C=10000.0, gamma=0.0001, kernel=linear;, score=0.974 total time= 1.7min\n",
      "[CV 5/5] END C=10000.0, gamma=0.0001, kernel=linear;, score=0.927 total time=  43.5s\n"
     ]
    },
    {
     "data": {
      "text/plain": [
       "GridSearchCV(estimator=SVC(),\n",
       "             param_grid={'C': array([1.e-04, 1.e-02, 1.e+00, 1.e+02, 1.e+04]),\n",
       "                         'gamma': [1, 0.1, 0.001, 0.0001],\n",
       "                         'kernel': ['rbf', 'linear']},\n",
       "             verbose=3)"
      ]
     },
     "execution_count": 6,
     "metadata": {},
     "output_type": "execute_result"
    }
   ],
   "source": [
    "param_grid = {\n",
    "    'C': np.logspace(-4, 4, 5),\n",
    "    'gamma': [1, 0.1, 0.001, 0.0001],\n",
    "    'kernel': ['rbf', 'linear']\n",
    "}\n",
    "\n",
    "grid = GridSearchCV(SVC(), param_grid, refit = True, verbose = 3)\n",
    "\n",
    "grid.fit(x_train, y_train)"
   ]
  },
  {
   "cell_type": "code",
   "execution_count": 7,
   "metadata": {},
   "outputs": [
    {
     "name": "stdout",
     "output_type": "stream",
     "text": [
      "Params: {'C': 100.0, 'gamma': 1, 'kernel': 'linear'}\n"
     ]
    }
   ],
   "source": [
    "print(f'Params: {grid.best_params_}')"
   ]
  },
  {
   "cell_type": "code",
   "execution_count": 4,
   "metadata": {},
   "outputs": [
    {
     "name": "stdout",
     "output_type": "stream",
     "text": [
      "Logistic Regression time to train: 17.2326 seconds\n"
     ]
    }
   ],
   "source": [
    "start_timer = time.perf_counter()\n",
    "SVMmodel = SVC(kernel = 'linear', gamma=1, C=100)\n",
    "SVMmodel.fit(x_train,y_train)\n",
    "pickle.dump(SVMmodel, open(\"Models/SVM.pickle\", \"wb\"))\n",
    "end_timer = time.perf_counter()\n",
    "print(f\"Logistic Regression time to train: {end_timer - start_timer:0.4f} seconds\")\n",
    "y_pred = SVMmodel.predict(x_test)"
   ]
  },
  {
   "attachments": {},
   "cell_type": "markdown",
   "metadata": {},
   "source": [
    "### Evaluation"
   ]
  },
  {
   "attachments": {},
   "cell_type": "markdown",
   "metadata": {},
   "source": [
    "#### Accuracy"
   ]
  },
  {
   "cell_type": "code",
   "execution_count": 5,
   "metadata": {},
   "outputs": [
    {
     "name": "stdout",
     "output_type": "stream",
     "text": [
      "SVM Accuracy score:  97.47634069400631 %\n"
     ]
    }
   ],
   "source": [
    "print(\"SVM Accuracy score: \",accuracy_score(y_pred,y_test)*100,\"%\")"
   ]
  },
  {
   "attachments": {},
   "cell_type": "markdown",
   "metadata": {},
   "source": [
    "#### Confusion Matrix"
   ]
  },
  {
   "cell_type": "code",
   "execution_count": 12,
   "metadata": {},
   "outputs": [],
   "source": [
    "font = {'family' : 'normal',\n",
    "    'weight' : 'bold',\n",
    "    'size'   : 22}\n",
    "plt.rc('font', **font)"
   ]
  },
  {
   "cell_type": "code",
   "execution_count": 14,
   "metadata": {},
   "outputs": [
    {
     "data": {
      "text/plain": [
       "<sklearn.metrics._plot.confusion_matrix.ConfusionMatrixDisplay at 0x19feb831c50>"
      ]
     },
     "execution_count": 14,
     "metadata": {},
     "output_type": "execute_result"
    },
    {
     "data": {
      "image/png": "[encoded data removed]",
      "text/plain": [
       "<Figure size 720x720 with 2 Axes>"
      ]
     },
     "metadata": {
      "needs_background": "light"
     },
     "output_type": "display_data"
    }
   ],
   "source": [
    "c = confusion_matrix(y_test, y_pred)\n",
    "cp = ConfusionMatrixDisplay(c, display_labels=[\"Male\", \"Female\"])\n",
    "fig, ax = plt.subplots(figsize=(10,10))\n",
    "cp.plot(ax = ax)"
   ]
  },
  {
   "attachments": {},
   "cell_type": "markdown",
   "metadata": {},
   "source": [
    "#### Classification Report"
   ]
  },
  {
   "cell_type": "code",
   "execution_count": 6,
   "metadata": {},
   "outputs": [
    {
     "name": "stdout",
     "output_type": "stream",
     "text": [
      "\t\t\tSVM report:\n",
      "               precision    recall  f1-score   support\n",
      "\n",
      "      female      0.963     0.983     0.973       292\n",
      "        male      0.985     0.968     0.976       342\n",
      "\n",
      "    accuracy                          0.975       634\n",
      "   macro avg      0.974     0.975     0.975       634\n",
      "weighted avg      0.975     0.975     0.975       634\n",
      "\n"
     ]
    }
   ],
   "source": [
    "print(\"\\t\\t\\tSVM report:\\n\", classification_report(y_pred,y_test, digits=3))"
   ]
  },
  {
   "attachments": {},
   "cell_type": "markdown",
   "metadata": {},
   "source": [
    "#### Feature Importance"
   ]
  },
  {
   "cell_type": "code",
   "execution_count": 17,
   "metadata": {},
   "outputs": [],
   "source": [
    "importances = abs(SVMmodel.coef_[0])\n",
    "importances_total = sum(importances)\n",
    "for i in range(len(importances)):\n",
    "    importances[i] = (importances[i]/10000)*importances_total\n",
    "importances_df = pd.DataFrame({'Feature_names':x_train.columns, 'Importance':importances})\n",
    "importances_df = importances_df.sort_values(by=['Importance'], ascending=False)"
   ]
  },
  {
   "cell_type": "code",
   "execution_count": 18,
   "metadata": {},
   "outputs": [
    {
     "data": {
      "text/plain": [
       "Text(0, 0.5, 'Importance')"
      ]
     },
     "execution_count": 18,
     "metadata": {},
     "output_type": "execute_result"
    },
    {
     "data": {
      "image/png": "[encoded data removed]",
      "text/plain": [
       "<Figure size 720x720 with 1 Axes>"
      ]
     },
     "metadata": {
      "needs_background": "light"
     },
     "output_type": "display_data"
    }
   ],
   "source": [
    "fig, ax = plt.subplots(figsize=(10,10))\n",
    "ax.grid(zorder=0)\n",
    "ax.bar(importances_df['Feature_names'], importances_df['Importance'], zorder=3)\n",
    "plt.xticks(rotation = 90) \n",
    "ax.set_title(\"Feature Importance SVM\")\n",
    "ax.set_ylabel(\"Importance\")"
   ]
  }
 ],
 "metadata": {
  "kernelspec": {
   "display_name": "Python 3.9.13 64-bit (microsoft store)",
   "language": "python",
   "name": "python3"
  },
  "language_info": {
   "codemirror_mode": {
    "name": "ipython",
    "version": 3
   },
   "file_extension": ".py",
   "mimetype": "text/x-python",
   "name": "python",
   "nbconvert_exporter": "python",
   "pygments_lexer": "ipython3",
   "version": "3.7.0 (v3.7.0:1bf9cc5093, Jun 27 2018, 04:59:51) [MSC v.1914 64 bit (AMD64)]"
  },
  "orig_nbformat": 4,
  "vscode": {
   "interpreter": {
    "hash": "ba52e550df5dd7c4d4156f043c0b54db698368195948b3b2935474e916126db8"
   }
  }
 },
 "nbformat": 4,
 "nbformat_minor": 2
}
