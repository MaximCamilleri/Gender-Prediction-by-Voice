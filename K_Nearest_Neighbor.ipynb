{
 "cells": [
  {
   "attachments": {},
   "cell_type": "markdown",
   "metadata": {},
   "source": [
    "# K-Nearest Neighbor"
   ]
  },
  {
   "attachments": {},
   "cell_type": "markdown",
   "metadata": {},
   "source": [
    "### Imports"
   ]
  },
  {
   "cell_type": "code",
   "execution_count": 1,
   "metadata": {},
   "outputs": [],
   "source": [
    "import pandas as pd\n",
    "import matplotlib.pyplot as plt\n",
    "import numpy as np\n",
    "from sklearn.model_selection import train_test_split\n",
    "from sklearn.neighbors import KNeighborsClassifier\n",
    "from sklearn.metrics import classification_report, accuracy_score, confusion_matrix, ConfusionMatrixDisplay\n",
    "from sklearn.model_selection import GridSearchCV\n",
    "import pickle"
   ]
  },
  {
   "attachments": {},
   "cell_type": "markdown",
   "metadata": {},
   "source": [
    "### Data Preparation "
   ]
  },
  {
   "cell_type": "code",
   "execution_count": 5,
   "metadata": {},
   "outputs": [],
   "source": [
    "df = pd.read_csv('Data/voice.csv')\n",
    "\n",
    "x = df.iloc[:,:-1]\n",
    "y = df.label"
   ]
  },
  {
   "attachments": {},
   "cell_type": "markdown",
   "metadata": {},
   "source": [
    "### Methodology"
   ]
  },
  {
   "cell_type": "code",
   "execution_count": 6,
   "metadata": {},
   "outputs": [],
   "source": [
    "x_train, x_test,y_train,y_test = train_test_split(x,y,test_size=0.2)"
   ]
  },
  {
   "cell_type": "code",
   "execution_count": 18,
   "metadata": {},
   "outputs": [
    {
     "name": "stdout",
     "output_type": "stream",
     "text": [
      "Fitting 5 folds for each of 50 candidates, totalling 250 fits\n",
      "[CV 1/5] END leaf_size=5, metric=minkowski, n_neighbors=1, p=1;, score=0.769 total time=   0.0s\n",
      "[CV 2/5] END leaf_size=5, metric=minkowski, n_neighbors=1, p=1;, score=0.821 total time=   0.0s\n",
      "[CV 3/5] END leaf_size=5, metric=minkowski, n_neighbors=1, p=1;, score=0.773 total time=   0.0s\n",
      "[CV 4/5] END leaf_size=5, metric=minkowski, n_neighbors=1, p=1;, score=0.771 total time=   0.0s\n",
      "[CV 5/5] END leaf_size=5, metric=minkowski, n_neighbors=1, p=1;, score=0.792 total time=   0.0s\n",
      "[CV 1/5] END leaf_size=5, metric=minkowski, n_neighbors=1, p=2;, score=0.671 total time=   0.0s\n",
      "[CV 2/5] END leaf_size=5, metric=minkowski, n_neighbors=1, p=2;, score=0.724 total time=   0.0s\n",
      "[CV 3/5] END leaf_size=5, metric=minkowski, n_neighbors=1, p=2;, score=0.708 total time=   0.0s\n",
      "[CV 4/5] END leaf_size=5, metric=minkowski, n_neighbors=1, p=2;, score=0.688 total time=   0.0s\n",
      "[CV 5/5] END leaf_size=5, metric=minkowski, n_neighbors=1, p=2;, score=0.717 total time=   0.0s\n",
      "[CV 1/5] END leaf_size=5, metric=minkowski, n_neighbors=5, p=1;, score=0.761 total time=   0.0s\n",
      "[CV 2/5] END leaf_size=5, metric=minkowski, n_neighbors=5, p=1;, score=0.783 total time=   0.0s\n",
      "[CV 3/5] END leaf_size=5, metric=minkowski, n_neighbors=5, p=1;, score=0.769 total time=   0.0s\n",
      "[CV 4/5] END leaf_size=5, metric=minkowski, n_neighbors=5, p=1;, score=0.751 total time=   0.0s\n",
      "[CV 5/5] END leaf_size=5, metric=minkowski, n_neighbors=5, p=1;, score=0.794 total time=   0.0s\n",
      "[CV 1/5] END leaf_size=5, metric=minkowski, n_neighbors=5, p=2;, score=0.692 total time=   0.0s\n",
      "[CV 2/5] END leaf_size=5, metric=minkowski, n_neighbors=5, p=2;, score=0.698 total time=   0.0s\n",
      "[CV 3/5] END leaf_size=5, metric=minkowski, n_neighbors=5, p=2;, score=0.686 total time=   0.0s\n",
      "[CV 4/5] END leaf_size=5, metric=minkowski, n_neighbors=5, p=2;, score=0.692 total time=   0.0s\n",
      "[CV 5/5] END leaf_size=5, metric=minkowski, n_neighbors=5, p=2;, score=0.725 total time=   0.0s\n",
      "[CV 1/5] END leaf_size=5, metric=minkowski, n_neighbors=10, p=1;, score=0.759 total time=   0.0s\n",
      "[CV 2/5] END leaf_size=5, metric=minkowski, n_neighbors=10, p=1;, score=0.785 total time=   0.0s\n",
      "[CV 3/5] END leaf_size=5, metric=minkowski, n_neighbors=10, p=1;, score=0.787 total time=   0.0s\n",
      "[CV 4/5] END leaf_size=5, metric=minkowski, n_neighbors=10, p=1;, score=0.755 total time=   0.0s\n",
      "[CV 5/5] END leaf_size=5, metric=minkowski, n_neighbors=10, p=1;, score=0.787 total time=   0.0s\n",
      "[CV 1/5] END leaf_size=5, metric=minkowski, n_neighbors=10, p=2;, score=0.688 total time=   0.0s\n",
      "[CV 2/5] END leaf_size=5, metric=minkowski, n_neighbors=10, p=2;, score=0.688 total time=   0.0s\n",
      "[CV 3/5] END leaf_size=5, metric=minkowski, n_neighbors=10, p=2;, score=0.700 total time=   0.0s\n",
      "[CV 4/5] END leaf_size=5, metric=minkowski, n_neighbors=10, p=2;, score=0.663 total time=   0.0s\n",
      "[CV 5/5] END leaf_size=5, metric=minkowski, n_neighbors=10, p=2;, score=0.721 total time=   0.0s\n",
      "[CV 1/5] END leaf_size=5, metric=minkowski, n_neighbors=15, p=1;, score=0.738 total time=   0.0s\n",
      "[CV 2/5] END leaf_size=5, metric=minkowski, n_neighbors=15, p=1;, score=0.787 total time=   0.0s\n",
      "[CV 3/5] END leaf_size=5, metric=minkowski, n_neighbors=15, p=1;, score=0.795 total time=   0.0s\n",
      "[CV 4/5] END leaf_size=5, metric=minkowski, n_neighbors=15, p=1;, score=0.744 total time=   0.0s\n",
      "[CV 5/5] END leaf_size=5, metric=minkowski, n_neighbors=15, p=1;, score=0.771 total time=   0.0s\n",
      "[CV 1/5] END leaf_size=5, metric=minkowski, n_neighbors=15, p=2;, score=0.667 total time=   0.0s\n",
      "[CV 2/5] END leaf_size=5, metric=minkowski, n_neighbors=15, p=2;, score=0.710 total time=   0.0s\n",
      "[CV 3/5] END leaf_size=5, metric=minkowski, n_neighbors=15, p=2;, score=0.718 total time=   0.0s\n",
      "[CV 4/5] END leaf_size=5, metric=minkowski, n_neighbors=15, p=2;, score=0.663 total time=   0.0s\n",
      "[CV 5/5] END leaf_size=5, metric=minkowski, n_neighbors=15, p=2;, score=0.700 total time=   0.0s\n",
      "[CV 1/5] END leaf_size=5, metric=minkowski, n_neighbors=100, p=1;, score=0.696 total time=   0.0s\n",
      "[CV 2/5] END leaf_size=5, metric=minkowski, n_neighbors=100, p=1;, score=0.726 total time=   0.0s\n",
      "[CV 3/5] END leaf_size=5, metric=minkowski, n_neighbors=100, p=1;, score=0.769 total time=   0.0s\n",
      "[CV 4/5] END leaf_size=5, metric=minkowski, n_neighbors=100, p=1;, score=0.679 total time=   0.0s\n",
      "[CV 5/5] END leaf_size=5, metric=minkowski, n_neighbors=100, p=1;, score=0.706 total time=   0.0s\n",
      "[CV 1/5] END leaf_size=5, metric=minkowski, n_neighbors=100, p=2;, score=0.679 total time=   0.0s\n",
      "[CV 2/5] END leaf_size=5, metric=minkowski, n_neighbors=100, p=2;, score=0.692 total time=   0.0s\n",
      "[CV 3/5] END leaf_size=5, metric=minkowski, n_neighbors=100, p=2;, score=0.714 total time=   0.0s\n",
      "[CV 4/5] END leaf_size=5, metric=minkowski, n_neighbors=100, p=2;, score=0.651 total time=   0.0s\n",
      "[CV 5/5] END leaf_size=5, metric=minkowski, n_neighbors=100, p=2;, score=0.684 total time=   0.0s\n",
      "[CV 1/5] END leaf_size=10, metric=minkowski, n_neighbors=1, p=1;, score=0.769 total time=   0.0s\n",
      "[CV 2/5] END leaf_size=10, metric=minkowski, n_neighbors=1, p=1;, score=0.821 total time=   0.0s\n",
      "[CV 3/5] END leaf_size=10, metric=minkowski, n_neighbors=1, p=1;, score=0.773 total time=   0.0s\n",
      "[CV 4/5] END leaf_size=10, metric=minkowski, n_neighbors=1, p=1;, score=0.771 total time=   0.0s\n",
      "[CV 5/5] END leaf_size=10, metric=minkowski, n_neighbors=1, p=1;, score=0.792 total time=   0.0s\n",
      "[CV 1/5] END leaf_size=10, metric=minkowski, n_neighbors=1, p=2;, score=0.671 total time=   0.0s\n",
      "[CV 2/5] END leaf_size=10, metric=minkowski, n_neighbors=1, p=2;, score=0.724 total time=   0.0s\n",
      "[CV 3/5] END leaf_size=10, metric=minkowski, n_neighbors=1, p=2;, score=0.708 total time=   0.0s\n",
      "[CV 4/5] END leaf_size=10, metric=minkowski, n_neighbors=1, p=2;, score=0.688 total time=   0.0s\n",
      "[CV 5/5] END leaf_size=10, metric=minkowski, n_neighbors=1, p=2;, score=0.717 total time=   0.0s\n",
      "[CV 1/5] END leaf_size=10, metric=minkowski, n_neighbors=5, p=1;, score=0.761 total time=   0.0s\n",
      "[CV 2/5] END leaf_size=10, metric=minkowski, n_neighbors=5, p=1;, score=0.783 total time=   0.0s\n",
      "[CV 3/5] END leaf_size=10, metric=minkowski, n_neighbors=5, p=1;, score=0.769 total time=   0.0s\n",
      "[CV 4/5] END leaf_size=10, metric=minkowski, n_neighbors=5, p=1;, score=0.751 total time=   0.0s\n",
      "[CV 5/5] END leaf_size=10, metric=minkowski, n_neighbors=5, p=1;, score=0.794 total time=   0.0s\n",
      "[CV 1/5] END leaf_size=10, metric=minkowski, n_neighbors=5, p=2;, score=0.692 total time=   0.0s\n",
      "[CV 2/5] END leaf_size=10, metric=minkowski, n_neighbors=5, p=2;, score=0.698 total time=   0.0s\n",
      "[CV 3/5] END leaf_size=10, metric=minkowski, n_neighbors=5, p=2;, score=0.686 total time=   0.0s\n",
      "[CV 4/5] END leaf_size=10, metric=minkowski, n_neighbors=5, p=2;, score=0.692 total time=   0.0s\n",
      "[CV 5/5] END leaf_size=10, metric=minkowski, n_neighbors=5, p=2;, score=0.725 total time=   0.0s\n",
      "[CV 1/5] END leaf_size=10, metric=minkowski, n_neighbors=10, p=1;, score=0.759 total time=   0.0s\n",
      "[CV 2/5] END leaf_size=10, metric=minkowski, n_neighbors=10, p=1;, score=0.785 total time=   0.0s\n",
      "[CV 3/5] END leaf_size=10, metric=minkowski, n_neighbors=10, p=1;, score=0.787 total time=   0.0s\n",
      "[CV 4/5] END leaf_size=10, metric=minkowski, n_neighbors=10, p=1;, score=0.755 total time=   0.0s\n",
      "[CV 5/5] END leaf_size=10, metric=minkowski, n_neighbors=10, p=1;, score=0.787 total time=   0.0s\n",
      "[CV 1/5] END leaf_size=10, metric=minkowski, n_neighbors=10, p=2;, score=0.688 total time=   0.0s\n",
      "[CV 2/5] END leaf_size=10, metric=minkowski, n_neighbors=10, p=2;, score=0.688 total time=   0.0s\n",
      "[CV 3/5] END leaf_size=10, metric=minkowski, n_neighbors=10, p=2;, score=0.700 total time=   0.0s\n",
      "[CV 4/5] END leaf_size=10, metric=minkowski, n_neighbors=10, p=2;, score=0.663 total time=   0.0s\n",
      "[CV 5/5] END leaf_size=10, metric=minkowski, n_neighbors=10, p=2;, score=0.721 total time=   0.0s\n",
      "[CV 1/5] END leaf_size=10, metric=minkowski, n_neighbors=15, p=1;, score=0.738 total time=   0.0s\n",
      "[CV 2/5] END leaf_size=10, metric=minkowski, n_neighbors=15, p=1;, score=0.787 total time=   0.0s\n",
      "[CV 3/5] END leaf_size=10, metric=minkowski, n_neighbors=15, p=1;, score=0.795 total time=   0.0s\n",
      "[CV 4/5] END leaf_size=10, metric=minkowski, n_neighbors=15, p=1;, score=0.744 total time=   0.0s\n",
      "[CV 5/5] END leaf_size=10, metric=minkowski, n_neighbors=15, p=1;, score=0.771 total time=   0.0s\n",
      "[CV 1/5] END leaf_size=10, metric=minkowski, n_neighbors=15, p=2;, score=0.667 total time=   0.0s\n",
      "[CV 2/5] END leaf_size=10, metric=minkowski, n_neighbors=15, p=2;, score=0.710 total time=   0.0s\n",
      "[CV 3/5] END leaf_size=10, metric=minkowski, n_neighbors=15, p=2;, score=0.718 total time=   0.0s\n",
      "[CV 4/5] END leaf_size=10, metric=minkowski, n_neighbors=15, p=2;, score=0.663 total time=   0.0s\n",
      "[CV 5/5] END leaf_size=10, metric=minkowski, n_neighbors=15, p=2;, score=0.700 total time=   0.0s\n",
      "[CV 1/5] END leaf_size=10, metric=minkowski, n_neighbors=100, p=1;, score=0.696 total time=   0.0s\n",
      "[CV 2/5] END leaf_size=10, metric=minkowski, n_neighbors=100, p=1;, score=0.726 total time=   0.0s\n",
      "[CV 3/5] END leaf_size=10, metric=minkowski, n_neighbors=100, p=1;, score=0.769 total time=   0.0s\n",
      "[CV 4/5] END leaf_size=10, metric=minkowski, n_neighbors=100, p=1;, score=0.679 total time=   0.0s\n",
      "[CV 5/5] END leaf_size=10, metric=minkowski, n_neighbors=100, p=1;, score=0.706 total time=   0.0s\n",
      "[CV 1/5] END leaf_size=10, metric=minkowski, n_neighbors=100, p=2;, score=0.679 total time=   0.0s\n",
      "[CV 2/5] END leaf_size=10, metric=minkowski, n_neighbors=100, p=2;, score=0.692 total time=   0.0s\n",
      "[CV 3/5] END leaf_size=10, metric=minkowski, n_neighbors=100, p=2;, score=0.714 total time=   0.0s\n",
      "[CV 4/5] END leaf_size=10, metric=minkowski, n_neighbors=100, p=2;, score=0.651 total time=   0.0s\n",
      "[CV 5/5] END leaf_size=10, metric=minkowski, n_neighbors=100, p=2;, score=0.684 total time=   0.0s\n",
      "[CV 1/5] END leaf_size=15, metric=minkowski, n_neighbors=1, p=1;, score=0.769 total time=   0.0s\n",
      "[CV 2/5] END leaf_size=15, metric=minkowski, n_neighbors=1, p=1;, score=0.821 total time=   0.0s\n",
      "[CV 3/5] END leaf_size=15, metric=minkowski, n_neighbors=1, p=1;, score=0.773 total time=   0.0s\n",
      "[CV 4/5] END leaf_size=15, metric=minkowski, n_neighbors=1, p=1;, score=0.771 total time=   0.0s\n",
      "[CV 5/5] END leaf_size=15, metric=minkowski, n_neighbors=1, p=1;, score=0.792 total time=   0.0s\n",
      "[CV 1/5] END leaf_size=15, metric=minkowski, n_neighbors=1, p=2;, score=0.671 total time=   0.0s\n",
      "[CV 2/5] END leaf_size=15, metric=minkowski, n_neighbors=1, p=2;, score=0.724 total time=   0.0s\n",
      "[CV 3/5] END leaf_size=15, metric=minkowski, n_neighbors=1, p=2;, score=0.708 total time=   0.0s\n",
      "[CV 4/5] END leaf_size=15, metric=minkowski, n_neighbors=1, p=2;, score=0.688 total time=   0.0s\n",
      "[CV 5/5] END leaf_size=15, metric=minkowski, n_neighbors=1, p=2;, score=0.717 total time=   0.0s\n",
      "[CV 1/5] END leaf_size=15, metric=minkowski, n_neighbors=5, p=1;, score=0.761 total time=   0.0s\n",
      "[CV 2/5] END leaf_size=15, metric=minkowski, n_neighbors=5, p=1;, score=0.783 total time=   0.0s\n",
      "[CV 3/5] END leaf_size=15, metric=minkowski, n_neighbors=5, p=1;, score=0.769 total time=   0.0s\n",
      "[CV 4/5] END leaf_size=15, metric=minkowski, n_neighbors=5, p=1;, score=0.751 total time=   0.0s\n",
      "[CV 5/5] END leaf_size=15, metric=minkowski, n_neighbors=5, p=1;, score=0.794 total time=   0.0s\n",
      "[CV 1/5] END leaf_size=15, metric=minkowski, n_neighbors=5, p=2;, score=0.692 total time=   0.0s\n",
      "[CV 2/5] END leaf_size=15, metric=minkowski, n_neighbors=5, p=2;, score=0.698 total time=   0.0s\n",
      "[CV 3/5] END leaf_size=15, metric=minkowski, n_neighbors=5, p=2;, score=0.686 total time=   0.0s\n",
      "[CV 4/5] END leaf_size=15, metric=minkowski, n_neighbors=5, p=2;, score=0.692 total time=   0.0s\n",
      "[CV 5/5] END leaf_size=15, metric=minkowski, n_neighbors=5, p=2;, score=0.725 total time=   0.0s\n",
      "[CV 1/5] END leaf_size=15, metric=minkowski, n_neighbors=10, p=1;, score=0.759 total time=   0.0s\n",
      "[CV 2/5] END leaf_size=15, metric=minkowski, n_neighbors=10, p=1;, score=0.785 total time=   0.0s\n",
      "[CV 3/5] END leaf_size=15, metric=minkowski, n_neighbors=10, p=1;, score=0.787 total time=   0.0s\n",
      "[CV 4/5] END leaf_size=15, metric=minkowski, n_neighbors=10, p=1;, score=0.755 total time=   0.0s\n",
      "[CV 5/5] END leaf_size=15, metric=minkowski, n_neighbors=10, p=1;, score=0.787 total time=   0.0s\n",
      "[CV 1/5] END leaf_size=15, metric=minkowski, n_neighbors=10, p=2;, score=0.688 total time=   0.0s\n",
      "[CV 2/5] END leaf_size=15, metric=minkowski, n_neighbors=10, p=2;, score=0.688 total time=   0.0s\n",
      "[CV 3/5] END leaf_size=15, metric=minkowski, n_neighbors=10, p=2;, score=0.700 total time=   0.0s\n",
      "[CV 4/5] END leaf_size=15, metric=minkowski, n_neighbors=10, p=2;, score=0.663 total time=   0.0s\n",
      "[CV 5/5] END leaf_size=15, metric=minkowski, n_neighbors=10, p=2;, score=0.721 total time=   0.0s\n",
      "[CV 1/5] END leaf_size=15, metric=minkowski, n_neighbors=15, p=1;, score=0.738 total time=   0.0s\n",
      "[CV 2/5] END leaf_size=15, metric=minkowski, n_neighbors=15, p=1;, score=0.787 total time=   0.0s\n",
      "[CV 3/5] END leaf_size=15, metric=minkowski, n_neighbors=15, p=1;, score=0.795 total time=   0.0s\n",
      "[CV 4/5] END leaf_size=15, metric=minkowski, n_neighbors=15, p=1;, score=0.744 total time=   0.0s\n",
      "[CV 5/5] END leaf_size=15, metric=minkowski, n_neighbors=15, p=1;, score=0.771 total time=   0.0s\n",
      "[CV 1/5] END leaf_size=15, metric=minkowski, n_neighbors=15, p=2;, score=0.667 total time=   0.0s\n",
      "[CV 2/5] END leaf_size=15, metric=minkowski, n_neighbors=15, p=2;, score=0.710 total time=   0.0s\n",
      "[CV 3/5] END leaf_size=15, metric=minkowski, n_neighbors=15, p=2;, score=0.718 total time=   0.0s\n",
      "[CV 4/5] END leaf_size=15, metric=minkowski, n_neighbors=15, p=2;, score=0.663 total time=   0.0s\n",
      "[CV 5/5] END leaf_size=15, metric=minkowski, n_neighbors=15, p=2;, score=0.700 total time=   0.0s\n",
      "[CV 1/5] END leaf_size=15, metric=minkowski, n_neighbors=100, p=1;, score=0.696 total time=   0.0s\n",
      "[CV 2/5] END leaf_size=15, metric=minkowski, n_neighbors=100, p=1;, score=0.726 total time=   0.0s\n",
      "[CV 3/5] END leaf_size=15, metric=minkowski, n_neighbors=100, p=1;, score=0.769 total time=   0.0s\n",
      "[CV 4/5] END leaf_size=15, metric=minkowski, n_neighbors=100, p=1;, score=0.679 total time=   0.0s\n",
      "[CV 5/5] END leaf_size=15, metric=minkowski, n_neighbors=100, p=1;, score=0.706 total time=   0.0s\n",
      "[CV 1/5] END leaf_size=15, metric=minkowski, n_neighbors=100, p=2;, score=0.679 total time=   0.0s\n",
      "[CV 2/5] END leaf_size=15, metric=minkowski, n_neighbors=100, p=2;, score=0.692 total time=   0.0s\n",
      "[CV 3/5] END leaf_size=15, metric=minkowski, n_neighbors=100, p=2;, score=0.714 total time=   0.0s\n",
      "[CV 4/5] END leaf_size=15, metric=minkowski, n_neighbors=100, p=2;, score=0.651 total time=   0.0s\n",
      "[CV 5/5] END leaf_size=15, metric=minkowski, n_neighbors=100, p=2;, score=0.684 total time=   0.0s\n",
      "[CV 1/5] END leaf_size=20, metric=minkowski, n_neighbors=1, p=1;, score=0.769 total time=   0.0s\n",
      "[CV 2/5] END leaf_size=20, metric=minkowski, n_neighbors=1, p=1;, score=0.821 total time=   0.0s\n",
      "[CV 3/5] END leaf_size=20, metric=minkowski, n_neighbors=1, p=1;, score=0.773 total time=   0.0s\n",
      "[CV 4/5] END leaf_size=20, metric=minkowski, n_neighbors=1, p=1;, score=0.771 total time=   0.0s\n",
      "[CV 5/5] END leaf_size=20, metric=minkowski, n_neighbors=1, p=1;, score=0.792 total time=   0.0s\n",
      "[CV 1/5] END leaf_size=20, metric=minkowski, n_neighbors=1, p=2;, score=0.671 total time=   0.0s\n",
      "[CV 2/5] END leaf_size=20, metric=minkowski, n_neighbors=1, p=2;, score=0.724 total time=   0.0s\n",
      "[CV 3/5] END leaf_size=20, metric=minkowski, n_neighbors=1, p=2;, score=0.708 total time=   0.0s\n",
      "[CV 4/5] END leaf_size=20, metric=minkowski, n_neighbors=1, p=2;, score=0.688 total time=   0.0s\n",
      "[CV 5/5] END leaf_size=20, metric=minkowski, n_neighbors=1, p=2;, score=0.717 total time=   0.0s\n",
      "[CV 1/5] END leaf_size=20, metric=minkowski, n_neighbors=5, p=1;, score=0.761 total time=   0.0s\n",
      "[CV 2/5] END leaf_size=20, metric=minkowski, n_neighbors=5, p=1;, score=0.783 total time=   0.0s\n",
      "[CV 3/5] END leaf_size=20, metric=minkowski, n_neighbors=5, p=1;, score=0.769 total time=   0.0s\n",
      "[CV 4/5] END leaf_size=20, metric=minkowski, n_neighbors=5, p=1;, score=0.751 total time=   0.0s\n",
      "[CV 5/5] END leaf_size=20, metric=minkowski, n_neighbors=5, p=1;, score=0.794 total time=   0.0s\n",
      "[CV 1/5] END leaf_size=20, metric=minkowski, n_neighbors=5, p=2;, score=0.692 total time=   0.0s\n",
      "[CV 2/5] END leaf_size=20, metric=minkowski, n_neighbors=5, p=2;, score=0.698 total time=   0.0s\n",
      "[CV 3/5] END leaf_size=20, metric=minkowski, n_neighbors=5, p=2;, score=0.686 total time=   0.0s\n",
      "[CV 4/5] END leaf_size=20, metric=minkowski, n_neighbors=5, p=2;, score=0.692 total time=   0.0s\n",
      "[CV 5/5] END leaf_size=20, metric=minkowski, n_neighbors=5, p=2;, score=0.725 total time=   0.0s\n",
      "[CV 1/5] END leaf_size=20, metric=minkowski, n_neighbors=10, p=1;, score=0.759 total time=   0.0s\n",
      "[CV 2/5] END leaf_size=20, metric=minkowski, n_neighbors=10, p=1;, score=0.785 total time=   0.0s\n",
      "[CV 3/5] END leaf_size=20, metric=minkowski, n_neighbors=10, p=1;, score=0.787 total time=   0.0s\n",
      "[CV 4/5] END leaf_size=20, metric=minkowski, n_neighbors=10, p=1;, score=0.755 total time=   0.0s\n",
      "[CV 5/5] END leaf_size=20, metric=minkowski, n_neighbors=10, p=1;, score=0.787 total time=   0.0s\n",
      "[CV 1/5] END leaf_size=20, metric=minkowski, n_neighbors=10, p=2;, score=0.688 total time=   0.0s\n",
      "[CV 2/5] END leaf_size=20, metric=minkowski, n_neighbors=10, p=2;, score=0.688 total time=   0.0s\n",
      "[CV 3/5] END leaf_size=20, metric=minkowski, n_neighbors=10, p=2;, score=0.700 total time=   0.0s\n",
      "[CV 4/5] END leaf_size=20, metric=minkowski, n_neighbors=10, p=2;, score=0.663 total time=   0.0s\n",
      "[CV 5/5] END leaf_size=20, metric=minkowski, n_neighbors=10, p=2;, score=0.721 total time=   0.0s\n",
      "[CV 1/5] END leaf_size=20, metric=minkowski, n_neighbors=15, p=1;, score=0.738 total time=   0.0s\n",
      "[CV 2/5] END leaf_size=20, metric=minkowski, n_neighbors=15, p=1;, score=0.787 total time=   0.0s\n",
      "[CV 3/5] END leaf_size=20, metric=minkowski, n_neighbors=15, p=1;, score=0.795 total time=   0.0s\n",
      "[CV 4/5] END leaf_size=20, metric=minkowski, n_neighbors=15, p=1;, score=0.744 total time=   0.0s\n",
      "[CV 5/5] END leaf_size=20, metric=minkowski, n_neighbors=15, p=1;, score=0.771 total time=   0.0s\n",
      "[CV 1/5] END leaf_size=20, metric=minkowski, n_neighbors=15, p=2;, score=0.667 total time=   0.0s\n",
      "[CV 2/5] END leaf_size=20, metric=minkowski, n_neighbors=15, p=2;, score=0.710 total time=   0.0s\n",
      "[CV 3/5] END leaf_size=20, metric=minkowski, n_neighbors=15, p=2;, score=0.718 total time=   0.0s\n",
      "[CV 4/5] END leaf_size=20, metric=minkowski, n_neighbors=15, p=2;, score=0.663 total time=   0.0s\n",
      "[CV 5/5] END leaf_size=20, metric=minkowski, n_neighbors=15, p=2;, score=0.700 total time=   0.0s\n",
      "[CV 1/5] END leaf_size=20, metric=minkowski, n_neighbors=100, p=1;, score=0.696 total time=   0.0s\n",
      "[CV 2/5] END leaf_size=20, metric=minkowski, n_neighbors=100, p=1;, score=0.726 total time=   0.0s\n",
      "[CV 3/5] END leaf_size=20, metric=minkowski, n_neighbors=100, p=1;, score=0.769 total time=   0.0s\n",
      "[CV 4/5] END leaf_size=20, metric=minkowski, n_neighbors=100, p=1;, score=0.679 total time=   0.0s\n",
      "[CV 5/5] END leaf_size=20, metric=minkowski, n_neighbors=100, p=1;, score=0.706 total time=   0.0s\n",
      "[CV 1/5] END leaf_size=20, metric=minkowski, n_neighbors=100, p=2;, score=0.679 total time=   0.0s\n",
      "[CV 2/5] END leaf_size=20, metric=minkowski, n_neighbors=100, p=2;, score=0.692 total time=   0.0s\n",
      "[CV 3/5] END leaf_size=20, metric=minkowski, n_neighbors=100, p=2;, score=0.714 total time=   0.0s\n",
      "[CV 4/5] END leaf_size=20, metric=minkowski, n_neighbors=100, p=2;, score=0.651 total time=   0.0s\n",
      "[CV 5/5] END leaf_size=20, metric=minkowski, n_neighbors=100, p=2;, score=0.684 total time=   0.0s\n",
      "[CV 1/5] END leaf_size=50, metric=minkowski, n_neighbors=1, p=1;, score=0.769 total time=   0.0s\n",
      "[CV 2/5] END leaf_size=50, metric=minkowski, n_neighbors=1, p=1;, score=0.821 total time=   0.0s\n",
      "[CV 3/5] END leaf_size=50, metric=minkowski, n_neighbors=1, p=1;, score=0.773 total time=   0.0s\n",
      "[CV 4/5] END leaf_size=50, metric=minkowski, n_neighbors=1, p=1;, score=0.771 total time=   0.0s\n",
      "[CV 5/5] END leaf_size=50, metric=minkowski, n_neighbors=1, p=1;, score=0.792 total time=   0.0s\n",
      "[CV 1/5] END leaf_size=50, metric=minkowski, n_neighbors=1, p=2;, score=0.671 total time=   0.0s\n",
      "[CV 2/5] END leaf_size=50, metric=minkowski, n_neighbors=1, p=2;, score=0.724 total time=   0.0s\n",
      "[CV 3/5] END leaf_size=50, metric=minkowski, n_neighbors=1, p=2;, score=0.708 total time=   0.0s\n",
      "[CV 4/5] END leaf_size=50, metric=minkowski, n_neighbors=1, p=2;, score=0.688 total time=   0.0s\n",
      "[CV 5/5] END leaf_size=50, metric=minkowski, n_neighbors=1, p=2;, score=0.717 total time=   0.0s\n",
      "[CV 1/5] END leaf_size=50, metric=minkowski, n_neighbors=5, p=1;, score=0.761 total time=   0.0s\n",
      "[CV 2/5] END leaf_size=50, metric=minkowski, n_neighbors=5, p=1;, score=0.783 total time=   0.0s\n",
      "[CV 3/5] END leaf_size=50, metric=minkowski, n_neighbors=5, p=1;, score=0.769 total time=   0.0s\n",
      "[CV 4/5] END leaf_size=50, metric=minkowski, n_neighbors=5, p=1;, score=0.751 total time=   0.0s\n",
      "[CV 5/5] END leaf_size=50, metric=minkowski, n_neighbors=5, p=1;, score=0.794 total time=   0.0s\n",
      "[CV 1/5] END leaf_size=50, metric=minkowski, n_neighbors=5, p=2;, score=0.692 total time=   0.0s\n",
      "[CV 2/5] END leaf_size=50, metric=minkowski, n_neighbors=5, p=2;, score=0.698 total time=   0.0s\n",
      "[CV 3/5] END leaf_size=50, metric=minkowski, n_neighbors=5, p=2;, score=0.686 total time=   0.0s\n",
      "[CV 4/5] END leaf_size=50, metric=minkowski, n_neighbors=5, p=2;, score=0.692 total time=   0.0s\n",
      "[CV 5/5] END leaf_size=50, metric=minkowski, n_neighbors=5, p=2;, score=0.725 total time=   0.0s\n",
      "[CV 1/5] END leaf_size=50, metric=minkowski, n_neighbors=10, p=1;, score=0.759 total time=   0.0s\n",
      "[CV 2/5] END leaf_size=50, metric=minkowski, n_neighbors=10, p=1;, score=0.785 total time=   0.0s\n",
      "[CV 3/5] END leaf_size=50, metric=minkowski, n_neighbors=10, p=1;, score=0.787 total time=   0.0s\n",
      "[CV 4/5] END leaf_size=50, metric=minkowski, n_neighbors=10, p=1;, score=0.755 total time=   0.0s\n",
      "[CV 5/5] END leaf_size=50, metric=minkowski, n_neighbors=10, p=1;, score=0.787 total time=   0.0s\n",
      "[CV 1/5] END leaf_size=50, metric=minkowski, n_neighbors=10, p=2;, score=0.688 total time=   0.0s\n",
      "[CV 2/5] END leaf_size=50, metric=minkowski, n_neighbors=10, p=2;, score=0.688 total time=   0.0s\n",
      "[CV 3/5] END leaf_size=50, metric=minkowski, n_neighbors=10, p=2;, score=0.700 total time=   0.0s\n",
      "[CV 4/5] END leaf_size=50, metric=minkowski, n_neighbors=10, p=2;, score=0.663 total time=   0.0s\n",
      "[CV 5/5] END leaf_size=50, metric=minkowski, n_neighbors=10, p=2;, score=0.721 total time=   0.0s\n",
      "[CV 1/5] END leaf_size=50, metric=minkowski, n_neighbors=15, p=1;, score=0.738 total time=   0.0s\n",
      "[CV 2/5] END leaf_size=50, metric=minkowski, n_neighbors=15, p=1;, score=0.787 total time=   0.0s\n",
      "[CV 3/5] END leaf_size=50, metric=minkowski, n_neighbors=15, p=1;, score=0.795 total time=   0.0s\n",
      "[CV 4/5] END leaf_size=50, metric=minkowski, n_neighbors=15, p=1;, score=0.744 total time=   0.0s\n",
      "[CV 5/5] END leaf_size=50, metric=minkowski, n_neighbors=15, p=1;, score=0.771 total time=   0.0s\n",
      "[CV 1/5] END leaf_size=50, metric=minkowski, n_neighbors=15, p=2;, score=0.667 total time=   0.0s\n",
      "[CV 2/5] END leaf_size=50, metric=minkowski, n_neighbors=15, p=2;, score=0.710 total time=   0.0s\n",
      "[CV 3/5] END leaf_size=50, metric=minkowski, n_neighbors=15, p=2;, score=0.718 total time=   0.0s\n",
      "[CV 4/5] END leaf_size=50, metric=minkowski, n_neighbors=15, p=2;, score=0.663 total time=   0.0s\n",
      "[CV 5/5] END leaf_size=50, metric=minkowski, n_neighbors=15, p=2;, score=0.700 total time=   0.0s\n",
      "[CV 1/5] END leaf_size=50, metric=minkowski, n_neighbors=100, p=1;, score=0.696 total time=   0.0s\n",
      "[CV 2/5] END leaf_size=50, metric=minkowski, n_neighbors=100, p=1;, score=0.726 total time=   0.0s\n",
      "[CV 3/5] END leaf_size=50, metric=minkowski, n_neighbors=100, p=1;, score=0.769 total time=   0.0s\n",
      "[CV 4/5] END leaf_size=50, metric=minkowski, n_neighbors=100, p=1;, score=0.679 total time=   0.0s\n",
      "[CV 5/5] END leaf_size=50, metric=minkowski, n_neighbors=100, p=1;, score=0.706 total time=   0.0s\n",
      "[CV 1/5] END leaf_size=50, metric=minkowski, n_neighbors=100, p=2;, score=0.679 total time=   0.0s\n",
      "[CV 2/5] END leaf_size=50, metric=minkowski, n_neighbors=100, p=2;, score=0.692 total time=   0.0s\n",
      "[CV 3/5] END leaf_size=50, metric=minkowski, n_neighbors=100, p=2;, score=0.714 total time=   0.0s\n",
      "[CV 4/5] END leaf_size=50, metric=minkowski, n_neighbors=100, p=2;, score=0.651 total time=   0.0s\n",
      "[CV 5/5] END leaf_size=50, metric=minkowski, n_neighbors=100, p=2;, score=0.684 total time=   0.0s\n"
     ]
    },
    {
     "data": {
      "text/plain": [
       "GridSearchCV(estimator=KNeighborsClassifier(),\n",
       "             param_grid={'leaf_size': [5, 10, 15, 20, 50],\n",
       "                         'metric': ['minkowski'],\n",
       "                         'n_neighbors': [1, 5, 10, 15, 100], 'p': [1, 2]},\n",
       "             verbose=3)"
      ]
     },
     "execution_count": 18,
     "metadata": {},
     "output_type": "execute_result"
    }
   ],
   "source": [
    "param_grid = {\n",
    "    'metric' : ['minkowski'],\n",
    "    'p' : [1, 2],\n",
    "    'n_neighbors' : [1, 5, 10 ,15, 100],\n",
    "    'leaf_size' : [5, 10, 15, 20, 50]\n",
    "}\n",
    "\n",
    "grid = GridSearchCV(KNeighborsClassifier(), param_grid, refit = True, verbose = 3)\n",
    "\n",
    "grid.fit(x_train, y_train)"
   ]
  },
  {
   "cell_type": "code",
   "execution_count": 13,
   "metadata": {},
   "outputs": [
    {
     "ename": "NameError",
     "evalue": "name 'grid' is not defined",
     "output_type": "error",
     "traceback": [
      "\u001b[1;31m---------------------------------------------------------------------------\u001b[0m",
      "\u001b[1;31mNameError\u001b[0m                                 Traceback (most recent call last)",
      "\u001b[1;32m~\\AppData\\Local\\Temp\\ipykernel_5908\\1872427704.py\u001b[0m in \u001b[0;36m<module>\u001b[1;34m\u001b[0m\n\u001b[1;32m----> 1\u001b[1;33m \u001b[0mprint\u001b[0m\u001b[1;33m(\u001b[0m\u001b[1;34mf'Params: {grid.best_params_}'\u001b[0m\u001b[1;33m)\u001b[0m\u001b[1;33m\u001b[0m\u001b[0m\n\u001b[0m",
      "\u001b[1;31mNameError\u001b[0m: name 'grid' is not defined"
     ]
    }
   ],
   "source": [
    "print(f'Params: {grid.best_params_}')"
   ]
  },
  {
   "cell_type": "code",
   "execution_count": 7,
   "metadata": {},
   "outputs": [],
   "source": [
    "KNmodel = KNeighborsClassifier(n_neighbors =1, metric = 'minkowski', p = 1, leaf_size = 1)\n",
    "KNmodel.fit(x_train, y_train)\n",
    "pickle.dump(KNmodel, open(\"Models/KNN.pickle\", \"wb\"))\n",
    "y_pred = KNmodel.predict(x_test)"
   ]
  },
  {
   "attachments": {},
   "cell_type": "markdown",
   "metadata": {},
   "source": [
    "### Evaluation"
   ]
  },
  {
   "attachments": {},
   "cell_type": "markdown",
   "metadata": {},
   "source": [
    "#### Accuracy"
   ]
  },
  {
   "cell_type": "code",
   "execution_count": 8,
   "metadata": {},
   "outputs": [
    {
     "name": "stdout",
     "output_type": "stream",
     "text": [
      "KNN Accuracy score:  79.65299684542587 %\n"
     ]
    }
   ],
   "source": [
    "print(\"KNN Accuracy score: \",accuracy_score(y_pred,y_test)*100,\"%\")"
   ]
  },
  {
   "cell_type": "code",
   "execution_count": 8,
   "metadata": {},
   "outputs": [
    {
     "ename": "NameError",
     "evalue": "name 'grid' is not defined",
     "output_type": "error",
     "traceback": [
      "\u001b[1;31m---------------------------------------------------------------------------\u001b[0m",
      "\u001b[1;31mNameError\u001b[0m                                 Traceback (most recent call last)",
      "\u001b[1;32m~\\AppData\\Local\\Temp\\ipykernel_5908\\2583170785.py\u001b[0m in \u001b[0;36m<module>\u001b[1;34m\u001b[0m\n\u001b[1;32m----> 1\u001b[1;33m \u001b[0mprint\u001b[0m\u001b[1;33m(\u001b[0m\u001b[1;34mf'Model: {grid.best_estimator_}'\u001b[0m\u001b[1;33m)\u001b[0m\u001b[1;33m\u001b[0m\u001b[0m\n\u001b[0m",
      "\u001b[1;31mNameError\u001b[0m: name 'grid' is not defined"
     ]
    }
   ],
   "source": [
    "print(f'Model: {grid.best_estimator_}')"
   ]
  },
  {
   "attachments": {},
   "cell_type": "markdown",
   "metadata": {},
   "source": [
    "#### Confusion Matrix"
   ]
  },
  {
   "cell_type": "code",
   "execution_count": 10,
   "metadata": {},
   "outputs": [],
   "source": [
    "font = {'family' : 'normal',\n",
    "    'weight' : 'bold',\n",
    "    'size'   : 22}\n",
    "plt.rc('font', **font)"
   ]
  },
  {
   "cell_type": "code",
   "execution_count": 12,
   "metadata": {},
   "outputs": [
    {
     "data": {
      "text/plain": [
       "<sklearn.metrics._plot.confusion_matrix.ConfusionMatrixDisplay at 0x210fdb896a0>"
      ]
     },
     "execution_count": 12,
     "metadata": {},
     "output_type": "execute_result"
    },
    {
     "data": {
      "image/png": "[encoded data removed]",
      "text/plain": [
       "<Figure size 720x720 with 2 Axes>"
      ]
     },
     "metadata": {
      "needs_background": "light"
     },
     "output_type": "display_data"
    }
   ],
   "source": [
    "c = confusion_matrix(y_test, y_pred)\n",
    "cp = ConfusionMatrixDisplay(c, display_labels=[\"Male\", \"Female\"])\n",
    "fig, ax = plt.subplots(figsize=(10,10))\n",
    "cp.plot(ax = ax)"
   ]
  },
  {
   "attachments": {},
   "cell_type": "markdown",
   "metadata": {},
   "source": [
    "#### Classification Report"
   ]
  },
  {
   "cell_type": "code",
   "execution_count": 28,
   "metadata": {},
   "outputs": [
    {
     "name": "stdout",
     "output_type": "stream",
     "text": [
      "\t\t\tKNN report:\n",
      "               precision    recall  f1-score   support\n",
      "\n",
      "      female      0.969     0.969     0.969       322\n",
      "        male      0.968     0.968     0.968       312\n",
      "\n",
      "    accuracy                          0.968       634\n",
      "   macro avg      0.968     0.968     0.968       634\n",
      "weighted avg      0.968     0.968     0.968       634\n",
      "\n"
     ]
    }
   ],
   "source": [
    "print(\"\\t\\t\\tKNN report:\\n\",classification_report(y_pred,y_test, digits=3))"
   ]
  }
 ],
 "metadata": {
  "kernelspec": {
   "display_name": "Python 3",
   "language": "python",
   "name": "python3"
  },
  "language_info": {
   "codemirror_mode": {
    "name": "ipython",
    "version": 3
   },
   "file_extension": ".py",
   "mimetype": "text/x-python",
   "name": "python",
   "nbconvert_exporter": "python",
   "pygments_lexer": "ipython3",
   "version": "3.7.0"
  },
  "orig_nbformat": 4,
  "vscode": {
   "interpreter": {
    "hash": "ba52e550df5dd7c4d4156f043c0b54db698368195948b3b2935474e916126db8"
   }
  }
 },
 "nbformat": 4,
 "nbformat_minor": 2
}
