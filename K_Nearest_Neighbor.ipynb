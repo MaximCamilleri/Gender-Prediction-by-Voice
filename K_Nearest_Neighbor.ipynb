{
 "cells": [
  {
   "attachments": {},
   "cell_type": "markdown",
   "metadata": {},
   "source": [
    "# K-Nearest Neighbor"
   ]
  },
  {
   "attachments": {},
   "cell_type": "markdown",
   "metadata": {},
   "source": [
    "### Imports"
   ]
  },
  {
   "cell_type": "code",
   "execution_count": 1,
   "metadata": {},
   "outputs": [],
   "source": [
    "import pandas as pd\n",
    "import matplotlib.pyplot as plt\n",
    "import numpy as np\n",
    "from sklearn.model_selection import train_test_split\n",
    "from sklearn.neighbors import KNeighborsClassifier\n",
    "from sklearn.metrics import classification_report, accuracy_score, confusion_matrix, ConfusionMatrixDisplay\n",
    "from sklearn.model_selection import GridSearchCV\n",
    "import pickle\n",
    "import time"
   ]
  },
  {
   "attachments": {},
   "cell_type": "markdown",
   "metadata": {},
   "source": [
    "### Data Preparation "
   ]
  },
  {
   "cell_type": "code",
   "execution_count": 2,
   "metadata": {},
   "outputs": [],
   "source": [
    "df = pd.read_csv('Data/voice.csv')\n",
    "\n",
    "x = df.iloc[:,:-1]\n",
    "y = df.label"
   ]
  },
  {
   "attachments": {},
   "cell_type": "markdown",
   "metadata": {},
   "source": [
    "### Methodology"
   ]
  },
  {
   "cell_type": "code",
   "execution_count": 3,
   "metadata": {},
   "outputs": [],
   "source": [
    "x_train, x_test,y_train,y_test = train_test_split(x,y,test_size=0.2)"
   ]
  },
  {
   "cell_type": "code",
   "execution_count": 4,
   "metadata": {},
   "outputs": [
    {
     "name": "stdout",
     "output_type": "stream",
     "text": [
      "Fitting 5 folds for each of 50 candidates, totalling 250 fits\n",
      "[CV 1/5] END leaf_size=5, metric=minkowski, n_neighbors=1, p=1;, score=0.779 total time=   0.0s\n",
      "[CV 2/5] END leaf_size=5, metric=minkowski, n_neighbors=1, p=1;, score=0.783 total time=   0.1s\n",
      "[CV 3/5] END leaf_size=5, metric=minkowski, n_neighbors=1, p=1;, score=0.789 total time=   0.0s\n",
      "[CV 4/5] END leaf_size=5, metric=minkowski, n_neighbors=1, p=1;, score=0.773 total time=   0.1s\n",
      "[CV 5/5] END leaf_size=5, metric=minkowski, n_neighbors=1, p=1;, score=0.767 total time=   0.0s\n",
      "[CV 1/5] END leaf_size=5, metric=minkowski, n_neighbors=1, p=2;, score=0.665 total time=   0.0s\n",
      "[CV 2/5] END leaf_size=5, metric=minkowski, n_neighbors=1, p=2;, score=0.704 total time=   0.0s\n",
      "[CV 3/5] END leaf_size=5, metric=minkowski, n_neighbors=1, p=2;, score=0.738 total time=   0.0s\n",
      "[CV 4/5] END leaf_size=5, metric=minkowski, n_neighbors=1, p=2;, score=0.714 total time=   0.0s\n",
      "[CV 5/5] END leaf_size=5, metric=minkowski, n_neighbors=1, p=2;, score=0.719 total time=   0.0s\n",
      "[CV 1/5] END leaf_size=5, metric=minkowski, n_neighbors=5, p=1;, score=0.779 total time=   0.1s\n",
      "[CV 2/5] END leaf_size=5, metric=minkowski, n_neighbors=5, p=1;, score=0.797 total time=   0.0s\n",
      "[CV 3/5] END leaf_size=5, metric=minkowski, n_neighbors=5, p=1;, score=0.805 total time=   0.0s\n",
      "[CV 4/5] END leaf_size=5, metric=minkowski, n_neighbors=5, p=1;, score=0.771 total time=   0.0s\n",
      "[CV 5/5] END leaf_size=5, metric=minkowski, n_neighbors=5, p=1;, score=0.763 total time=   0.0s\n",
      "[CV 1/5] END leaf_size=5, metric=minkowski, n_neighbors=5, p=2;, score=0.686 total time=   0.0s\n",
      "[CV 2/5] END leaf_size=5, metric=minkowski, n_neighbors=5, p=2;, score=0.714 total time=   0.0s\n",
      "[CV 3/5] END leaf_size=5, metric=minkowski, n_neighbors=5, p=2;, score=0.722 total time=   0.0s\n",
      "[CV 4/5] END leaf_size=5, metric=minkowski, n_neighbors=5, p=2;, score=0.698 total time=   0.0s\n",
      "[CV 5/5] END leaf_size=5, metric=minkowski, n_neighbors=5, p=2;, score=0.696 total time=   0.0s\n",
      "[CV 1/5] END leaf_size=5, metric=minkowski, n_neighbors=10, p=1;, score=0.777 total time=   0.0s\n",
      "[CV 2/5] END leaf_size=5, metric=minkowski, n_neighbors=10, p=1;, score=0.795 total time=   0.0s\n",
      "[CV 3/5] END leaf_size=5, metric=minkowski, n_neighbors=10, p=1;, score=0.807 total time=   0.0s\n",
      "[CV 4/5] END leaf_size=5, metric=minkowski, n_neighbors=10, p=1;, score=0.777 total time=   0.0s\n",
      "[CV 5/5] END leaf_size=5, metric=minkowski, n_neighbors=10, p=1;, score=0.737 total time=   0.0s\n",
      "[CV 1/5] END leaf_size=5, metric=minkowski, n_neighbors=10, p=2;, score=0.698 total time=   0.0s\n",
      "[CV 2/5] END leaf_size=5, metric=minkowski, n_neighbors=10, p=2;, score=0.710 total time=   0.0s\n",
      "[CV 3/5] END leaf_size=5, metric=minkowski, n_neighbors=10, p=2;, score=0.700 total time=   0.0s\n",
      "[CV 4/5] END leaf_size=5, metric=minkowski, n_neighbors=10, p=2;, score=0.710 total time=   0.0s\n",
      "[CV 5/5] END leaf_size=5, metric=minkowski, n_neighbors=10, p=2;, score=0.674 total time=   0.0s\n",
      "[CV 1/5] END leaf_size=5, metric=minkowski, n_neighbors=15, p=1;, score=0.755 total time=   0.0s\n",
      "[CV 2/5] END leaf_size=5, metric=minkowski, n_neighbors=15, p=1;, score=0.787 total time=   0.0s\n",
      "[CV 3/5] END leaf_size=5, metric=minkowski, n_neighbors=15, p=1;, score=0.781 total time=   0.0s\n",
      "[CV 4/5] END leaf_size=5, metric=minkowski, n_neighbors=15, p=1;, score=0.767 total time=   0.0s\n",
      "[CV 5/5] END leaf_size=5, metric=minkowski, n_neighbors=15, p=1;, score=0.741 total time=   0.0s\n",
      "[CV 1/5] END leaf_size=5, metric=minkowski, n_neighbors=15, p=2;, score=0.694 total time=   0.0s\n",
      "[CV 2/5] END leaf_size=5, metric=minkowski, n_neighbors=15, p=2;, score=0.728 total time=   0.0s\n",
      "[CV 3/5] END leaf_size=5, metric=minkowski, n_neighbors=15, p=2;, score=0.694 total time=   0.0s\n",
      "[CV 4/5] END leaf_size=5, metric=minkowski, n_neighbors=15, p=2;, score=0.720 total time=   0.0s\n",
      "[CV 5/5] END leaf_size=5, metric=minkowski, n_neighbors=15, p=2;, score=0.684 total time=   0.0s\n",
      "[CV 1/5] END leaf_size=5, metric=minkowski, n_neighbors=100, p=1;, score=0.726 total time=   0.0s\n",
      "[CV 2/5] END leaf_size=5, metric=minkowski, n_neighbors=100, p=1;, score=0.761 total time=   0.0s\n",
      "[CV 3/5] END leaf_size=5, metric=minkowski, n_neighbors=100, p=1;, score=0.726 total time=   0.0s\n",
      "[CV 4/5] END leaf_size=5, metric=minkowski, n_neighbors=100, p=1;, score=0.730 total time=   0.0s\n",
      "[CV 5/5] END leaf_size=5, metric=minkowski, n_neighbors=100, p=1;, score=0.711 total time=   0.0s\n",
      "[CV 1/5] END leaf_size=5, metric=minkowski, n_neighbors=100, p=2;, score=0.682 total time=   0.0s\n",
      "[CV 2/5] END leaf_size=5, metric=minkowski, n_neighbors=100, p=2;, score=0.708 total time=   0.0s\n",
      "[CV 3/5] END leaf_size=5, metric=minkowski, n_neighbors=100, p=2;, score=0.677 total time=   0.0s\n",
      "[CV 4/5] END leaf_size=5, metric=minkowski, n_neighbors=100, p=2;, score=0.692 total time=   0.0s\n",
      "[CV 5/5] END leaf_size=5, metric=minkowski, n_neighbors=100, p=2;, score=0.664 total time=   0.0s\n",
      "[CV 1/5] END leaf_size=10, metric=minkowski, n_neighbors=1, p=1;, score=0.779 total time=   0.0s\n",
      "[CV 2/5] END leaf_size=10, metric=minkowski, n_neighbors=1, p=1;, score=0.783 total time=   0.0s\n",
      "[CV 3/5] END leaf_size=10, metric=minkowski, n_neighbors=1, p=1;, score=0.789 total time=   0.0s\n",
      "[CV 4/5] END leaf_size=10, metric=minkowski, n_neighbors=1, p=1;, score=0.773 total time=   0.0s\n",
      "[CV 5/5] END leaf_size=10, metric=minkowski, n_neighbors=1, p=1;, score=0.767 total time=   0.0s\n",
      "[CV 1/5] END leaf_size=10, metric=minkowski, n_neighbors=1, p=2;, score=0.665 total time=   0.0s\n",
      "[CV 2/5] END leaf_size=10, metric=minkowski, n_neighbors=1, p=2;, score=0.704 total time=   0.0s\n",
      "[CV 3/5] END leaf_size=10, metric=minkowski, n_neighbors=1, p=2;, score=0.738 total time=   0.0s\n",
      "[CV 4/5] END leaf_size=10, metric=minkowski, n_neighbors=1, p=2;, score=0.714 total time=   0.0s\n",
      "[CV 5/5] END leaf_size=10, metric=minkowski, n_neighbors=1, p=2;, score=0.719 total time=   0.0s\n",
      "[CV 1/5] END leaf_size=10, metric=minkowski, n_neighbors=5, p=1;, score=0.779 total time=   0.0s\n",
      "[CV 2/5] END leaf_size=10, metric=minkowski, n_neighbors=5, p=1;, score=0.797 total time=   0.0s\n",
      "[CV 3/5] END leaf_size=10, metric=minkowski, n_neighbors=5, p=1;, score=0.805 total time=   0.0s\n",
      "[CV 4/5] END leaf_size=10, metric=minkowski, n_neighbors=5, p=1;, score=0.771 total time=   0.0s\n",
      "[CV 5/5] END leaf_size=10, metric=minkowski, n_neighbors=5, p=1;, score=0.763 total time=   0.0s\n",
      "[CV 1/5] END leaf_size=10, metric=minkowski, n_neighbors=5, p=2;, score=0.686 total time=   0.0s\n",
      "[CV 2/5] END leaf_size=10, metric=minkowski, n_neighbors=5, p=2;, score=0.714 total time=   0.0s\n",
      "[CV 3/5] END leaf_size=10, metric=minkowski, n_neighbors=5, p=2;, score=0.722 total time=   0.0s\n",
      "[CV 4/5] END leaf_size=10, metric=minkowski, n_neighbors=5, p=2;, score=0.698 total time=   0.0s\n",
      "[CV 5/5] END leaf_size=10, metric=minkowski, n_neighbors=5, p=2;, score=0.696 total time=   0.0s\n",
      "[CV 1/5] END leaf_size=10, metric=minkowski, n_neighbors=10, p=1;, score=0.777 total time=   0.0s\n",
      "[CV 2/5] END leaf_size=10, metric=minkowski, n_neighbors=10, p=1;, score=0.795 total time=   0.0s\n",
      "[CV 3/5] END leaf_size=10, metric=minkowski, n_neighbors=10, p=1;, score=0.807 total time=   0.0s\n",
      "[CV 4/5] END leaf_size=10, metric=minkowski, n_neighbors=10, p=1;, score=0.777 total time=   0.0s\n",
      "[CV 5/5] END leaf_size=10, metric=minkowski, n_neighbors=10, p=1;, score=0.737 total time=   0.0s\n",
      "[CV 1/5] END leaf_size=10, metric=minkowski, n_neighbors=10, p=2;, score=0.698 total time=   0.0s\n",
      "[CV 2/5] END leaf_size=10, metric=minkowski, n_neighbors=10, p=2;, score=0.710 total time=   0.0s\n",
      "[CV 3/5] END leaf_size=10, metric=minkowski, n_neighbors=10, p=2;, score=0.700 total time=   0.0s\n",
      "[CV 4/5] END leaf_size=10, metric=minkowski, n_neighbors=10, p=2;, score=0.710 total time=   0.0s\n",
      "[CV 5/5] END leaf_size=10, metric=minkowski, n_neighbors=10, p=2;, score=0.674 total time=   0.0s\n",
      "[CV 1/5] END leaf_size=10, metric=minkowski, n_neighbors=15, p=1;, score=0.755 total time=   0.0s\n",
      "[CV 2/5] END leaf_size=10, metric=minkowski, n_neighbors=15, p=1;, score=0.787 total time=   0.0s\n",
      "[CV 3/5] END leaf_size=10, metric=minkowski, n_neighbors=15, p=1;, score=0.781 total time=   0.0s\n",
      "[CV 4/5] END leaf_size=10, metric=minkowski, n_neighbors=15, p=1;, score=0.767 total time=   0.0s\n",
      "[CV 5/5] END leaf_size=10, metric=minkowski, n_neighbors=15, p=1;, score=0.741 total time=   0.0s\n",
      "[CV 1/5] END leaf_size=10, metric=minkowski, n_neighbors=15, p=2;, score=0.694 total time=   0.0s\n",
      "[CV 2/5] END leaf_size=10, metric=minkowski, n_neighbors=15, p=2;, score=0.728 total time=   0.0s\n",
      "[CV 3/5] END leaf_size=10, metric=minkowski, n_neighbors=15, p=2;, score=0.694 total time=   0.0s\n",
      "[CV 4/5] END leaf_size=10, metric=minkowski, n_neighbors=15, p=2;, score=0.720 total time=   0.0s\n",
      "[CV 5/5] END leaf_size=10, metric=minkowski, n_neighbors=15, p=2;, score=0.684 total time=   0.0s\n",
      "[CV 1/5] END leaf_size=10, metric=minkowski, n_neighbors=100, p=1;, score=0.726 total time=   0.0s\n",
      "[CV 2/5] END leaf_size=10, metric=minkowski, n_neighbors=100, p=1;, score=0.761 total time=   0.0s\n",
      "[CV 3/5] END leaf_size=10, metric=minkowski, n_neighbors=100, p=1;, score=0.726 total time=   0.0s\n",
      "[CV 4/5] END leaf_size=10, metric=minkowski, n_neighbors=100, p=1;, score=0.730 total time=   0.0s\n",
      "[CV 5/5] END leaf_size=10, metric=minkowski, n_neighbors=100, p=1;, score=0.711 total time=   0.0s\n",
      "[CV 1/5] END leaf_size=10, metric=minkowski, n_neighbors=100, p=2;, score=0.682 total time=   0.0s\n",
      "[CV 2/5] END leaf_size=10, metric=minkowski, n_neighbors=100, p=2;, score=0.708 total time=   0.0s\n",
      "[CV 3/5] END leaf_size=10, metric=minkowski, n_neighbors=100, p=2;, score=0.677 total time=   0.0s\n",
      "[CV 4/5] END leaf_size=10, metric=minkowski, n_neighbors=100, p=2;, score=0.692 total time=   0.0s\n",
      "[CV 5/5] END leaf_size=10, metric=minkowski, n_neighbors=100, p=2;, score=0.664 total time=   0.0s\n",
      "[CV 1/5] END leaf_size=15, metric=minkowski, n_neighbors=1, p=1;, score=0.779 total time=   0.0s\n",
      "[CV 2/5] END leaf_size=15, metric=minkowski, n_neighbors=1, p=1;, score=0.783 total time=   0.0s\n",
      "[CV 3/5] END leaf_size=15, metric=minkowski, n_neighbors=1, p=1;, score=0.789 total time=   0.0s\n",
      "[CV 4/5] END leaf_size=15, metric=minkowski, n_neighbors=1, p=1;, score=0.773 total time=   0.0s\n",
      "[CV 5/5] END leaf_size=15, metric=minkowski, n_neighbors=1, p=1;, score=0.767 total time=   0.0s\n",
      "[CV 1/5] END leaf_size=15, metric=minkowski, n_neighbors=1, p=2;, score=0.665 total time=   0.0s\n",
      "[CV 2/5] END leaf_size=15, metric=minkowski, n_neighbors=1, p=2;, score=0.704 total time=   0.0s\n",
      "[CV 3/5] END leaf_size=15, metric=minkowski, n_neighbors=1, p=2;, score=0.738 total time=   0.0s\n",
      "[CV 4/5] END leaf_size=15, metric=minkowski, n_neighbors=1, p=2;, score=0.714 total time=   0.0s\n",
      "[CV 5/5] END leaf_size=15, metric=minkowski, n_neighbors=1, p=2;, score=0.719 total time=   0.0s\n",
      "[CV 1/5] END leaf_size=15, metric=minkowski, n_neighbors=5, p=1;, score=0.779 total time=   0.0s\n",
      "[CV 2/5] END leaf_size=15, metric=minkowski, n_neighbors=5, p=1;, score=0.797 total time=   0.0s\n",
      "[CV 3/5] END leaf_size=15, metric=minkowski, n_neighbors=5, p=1;, score=0.805 total time=   0.0s\n",
      "[CV 4/5] END leaf_size=15, metric=minkowski, n_neighbors=5, p=1;, score=0.771 total time=   0.0s\n",
      "[CV 5/5] END leaf_size=15, metric=minkowski, n_neighbors=5, p=1;, score=0.763 total time=   0.0s\n",
      "[CV 1/5] END leaf_size=15, metric=minkowski, n_neighbors=5, p=2;, score=0.686 total time=   0.0s\n",
      "[CV 2/5] END leaf_size=15, metric=minkowski, n_neighbors=5, p=2;, score=0.714 total time=   0.0s\n",
      "[CV 3/5] END leaf_size=15, metric=minkowski, n_neighbors=5, p=2;, score=0.722 total time=   0.0s\n",
      "[CV 4/5] END leaf_size=15, metric=minkowski, n_neighbors=5, p=2;, score=0.698 total time=   0.0s\n",
      "[CV 5/5] END leaf_size=15, metric=minkowski, n_neighbors=5, p=2;, score=0.696 total time=   0.0s\n",
      "[CV 1/5] END leaf_size=15, metric=minkowski, n_neighbors=10, p=1;, score=0.777 total time=   0.0s\n",
      "[CV 2/5] END leaf_size=15, metric=minkowski, n_neighbors=10, p=1;, score=0.795 total time=   0.0s\n",
      "[CV 3/5] END leaf_size=15, metric=minkowski, n_neighbors=10, p=1;, score=0.807 total time=   0.0s\n",
      "[CV 4/5] END leaf_size=15, metric=minkowski, n_neighbors=10, p=1;, score=0.777 total time=   0.0s\n",
      "[CV 5/5] END leaf_size=15, metric=minkowski, n_neighbors=10, p=1;, score=0.737 total time=   0.0s\n",
      "[CV 1/5] END leaf_size=15, metric=minkowski, n_neighbors=10, p=2;, score=0.698 total time=   0.0s\n",
      "[CV 2/5] END leaf_size=15, metric=minkowski, n_neighbors=10, p=2;, score=0.710 total time=   0.0s\n",
      "[CV 3/5] END leaf_size=15, metric=minkowski, n_neighbors=10, p=2;, score=0.700 total time=   0.0s\n",
      "[CV 4/5] END leaf_size=15, metric=minkowski, n_neighbors=10, p=2;, score=0.710 total time=   0.0s\n",
      "[CV 5/5] END leaf_size=15, metric=minkowski, n_neighbors=10, p=2;, score=0.674 total time=   0.0s\n",
      "[CV 1/5] END leaf_size=15, metric=minkowski, n_neighbors=15, p=1;, score=0.755 total time=   0.0s\n",
      "[CV 2/5] END leaf_size=15, metric=minkowski, n_neighbors=15, p=1;, score=0.787 total time=   0.0s\n",
      "[CV 3/5] END leaf_size=15, metric=minkowski, n_neighbors=15, p=1;, score=0.781 total time=   0.0s\n",
      "[CV 4/5] END leaf_size=15, metric=minkowski, n_neighbors=15, p=1;, score=0.767 total time=   0.0s\n",
      "[CV 5/5] END leaf_size=15, metric=minkowski, n_neighbors=15, p=1;, score=0.741 total time=   0.0s\n",
      "[CV 1/5] END leaf_size=15, metric=minkowski, n_neighbors=15, p=2;, score=0.694 total time=   0.0s\n",
      "[CV 2/5] END leaf_size=15, metric=minkowski, n_neighbors=15, p=2;, score=0.728 total time=   0.0s\n",
      "[CV 3/5] END leaf_size=15, metric=minkowski, n_neighbors=15, p=2;, score=0.694 total time=   0.0s\n",
      "[CV 4/5] END leaf_size=15, metric=minkowski, n_neighbors=15, p=2;, score=0.720 total time=   0.0s\n",
      "[CV 5/5] END leaf_size=15, metric=minkowski, n_neighbors=15, p=2;, score=0.684 total time=   0.0s\n",
      "[CV 1/5] END leaf_size=15, metric=minkowski, n_neighbors=100, p=1;, score=0.726 total time=   0.0s\n",
      "[CV 2/5] END leaf_size=15, metric=minkowski, n_neighbors=100, p=1;, score=0.761 total time=   0.0s\n",
      "[CV 3/5] END leaf_size=15, metric=minkowski, n_neighbors=100, p=1;, score=0.726 total time=   0.0s\n",
      "[CV 4/5] END leaf_size=15, metric=minkowski, n_neighbors=100, p=1;, score=0.730 total time=   0.0s\n",
      "[CV 5/5] END leaf_size=15, metric=minkowski, n_neighbors=100, p=1;, score=0.711 total time=   0.0s\n",
      "[CV 1/5] END leaf_size=15, metric=minkowski, n_neighbors=100, p=2;, score=0.682 total time=   0.0s\n",
      "[CV 2/5] END leaf_size=15, metric=minkowski, n_neighbors=100, p=2;, score=0.708 total time=   0.0s\n",
      "[CV 3/5] END leaf_size=15, metric=minkowski, n_neighbors=100, p=2;, score=0.677 total time=   0.0s\n",
      "[CV 4/5] END leaf_size=15, metric=minkowski, n_neighbors=100, p=2;, score=0.692 total time=   0.0s\n",
      "[CV 5/5] END leaf_size=15, metric=minkowski, n_neighbors=100, p=2;, score=0.664 total time=   0.0s\n",
      "[CV 1/5] END leaf_size=20, metric=minkowski, n_neighbors=1, p=1;, score=0.779 total time=   0.0s\n",
      "[CV 2/5] END leaf_size=20, metric=minkowski, n_neighbors=1, p=1;, score=0.783 total time=   0.0s\n",
      "[CV 3/5] END leaf_size=20, metric=minkowski, n_neighbors=1, p=1;, score=0.789 total time=   0.0s\n",
      "[CV 4/5] END leaf_size=20, metric=minkowski, n_neighbors=1, p=1;, score=0.773 total time=   0.0s\n",
      "[CV 5/5] END leaf_size=20, metric=minkowski, n_neighbors=1, p=1;, score=0.767 total time=   0.0s\n",
      "[CV 1/5] END leaf_size=20, metric=minkowski, n_neighbors=1, p=2;, score=0.665 total time=   0.0s\n",
      "[CV 2/5] END leaf_size=20, metric=minkowski, n_neighbors=1, p=2;, score=0.704 total time=   0.0s\n",
      "[CV 3/5] END leaf_size=20, metric=minkowski, n_neighbors=1, p=2;, score=0.738 total time=   0.0s\n",
      "[CV 4/5] END leaf_size=20, metric=minkowski, n_neighbors=1, p=2;, score=0.714 total time=   0.0s\n",
      "[CV 5/5] END leaf_size=20, metric=minkowski, n_neighbors=1, p=2;, score=0.719 total time=   0.0s\n",
      "[CV 1/5] END leaf_size=20, metric=minkowski, n_neighbors=5, p=1;, score=0.779 total time=   0.0s\n",
      "[CV 2/5] END leaf_size=20, metric=minkowski, n_neighbors=5, p=1;, score=0.797 total time=   0.0s\n",
      "[CV 3/5] END leaf_size=20, metric=minkowski, n_neighbors=5, p=1;, score=0.805 total time=   0.0s\n",
      "[CV 4/5] END leaf_size=20, metric=minkowski, n_neighbors=5, p=1;, score=0.771 total time=   0.0s\n",
      "[CV 5/5] END leaf_size=20, metric=minkowski, n_neighbors=5, p=1;, score=0.763 total time=   0.0s\n",
      "[CV 1/5] END leaf_size=20, metric=minkowski, n_neighbors=5, p=2;, score=0.686 total time=   0.0s\n",
      "[CV 2/5] END leaf_size=20, metric=minkowski, n_neighbors=5, p=2;, score=0.714 total time=   0.0s\n",
      "[CV 3/5] END leaf_size=20, metric=minkowski, n_neighbors=5, p=2;, score=0.722 total time=   0.0s\n",
      "[CV 4/5] END leaf_size=20, metric=minkowski, n_neighbors=5, p=2;, score=0.698 total time=   0.0s\n",
      "[CV 5/5] END leaf_size=20, metric=minkowski, n_neighbors=5, p=2;, score=0.696 total time=   0.0s\n",
      "[CV 1/5] END leaf_size=20, metric=minkowski, n_neighbors=10, p=1;, score=0.777 total time=   0.0s\n",
      "[CV 2/5] END leaf_size=20, metric=minkowski, n_neighbors=10, p=1;, score=0.795 total time=   0.0s\n",
      "[CV 3/5] END leaf_size=20, metric=minkowski, n_neighbors=10, p=1;, score=0.807 total time=   0.0s\n",
      "[CV 4/5] END leaf_size=20, metric=minkowski, n_neighbors=10, p=1;, score=0.777 total time=   0.0s\n",
      "[CV 5/5] END leaf_size=20, metric=minkowski, n_neighbors=10, p=1;, score=0.737 total time=   0.0s\n",
      "[CV 1/5] END leaf_size=20, metric=minkowski, n_neighbors=10, p=2;, score=0.698 total time=   0.0s\n",
      "[CV 2/5] END leaf_size=20, metric=minkowski, n_neighbors=10, p=2;, score=0.710 total time=   0.0s\n",
      "[CV 3/5] END leaf_size=20, metric=minkowski, n_neighbors=10, p=2;, score=0.700 total time=   0.0s\n",
      "[CV 4/5] END leaf_size=20, metric=minkowski, n_neighbors=10, p=2;, score=0.710 total time=   0.0s\n",
      "[CV 5/5] END leaf_size=20, metric=minkowski, n_neighbors=10, p=2;, score=0.674 total time=   0.0s\n",
      "[CV 1/5] END leaf_size=20, metric=minkowski, n_neighbors=15, p=1;, score=0.755 total time=   0.0s\n",
      "[CV 2/5] END leaf_size=20, metric=minkowski, n_neighbors=15, p=1;, score=0.787 total time=   0.0s\n",
      "[CV 3/5] END leaf_size=20, metric=minkowski, n_neighbors=15, p=1;, score=0.781 total time=   0.0s\n",
      "[CV 4/5] END leaf_size=20, metric=minkowski, n_neighbors=15, p=1;, score=0.767 total time=   0.0s\n",
      "[CV 5/5] END leaf_size=20, metric=minkowski, n_neighbors=15, p=1;, score=0.741 total time=   0.0s\n",
      "[CV 1/5] END leaf_size=20, metric=minkowski, n_neighbors=15, p=2;, score=0.694 total time=   0.0s\n",
      "[CV 2/5] END leaf_size=20, metric=minkowski, n_neighbors=15, p=2;, score=0.728 total time=   0.0s\n",
      "[CV 3/5] END leaf_size=20, metric=minkowski, n_neighbors=15, p=2;, score=0.694 total time=   0.0s\n",
      "[CV 4/5] END leaf_size=20, metric=minkowski, n_neighbors=15, p=2;, score=0.720 total time=   0.0s\n",
      "[CV 5/5] END leaf_size=20, metric=minkowski, n_neighbors=15, p=2;, score=0.684 total time=   0.0s\n",
      "[CV 1/5] END leaf_size=20, metric=minkowski, n_neighbors=100, p=1;, score=0.726 total time=   0.0s\n",
      "[CV 2/5] END leaf_size=20, metric=minkowski, n_neighbors=100, p=1;, score=0.761 total time=   0.0s\n",
      "[CV 3/5] END leaf_size=20, metric=minkowski, n_neighbors=100, p=1;, score=0.726 total time=   0.0s\n",
      "[CV 4/5] END leaf_size=20, metric=minkowski, n_neighbors=100, p=1;, score=0.730 total time=   0.0s\n",
      "[CV 5/5] END leaf_size=20, metric=minkowski, n_neighbors=100, p=1;, score=0.711 total time=   0.0s\n",
      "[CV 1/5] END leaf_size=20, metric=minkowski, n_neighbors=100, p=2;, score=0.682 total time=   0.0s\n",
      "[CV 2/5] END leaf_size=20, metric=minkowski, n_neighbors=100, p=2;, score=0.708 total time=   0.0s\n",
      "[CV 3/5] END leaf_size=20, metric=minkowski, n_neighbors=100, p=2;, score=0.677 total time=   0.0s\n",
      "[CV 4/5] END leaf_size=20, metric=minkowski, n_neighbors=100, p=2;, score=0.692 total time=   0.0s\n",
      "[CV 5/5] END leaf_size=20, metric=minkowski, n_neighbors=100, p=2;, score=0.664 total time=   0.0s\n",
      "[CV 1/5] END leaf_size=50, metric=minkowski, n_neighbors=1, p=1;, score=0.779 total time=   0.0s\n",
      "[CV 2/5] END leaf_size=50, metric=minkowski, n_neighbors=1, p=1;, score=0.783 total time=   0.0s\n",
      "[CV 3/5] END leaf_size=50, metric=minkowski, n_neighbors=1, p=1;, score=0.789 total time=   0.0s\n",
      "[CV 4/5] END leaf_size=50, metric=minkowski, n_neighbors=1, p=1;, score=0.773 total time=   0.0s\n",
      "[CV 5/5] END leaf_size=50, metric=minkowski, n_neighbors=1, p=1;, score=0.767 total time=   0.0s\n",
      "[CV 1/5] END leaf_size=50, metric=minkowski, n_neighbors=1, p=2;, score=0.665 total time=   0.0s\n",
      "[CV 2/5] END leaf_size=50, metric=minkowski, n_neighbors=1, p=2;, score=0.704 total time=   0.0s\n",
      "[CV 3/5] END leaf_size=50, metric=minkowski, n_neighbors=1, p=2;, score=0.738 total time=   0.0s\n",
      "[CV 4/5] END leaf_size=50, metric=minkowski, n_neighbors=1, p=2;, score=0.714 total time=   0.0s\n",
      "[CV 5/5] END leaf_size=50, metric=minkowski, n_neighbors=1, p=2;, score=0.719 total time=   0.0s\n",
      "[CV 1/5] END leaf_size=50, metric=minkowski, n_neighbors=5, p=1;, score=0.779 total time=   0.0s\n",
      "[CV 2/5] END leaf_size=50, metric=minkowski, n_neighbors=5, p=1;, score=0.797 total time=   0.0s\n",
      "[CV 3/5] END leaf_size=50, metric=minkowski, n_neighbors=5, p=1;, score=0.805 total time=   0.0s\n",
      "[CV 4/5] END leaf_size=50, metric=minkowski, n_neighbors=5, p=1;, score=0.771 total time=   0.0s\n",
      "[CV 5/5] END leaf_size=50, metric=minkowski, n_neighbors=5, p=1;, score=0.763 total time=   0.0s\n",
      "[CV 1/5] END leaf_size=50, metric=minkowski, n_neighbors=5, p=2;, score=0.686 total time=   0.0s\n",
      "[CV 2/5] END leaf_size=50, metric=minkowski, n_neighbors=5, p=2;, score=0.714 total time=   0.0s\n",
      "[CV 3/5] END leaf_size=50, metric=minkowski, n_neighbors=5, p=2;, score=0.722 total time=   0.0s\n",
      "[CV 4/5] END leaf_size=50, metric=minkowski, n_neighbors=5, p=2;, score=0.698 total time=   0.0s\n",
      "[CV 5/5] END leaf_size=50, metric=minkowski, n_neighbors=5, p=2;, score=0.696 total time=   0.0s\n",
      "[CV 1/5] END leaf_size=50, metric=minkowski, n_neighbors=10, p=1;, score=0.777 total time=   0.0s\n",
      "[CV 2/5] END leaf_size=50, metric=minkowski, n_neighbors=10, p=1;, score=0.795 total time=   0.0s\n",
      "[CV 3/5] END leaf_size=50, metric=minkowski, n_neighbors=10, p=1;, score=0.807 total time=   0.0s\n",
      "[CV 4/5] END leaf_size=50, metric=minkowski, n_neighbors=10, p=1;, score=0.777 total time=   0.0s\n",
      "[CV 5/5] END leaf_size=50, metric=minkowski, n_neighbors=10, p=1;, score=0.737 total time=   0.0s\n",
      "[CV 1/5] END leaf_size=50, metric=minkowski, n_neighbors=10, p=2;, score=0.698 total time=   0.0s\n",
      "[CV 2/5] END leaf_size=50, metric=minkowski, n_neighbors=10, p=2;, score=0.710 total time=   0.0s\n",
      "[CV 3/5] END leaf_size=50, metric=minkowski, n_neighbors=10, p=2;, score=0.700 total time=   0.0s\n",
      "[CV 4/5] END leaf_size=50, metric=minkowski, n_neighbors=10, p=2;, score=0.710 total time=   0.0s\n",
      "[CV 5/5] END leaf_size=50, metric=minkowski, n_neighbors=10, p=2;, score=0.674 total time=   0.0s\n",
      "[CV 1/5] END leaf_size=50, metric=minkowski, n_neighbors=15, p=1;, score=0.755 total time=   0.0s\n",
      "[CV 2/5] END leaf_size=50, metric=minkowski, n_neighbors=15, p=1;, score=0.787 total time=   0.0s\n",
      "[CV 3/5] END leaf_size=50, metric=minkowski, n_neighbors=15, p=1;, score=0.781 total time=   0.0s\n",
      "[CV 4/5] END leaf_size=50, metric=minkowski, n_neighbors=15, p=1;, score=0.767 total time=   0.0s\n",
      "[CV 5/5] END leaf_size=50, metric=minkowski, n_neighbors=15, p=1;, score=0.741 total time=   0.0s\n",
      "[CV 1/5] END leaf_size=50, metric=minkowski, n_neighbors=15, p=2;, score=0.694 total time=   0.0s\n",
      "[CV 2/5] END leaf_size=50, metric=minkowski, n_neighbors=15, p=2;, score=0.728 total time=   0.0s\n",
      "[CV 3/5] END leaf_size=50, metric=minkowski, n_neighbors=15, p=2;, score=0.694 total time=   0.0s\n",
      "[CV 4/5] END leaf_size=50, metric=minkowski, n_neighbors=15, p=2;, score=0.720 total time=   0.0s\n",
      "[CV 5/5] END leaf_size=50, metric=minkowski, n_neighbors=15, p=2;, score=0.684 total time=   0.0s\n",
      "[CV 1/5] END leaf_size=50, metric=minkowski, n_neighbors=100, p=1;, score=0.726 total time=   0.0s\n",
      "[CV 2/5] END leaf_size=50, metric=minkowski, n_neighbors=100, p=1;, score=0.761 total time=   0.0s\n",
      "[CV 3/5] END leaf_size=50, metric=minkowski, n_neighbors=100, p=1;, score=0.726 total time=   0.0s\n",
      "[CV 4/5] END leaf_size=50, metric=minkowski, n_neighbors=100, p=1;, score=0.730 total time=   0.0s\n",
      "[CV 5/5] END leaf_size=50, metric=minkowski, n_neighbors=100, p=1;, score=0.711 total time=   0.0s\n",
      "[CV 1/5] END leaf_size=50, metric=minkowski, n_neighbors=100, p=2;, score=0.682 total time=   0.0s\n",
      "[CV 2/5] END leaf_size=50, metric=minkowski, n_neighbors=100, p=2;, score=0.708 total time=   0.0s\n",
      "[CV 3/5] END leaf_size=50, metric=minkowski, n_neighbors=100, p=2;, score=0.677 total time=   0.0s\n",
      "[CV 4/5] END leaf_size=50, metric=minkowski, n_neighbors=100, p=2;, score=0.692 total time=   0.0s\n",
      "[CV 5/5] END leaf_size=50, metric=minkowski, n_neighbors=100, p=2;, score=0.664 total time=   0.0s\n"
     ]
    },
    {
     "data": {
      "text/plain": [
       "GridSearchCV(estimator=KNeighborsClassifier(),\n",
       "             param_grid={'leaf_size': [5, 10, 15, 20, 50],\n",
       "                         'metric': ['minkowski'],\n",
       "                         'n_neighbors': [1, 5, 10, 15, 100], 'p': [1, 2]},\n",
       "             verbose=3)"
      ]
     },
     "execution_count": 4,
     "metadata": {},
     "output_type": "execute_result"
    }
   ],
   "source": [
    "param_grid = {\n",
    "    'metric' : ['minkowski'],\n",
    "    'p' : [1, 2],\n",
    "    'n_neighbors' : [1, 5, 10 ,15, 100],\n",
    "    'leaf_size' : [5, 10, 15, 20, 50]\n",
    "}\n",
    "\n",
    "grid = GridSearchCV(KNeighborsClassifier(), param_grid, refit = True, verbose = 3)\n",
    "\n",
    "grid.fit(x_train, y_train)"
   ]
  },
  {
   "cell_type": "code",
   "execution_count": 5,
   "metadata": {},
   "outputs": [
    {
     "name": "stdout",
     "output_type": "stream",
     "text": [
      "Params: {'leaf_size': 5, 'metric': 'minkowski', 'n_neighbors': 5, 'p': 1}\n"
     ]
    }
   ],
   "source": [
    "print(f'Params: {grid.best_params_}')"
   ]
  },
  {
   "cell_type": "code",
   "execution_count": 4,
   "metadata": {},
   "outputs": [
    {
     "name": "stdout",
     "output_type": "stream",
     "text": [
      "KNN time to train: 0.0066 seconds\n"
     ]
    }
   ],
   "source": [
    "start_timer = time.perf_counter()\n",
    "KNmodel = KNeighborsClassifier(n_neighbors =1, metric = 'minkowski', p = 1, leaf_size = 1)\n",
    "KNmodel.fit(x_train, y_train)\n",
    "pickle.dump(KNmodel, open(\"Models/KNN.pickle\", \"wb\"))\n",
    "end_timer = time.perf_counter()\n",
    "print(f\"KNN time to train: {end_timer - start_timer:0.4f} seconds\")\n",
    "y_pred = KNmodel.predict(x_test)"
   ]
  },
  {
   "attachments": {},
   "cell_type": "markdown",
   "metadata": {},
   "source": [
    "### Evaluation"
   ]
  },
  {
   "attachments": {},
   "cell_type": "markdown",
   "metadata": {},
   "source": [
    "#### Accuracy"
   ]
  },
  {
   "cell_type": "code",
   "execution_count": 7,
   "metadata": {},
   "outputs": [
    {
     "name": "stdout",
     "output_type": "stream",
     "text": [
      "KNN Accuracy score:  77.44479495268138 %\n"
     ]
    }
   ],
   "source": [
    "print(\"KNN Accuracy score: \",accuracy_score(y_pred,y_test)*100,\"%\")"
   ]
  },
  {
   "attachments": {},
   "cell_type": "markdown",
   "metadata": {},
   "source": [
    "#### Confusion Matrix"
   ]
  },
  {
   "cell_type": "code",
   "execution_count": 10,
   "metadata": {},
   "outputs": [],
   "source": [
    "font = {'family' : 'normal',\n",
    "    'weight' : 'bold',\n",
    "    'size'   : 22}\n",
    "plt.rc('font', **font)"
   ]
  },
  {
   "cell_type": "code",
   "execution_count": 8,
   "metadata": {},
   "outputs": [
    {
     "data": {
      "text/plain": [
       "<sklearn.metrics._plot.confusion_matrix.ConfusionMatrixDisplay at 0x20d7f3595f8>"
      ]
     },
     "execution_count": 8,
     "metadata": {},
     "output_type": "execute_result"
    },
    {
     "data": {
      "image/png": "[encoded data removed]",
      "text/plain": [
       "<Figure size 720x720 with 2 Axes>"
      ]
     },
     "metadata": {
      "needs_background": "light"
     },
     "output_type": "display_data"
    }
   ],
   "source": [
    "c = confusion_matrix(y_test, y_pred)\n",
    "cp = ConfusionMatrixDisplay(c, display_labels=[\"Male\", \"Female\"])\n",
    "fig, ax = plt.subplots(figsize=(10,10))\n",
    "cp.plot(ax = ax)"
   ]
  },
  {
   "attachments": {},
   "cell_type": "markdown",
   "metadata": {},
   "source": [
    "#### Classification Report"
   ]
  },
  {
   "cell_type": "code",
   "execution_count": 9,
   "metadata": {},
   "outputs": [
    {
     "name": "stdout",
     "output_type": "stream",
     "text": [
      "\t\t\tKNN report:\n",
      "               precision    recall  f1-score   support\n",
      "\n",
      "      female      0.774     0.786     0.780       323\n",
      "        male      0.775     0.762     0.768       311\n",
      "\n",
      "    accuracy                          0.774       634\n",
      "   macro avg      0.774     0.774     0.774       634\n",
      "weighted avg      0.774     0.774     0.774       634\n",
      "\n"
     ]
    }
   ],
   "source": [
    "print(\"\\t\\t\\tKNN report:\\n\",classification_report(y_pred,y_test, digits=3))"
   ]
  }
 ],
 "metadata": {
  "kernelspec": {
   "display_name": "Python 3",
   "language": "python",
   "name": "python3"
  },
  "language_info": {
   "codemirror_mode": {
    "name": "ipython",
    "version": 3
   },
   "file_extension": ".py",
   "mimetype": "text/x-python",
   "name": "python",
   "nbconvert_exporter": "python",
   "pygments_lexer": "ipython3",
   "version": "3.7.0 (v3.7.0:1bf9cc5093, Jun 27 2018, 04:59:51) [MSC v.1914 64 bit (AMD64)]"
  },
  "orig_nbformat": 4,
  "vscode": {
   "interpreter": {
    "hash": "ba52e550df5dd7c4d4156f043c0b54db698368195948b3b2935474e916126db8"
   }
  }
 },
 "nbformat": 4,
 "nbformat_minor": 2
}
